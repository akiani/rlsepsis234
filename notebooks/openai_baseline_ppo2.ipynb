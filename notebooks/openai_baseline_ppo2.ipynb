{
 "cells": [
  {
   "cell_type": "code",
   "execution_count": 1,
   "metadata": {},
   "outputs": [],
   "source": [
    "import sys\n",
    "sys.path.append(\"../\")\n",
    "sys.path.append(\"../baselines\")\n",
    "\n",
    "import gym\n",
    "from baselines.trpo_mpi import trpo_mpi\n",
    "from baselines import logger\n",
    "from functools import partial\n",
    "\n",
    "\n",
    "import pandas as pd\n",
    "import matplotlib.pyplot as plt\n",
    "import numpy as np"
   ]
  },
  {
   "cell_type": "code",
   "execution_count": 3,
   "metadata": {},
   "outputs": [
    {
     "name": "stdout",
     "output_type": "stream",
     "text": [
      "Logging to ppo2-log\n",
      "Init param sum 3.204\n",
      "********** Iteration 0 ************\n",
      "\u001b[35msampling\u001b[0m\n",
      "\u001b[35mdone in 10.169 seconds\u001b[0m\n",
      "\u001b[35mcomputegrad\u001b[0m\n",
      "\u001b[35mdone in 0.212 seconds\u001b[0m\n",
      "\u001b[35mcg\u001b[0m\n",
      "      iter residual norm  soln norm\n",
      "         0     0.0358          0\n",
      "         1    0.00674       3.93\n",
      "         2    0.00178       5.34\n",
      "         3    0.00049       5.89\n",
      "         4   0.000115       6.11\n",
      "         5   3.13e-05       6.18\n",
      "         6   6.82e-06        6.2\n",
      "         7   1.27e-06       6.21\n",
      "         8    2.4e-07       6.21\n",
      "         9   5.52e-08       6.21\n",
      "        10   1.13e-08       6.21\n",
      "\u001b[35mdone in 0.263 seconds\u001b[0m\n",
      "Expected: 0.044 Actual: 0.048\n",
      "Stepsize OK!\n",
      "\u001b[35mvf\u001b[0m\n",
      "\u001b[35mdone in 0.550 seconds\u001b[0m\n",
      "----------------------------------\n",
      "| entloss         | 0.0          |\n",
      "| entropy         | 3.1772695    |\n",
      "| EpisodesSoFar   | 899          |\n",
      "| EpLenMean       | 1.1          |\n",
      "| EpRewMean       | -12.8        |\n",
      "| EpThisIter      | 899          |\n",
      "| ev_tdlam_before | -0.00172     |\n",
      "| meankl          | 0.0007578261 |\n",
      "| optimgain       | 0.04763681   |\n",
      "| surrgain        | 0.04763681   |\n",
      "| TimeElapsed     | 11.6         |\n",
      "| TimestepsSoFar  | 1024         |\n",
      "----------------------------------\n"
     ]
    }
   ],
   "source": [
    "logger.configure(\"ppo2-log\")\n",
    "env = gym.make(\"MIMIC-Sepsis-v0\")\n",
    "env.num_envs=1\n",
    "\n",
    "model = trpo_mpi.learn(env=env, network='mlp', total_timesteps=1000)\n",
    "\n",
    "env.close()"
   ]
  },
  {
   "cell_type": "code",
   "execution_count": null,
   "metadata": {},
   "outputs": [],
   "source": []
  }
 ],
 "metadata": {
  "kernelspec": {
   "display_name": "cs234_project",
   "language": "python",
   "name": "cs234_project"
  },
  "language_info": {
   "codemirror_mode": {
    "name": "ipython",
    "version": 3
   },
   "file_extension": ".py",
   "mimetype": "text/x-python",
   "name": "python",
   "nbconvert_exporter": "python",
   "pygments_lexer": "ipython3",
   "version": "3.6.5"
  }
 },
 "nbformat": 4,
 "nbformat_minor": 2
}
