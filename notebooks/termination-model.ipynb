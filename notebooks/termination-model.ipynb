{
 "cells": [
  {
   "cell_type": "code",
   "execution_count": 1,
   "metadata": {},
   "outputs": [],
   "source": [
    "from __future__ import absolute_import, division, print_function\n",
    "\n",
    "import pandas as pd\n",
    "import numpy as np\n",
    "import sklearn as sk\n",
    "import os\n",
    "import tensorflow as tf\n",
    "from tensorflow import keras\n",
    "import seaborn as sns\n",
    "import h5py as h5py\n",
    "from time import time\n",
    "import matplotlib.pyplot as plt\n",
    "from sklearn.preprocessing import OneHotEncoder\n",
    "import seaborn as sns\n",
    "\n",
    "# %load_ext autoreload\n",
    "# %autoreload 2"
   ]
  },
  {
   "cell_type": "code",
   "execution_count": 2,
   "metadata": {},
   "outputs": [],
   "source": [
    "data = np.load(\"processed_data.npz\")"
   ]
  },
  {
   "cell_type": "code",
   "execution_count": 3,
   "metadata": {},
   "outputs": [
    {
     "data": {
      "text/plain": [
       "['x_train', 'y_train', 'x_test', 'y_test']"
      ]
     },
     "execution_count": 3,
     "metadata": {},
     "output_type": "execute_result"
    }
   ],
   "source": [
    "data.files\n"
   ]
  },
  {
   "cell_type": "code",
   "execution_count": 4,
   "metadata": {},
   "outputs": [
    {
     "data": {
      "text/plain": [
       "<matplotlib.axes._subplots.AxesSubplot at 0x1277c6a20>"
      ]
     },
     "execution_count": 4,
     "metadata": {},
     "output_type": "execute_result"
    },
    {
     "data": {
      "image/png": "[encoded data removed]",
      "text/plain": [
       "<Figure size 432x288 with 1 Axes>"
      ]
     },
     "metadata": {
      "needs_background": "light"
     },
     "output_type": "display_data"
    }
   ],
   "source": [
    "sns.distplot(data['x_train'][:,46:47])"
   ]
  },
  {
   "cell_type": "code",
   "execution_count": 5,
   "metadata": {},
   "outputs": [],
   "source": [
    "data_path = \"../cs238_sepsis_rl/data/\"\n",
    "final_df_train = pd.read_csv(data_path + 'train_state_action_reward_df.csv')\n",
    "final_df_test = pd.read_csv(data_path+ 'test_state_action_reward_df.csv')"
   ]
  },
  {
   "cell_type": "code",
   "execution_count": 6,
   "metadata": {},
   "outputs": [
    {
     "data": {
      "text/plain": [
       "(153582, 47)"
      ]
     },
     "execution_count": 6,
     "metadata": {},
     "output_type": "execute_result"
    }
   ],
   "source": [
    "data['x_train'].shape"
   ]
  },
  {
   "cell_type": "code",
   "execution_count": 7,
   "metadata": {},
   "outputs": [],
   "source": [
    "# add timestamps per episode\n",
    "final_df_test['time_step'] =  final_df_test.groupby(['subject_id','hadm_id','icustay_id']).cumcount()+1\n",
    "final_df_train['time_step'] =  final_df_train.groupby(['subject_id','hadm_id','icustay_id']).cumcount()+1"
   ]
  },
  {
   "cell_type": "code",
   "execution_count": 8,
   "metadata": {},
   "outputs": [
    {
     "data": {
      "text/plain": [
       "(array([1.3700e+04, 0.0000e+00, 1.3443e+04, 0.0000e+00, 0.0000e+00,\n",
       "        1.3174e+04, 0.0000e+00, 1.2830e+04, 0.0000e+00, 0.0000e+00,\n",
       "        1.2539e+04, 0.0000e+00, 0.0000e+00, 1.2220e+04, 0.0000e+00,\n",
       "        1.1909e+04, 0.0000e+00, 0.0000e+00, 1.1409e+04, 0.0000e+00,\n",
       "        0.0000e+00, 1.0659e+04, 0.0000e+00, 9.6770e+03, 0.0000e+00,\n",
       "        0.0000e+00, 8.6580e+03, 0.0000e+00, 7.6900e+03, 0.0000e+00,\n",
       "        0.0000e+00, 6.4720e+03, 0.0000e+00, 0.0000e+00, 3.4410e+03,\n",
       "        0.0000e+00, 2.1310e+03, 0.0000e+00, 0.0000e+00, 1.5170e+03,\n",
       "        0.0000e+00, 0.0000e+00, 1.1640e+03, 0.0000e+00, 9.4700e+02,\n",
       "        0.0000e+00, 0.0000e+00, 1.0000e+00, 0.0000e+00, 1.0000e+00]),\n",
       " array([ 1.  ,  1.38,  1.76,  2.14,  2.52,  2.9 ,  3.28,  3.66,  4.04,\n",
       "         4.42,  4.8 ,  5.18,  5.56,  5.94,  6.32,  6.7 ,  7.08,  7.46,\n",
       "         7.84,  8.22,  8.6 ,  8.98,  9.36,  9.74, 10.12, 10.5 , 10.88,\n",
       "        11.26, 11.64, 12.02, 12.4 , 12.78, 13.16, 13.54, 13.92, 14.3 ,\n",
       "        14.68, 15.06, 15.44, 15.82, 16.2 , 16.58, 16.96, 17.34, 17.72,\n",
       "        18.1 , 18.48, 18.86, 19.24, 19.62, 20.  ]),\n",
       " <a list of 50 Patch objects>)"
      ]
     },
     "execution_count": 8,
     "metadata": {},
     "output_type": "execute_result"
    },
    {
     "data": {
      "image/png": "[encoded data removed]",
      "text/plain": [
       "<Figure size 432x288 with 1 Axes>"
      ]
     },
     "metadata": {
      "needs_background": "light"
     },
     "output_type": "display_data"
    }
   ],
   "source": [
    "plt.hist(final_df_train['time_step'], bins=50)"
   ]
  },
  {
   "cell_type": "code",
   "execution_count": 9,
   "metadata": {},
   "outputs": [
    {
     "data": {
      "text/plain": [
       "(array([3422.,    0., 3361.,    0.,    0., 3310.,    0.,    0., 3220.,\n",
       "           0.,    0., 3148.,    0.,    0., 3087.,    0.,    0., 3000.,\n",
       "           0.,    0., 2900.,    0.,    0., 2728.,    0.,    0., 2497.,\n",
       "           0.,    0., 2270.,    0.,    0., 2049.,    0.,    0., 1720.,\n",
       "           0.,    0.,  929.,    0.,    0.,  583.,    0.,    0.,  416.,\n",
       "           0.,    0.,  326.,    0.,  266.]),\n",
       " array([ 1.  ,  1.34,  1.68,  2.02,  2.36,  2.7 ,  3.04,  3.38,  3.72,\n",
       "         4.06,  4.4 ,  4.74,  5.08,  5.42,  5.76,  6.1 ,  6.44,  6.78,\n",
       "         7.12,  7.46,  7.8 ,  8.14,  8.48,  8.82,  9.16,  9.5 ,  9.84,\n",
       "        10.18, 10.52, 10.86, 11.2 , 11.54, 11.88, 12.22, 12.56, 12.9 ,\n",
       "        13.24, 13.58, 13.92, 14.26, 14.6 , 14.94, 15.28, 15.62, 15.96,\n",
       "        16.3 , 16.64, 16.98, 17.32, 17.66, 18.  ]),\n",
       " <a list of 50 Patch objects>)"
      ]
     },
     "execution_count": 9,
     "metadata": {},
     "output_type": "execute_result"
    },
    {
     "data": {
      "image/png": "[encoded data removed]",
      "text/plain": [
       "<Figure size 432x288 with 1 Axes>"
      ]
     },
     "metadata": {
      "needs_background": "light"
     },
     "output_type": "display_data"
    }
   ],
   "source": [
    "plt.hist(final_df_test['time_step'], bins=50)"
   ]
  },
  {
   "cell_type": "code",
   "execution_count": 10,
   "metadata": {},
   "outputs": [],
   "source": [
    "# remove time steps that are 10+ steps away from end of episode\n",
    "# we will only guess death based on the last 10 episodes\n",
    "episode_lengths_test = final_df_test.groupby(['subject_id','hadm_id','icustay_id']).agg(\"count\").rename(columns={\"interval_start_time\": \"episode_length\"})[\"episode_length\"].reset_index()\n",
    "episode_lengths_train = final_df_train.groupby(['subject_id','hadm_id','icustay_id']).agg(\"count\").rename(columns={\"interval_start_time\": \"episode_length\"})[\"episode_length\"].reset_index()\n",
    "\n",
    "episode_rewards_test = final_df_test.groupby(['subject_id','hadm_id','icustay_id']).agg(\"sum\").rename(columns={\"reward\": \"total_reward\"})[\"total_reward\"].reset_index()\n",
    "episode_rewards_train = final_df_train.groupby(['subject_id','hadm_id','icustay_id']).agg(\"sum\").rename(columns={\"reward\": \"total_reward\"})[\"total_reward\"].reset_index()\n",
    "\n",
    "\n",
    "\n",
    "final_df_train = final_df_train.merge(episode_lengths_train, how=\"outer\", on=['subject_id', 'hadm_id', 'icustay_id'])\n",
    "final_df_test = final_df_test.merge(episode_lengths_test, how=\"outer\", on=['subject_id', 'hadm_id', 'icustay_id'])\n",
    "\n",
    "final_df_train = final_df_train.merge(episode_rewards_train, how=\"outer\", on=['subject_id', 'hadm_id', 'icustay_id'])\n",
    "final_df_test = final_df_test.merge(episode_rewards_test, how=\"outer\", on=['subject_id', 'hadm_id', 'icustay_id'])"
   ]
  },
  {
   "cell_type": "code",
   "execution_count": 11,
   "metadata": {},
   "outputs": [],
   "source": [
    "final_df_train['distance_from_last'] = final_df_train[\"episode_length\"] - final_df_train[\"time_step\"]"
   ]
  },
  {
   "cell_type": "code",
   "execution_count": 12,
   "metadata": {},
   "outputs": [],
   "source": [
    "final_df_test['distance_from_last'] = final_df_test[\"episode_length\"] - final_df_test[\"time_step\"]"
   ]
  },
  {
   "cell_type": "code",
   "execution_count": 13,
   "metadata": {},
   "outputs": [
    {
     "data": {
      "text/plain": [
       "39232"
      ]
     },
     "execution_count": 13,
     "metadata": {},
     "output_type": "execute_result"
    }
   ],
   "source": [
    "len(final_df_test)"
   ]
  },
  {
   "cell_type": "code",
   "execution_count": 14,
   "metadata": {},
   "outputs": [],
   "source": [
    "final_df_test = final_df_test[final_df_test[\"distance_from_last\"]<10]\n",
    "final_df_train = final_df_train[final_df_train[\"distance_from_last\"]<10]"
   ]
  },
  {
   "cell_type": "code",
   "execution_count": 15,
   "metadata": {},
   "outputs": [
    {
     "data": {
      "text/plain": [
       "30673"
      ]
     },
     "execution_count": 15,
     "metadata": {},
     "output_type": "execute_result"
    }
   ],
   "source": [
    "len(final_df_test)"
   ]
  },
  {
   "cell_type": "code",
   "execution_count": 16,
   "metadata": {},
   "outputs": [
    {
     "data": {
      "text/plain": [
       "Index(['subject_id', 'hadm_id', 'icustay_id', 'interval_start_time',\n",
       "       'interval_end_time', 'ALBUMIN', 'ANION GAP', 'BANDS', 'BICARBONATE',\n",
       "       'BILIRUBIN', 'BUN', 'CHLORIDE', 'CREATININE', 'DiasBP', 'Glucose',\n",
       "       'GLUCOSE', 'HeartRate', 'HEMATOCRIT', 'HEMOGLOBIN', 'INR', 'LACTATE',\n",
       "       'MeanBP', 'PaCO2', 'PLATELET', 'POTASSIUM', 'PT', 'PTT', 'RespRate',\n",
       "       'SODIUM', 'SpO2', 'SysBP', 'TempC', 'WBC', 'age', 'is_male',\n",
       "       'race_white', 'race_black', 'race_hispanic', 'race_other', 'height',\n",
       "       'weight', 'vent', 'sofa', 'lods', 'sirs', 'qsofa', 'qsofa_sysbp_score',\n",
       "       'qsofa_gcs_score', 'qsofa_resprate_score', 'elixhauser_hospital',\n",
       "       'blood_culture_positive', 'discrete_action', 'hospital_expire_flag',\n",
       "       'reward', 'row_id', 'row_id_next', 'time_step', 'episode_length',\n",
       "       'total_reward', 'distance_from_last'],\n",
       "      dtype='object')"
      ]
     },
     "execution_count": 16,
     "metadata": {},
     "output_type": "execute_result"
    }
   ],
   "source": [
    "final_df_test.columns"
   ]
  },
  {
   "cell_type": "code",
   "execution_count": 17,
   "metadata": {},
   "outputs": [],
   "source": [
    "def term(df):\n",
    "    if df.reward == 0:\n",
    "        return \"continue\"\n",
    "    if abs(df.reward) == 15:\n",
    "        return \"done\"        \n",
    "\n",
    "# remove one anomly in the data\n",
    "final_df_train=final_df_train[final_df_train[\"total_reward\"]<=15]\n",
    "final_df_test=final_df_test[final_df_test[\"total_reward\"]<=15]\n",
    " \n",
    "labels_train = final_df_train[['reward']].apply(term, axis=1).values.reshape(-1, 1)\n",
    "labels_test = final_df_test[['reward']].apply(term, axis=1).values.reshape(-1, 1)\n",
    "\n",
    "enc = OneHotEncoder()\n",
    "enc.fit(labels_train)\n",
    "\n",
    "labels_train_one_hot = enc.transform(labels_train)\n",
    "labels_test_one_hot = enc.transform(labels_test)"
   ]
  },
  {
   "cell_type": "code",
   "execution_count": 18,
   "metadata": {},
   "outputs": [
    {
     "data": {
      "text/plain": [
       "[array(['continue', 'done'], dtype=object)]"
      ]
     },
     "execution_count": 18,
     "metadata": {},
     "output_type": "execute_result"
    }
   ],
   "source": [
    "enc.categories_"
   ]
  },
  {
   "cell_type": "code",
   "execution_count": 19,
   "metadata": {},
   "outputs": [
    {
     "data": {
      "text/plain": [
       "(121550, 2)"
      ]
     },
     "execution_count": 19,
     "metadata": {},
     "output_type": "execute_result"
    }
   ],
   "source": [
    "labels_train_one_hot.shape"
   ]
  },
  {
   "cell_type": "code",
   "execution_count": 20,
   "metadata": {},
   "outputs": [
    {
     "data": {
      "text/plain": [
       "(121550, 60)"
      ]
     },
     "execution_count": 20,
     "metadata": {},
     "output_type": "execute_result"
    }
   ],
   "source": [
    "final_df_train.shape"
   ]
  },
  {
   "cell_type": "code",
   "execution_count": 21,
   "metadata": {},
   "outputs": [
    {
     "data": {
      "text/plain": [
       "Index(['subject_id', 'hadm_id', 'icustay_id', 'interval_start_time',\n",
       "       'interval_end_time', 'ALBUMIN', 'ANION GAP', 'BANDS', 'BICARBONATE',\n",
       "       'BILIRUBIN', 'BUN', 'CHLORIDE', 'CREATININE', 'DiasBP', 'Glucose',\n",
       "       'GLUCOSE', 'HeartRate', 'HEMATOCRIT', 'HEMOGLOBIN', 'INR', 'LACTATE',\n",
       "       'MeanBP', 'PaCO2', 'PLATELET', 'POTASSIUM', 'PT', 'PTT', 'RespRate',\n",
       "       'SODIUM', 'SpO2', 'SysBP', 'TempC', 'WBC', 'age', 'is_male',\n",
       "       'race_white', 'race_black', 'race_hispanic', 'race_other', 'height',\n",
       "       'weight', 'vent', 'sofa', 'lods', 'sirs', 'qsofa', 'qsofa_sysbp_score',\n",
       "       'qsofa_gcs_score', 'qsofa_resprate_score', 'elixhauser_hospital',\n",
       "       'blood_culture_positive', 'discrete_action', 'hospital_expire_flag',\n",
       "       'reward', 'row_id', 'row_id_next', 'time_step', 'episode_length',\n",
       "       'total_reward', 'distance_from_last'],\n",
       "      dtype='object')"
      ]
     },
     "execution_count": 21,
     "metadata": {},
     "output_type": "execute_result"
    }
   ],
   "source": [
    "final_df_train.columns"
   ]
  },
  {
   "cell_type": "code",
   "execution_count": 22,
   "metadata": {},
   "outputs": [],
   "source": [
    "max_episode = 10\n",
    "\n",
    "features = ['ALBUMIN', 'ANION GAP', 'BANDS', 'BICARBONATE',\n",
    "       'BILIRUBIN', 'BUN', 'CHLORIDE', 'CREATININE', 'DiasBP', 'Glucose',\n",
    "       'GLUCOSE', 'HeartRate', 'HEMATOCRIT', 'HEMOGLOBIN', 'INR', 'LACTATE',\n",
    "       'MeanBP', 'PaCO2', 'PLATELET', 'POTASSIUM', 'PT', 'PTT', 'RespRate',\n",
    "       'SODIUM', 'SpO2', 'SysBP', 'TempC', 'WBC', 'age', 'is_male',\n",
    "       'race_white', 'race_black', 'race_hispanic', 'race_other', 'height',\n",
    "       'weight', 'vent', 'sofa', 'lods', 'sirs', 'qsofa', 'qsofa_sysbp_score',\n",
    "       'qsofa_gcs_score', 'qsofa_resprate_score', 'elixhauser_hospital',\n",
    "       'blood_culture_positive', 'discrete_action' ,'time_step']\n",
    "\n",
    "def get_x_y(final_df):\n",
    "    final_df_train_copy = final_df.copy()\n",
    "    final_df_train_copy = final_df_train_copy.rename(columns={'row_id': 'row_id_old'})\n",
    "    final_df_train_copy =  final_df_train_copy.rename(columns={'row_id_next': 'row_id'})\n",
    "    key_value_train = final_df_train_copy.merge(final_df,  on=('subject_id', 'hadm_id', 'icustay_id', 'row_id'), how='left')\n",
    "    train_x = key_value_train[[s + \"_x\" for s in features]]\n",
    "    train_y = key_value_train[[s + \"_y\" for s in features]]\n",
    "    return train_x.values, train_y.values\n",
    "\n",
    "\n",
    "def get_padded_matrix(x_, y_):\n",
    "    episode_matrix = np.zeros(shape=[x_.shape[0], max_episode, x_.shape[1]])\n",
    "    episode = []\n",
    "    labels_episode = []\n",
    "    for idx in range(len(x_)):\n",
    "        # within on episode\n",
    "        episode.append(x_[idx])\n",
    "        for event_idx in range(min(len(episode), max_episode)):\n",
    "            episode_matrix[idx][-(event_idx%max_episode)-1] = episode[-event_idx - 1]\n",
    "        if np.equal(x_[idx],y_[idx]).all():\n",
    "            # episode changed\n",
    "            episode = []\n",
    "    return episode_matrix"
   ]
  },
  {
   "cell_type": "code",
   "execution_count": 23,
   "metadata": {},
   "outputs": [
    {
     "data": {
      "text/plain": [
       "(121550, 60)"
      ]
     },
     "execution_count": 23,
     "metadata": {},
     "output_type": "execute_result"
    }
   ],
   "source": [
    "final_df_train.values.shape"
   ]
  },
  {
   "cell_type": "code",
   "execution_count": 24,
   "metadata": {},
   "outputs": [],
   "source": [
    "train_x, train_y = get_x_y(final_df_train)"
   ]
  },
  {
   "cell_type": "code",
   "execution_count": 25,
   "metadata": {},
   "outputs": [],
   "source": [
    "test_x, test_y = get_x_y(final_df_test)"
   ]
  },
  {
   "cell_type": "code",
   "execution_count": 26,
   "metadata": {},
   "outputs": [],
   "source": [
    "train_matrix = get_padded_matrix( train_x, train_y )\n",
    "test_matrix = get_padded_matrix( test_x, test_y )"
   ]
  },
  {
   "cell_type": "code",
   "execution_count": 27,
   "metadata": {},
   "outputs": [],
   "source": [
    "model = tf.keras.Sequential([\n",
    "    tf.keras.layers.LSTM(50, input_shape=(train_matrix.shape[1], train_matrix.shape[2])),\n",
    "    tf.keras.layers.Dense(128, activation='relu'),\n",
    "    tf.keras.layers.Dense(2, activation='softmax')\n",
    "])"
   ]
  },
  {
   "cell_type": "code",
   "execution_count": 28,
   "metadata": {},
   "outputs": [
    {
     "name": "stdout",
     "output_type": "stream",
     "text": [
      "_________________________________________________________________\n",
      "Layer (type)                 Output Shape              Param #   \n",
      "=================================================================\n",
      "lstm (LSTM)                  (None, 50)                19800     \n",
      "_________________________________________________________________\n",
      "dense (Dense)                (None, 128)               6528      \n",
      "_________________________________________________________________\n",
      "dense_1 (Dense)              (None, 2)                 258       \n",
      "=================================================================\n",
      "Total params: 26,586\n",
      "Trainable params: 26,586\n",
      "Non-trainable params: 0\n",
      "_________________________________________________________________\n"
     ]
    }
   ],
   "source": [
    "model.summary()"
   ]
  },
  {
   "cell_type": "code",
   "execution_count": 29,
   "metadata": {},
   "outputs": [],
   "source": [
    "optimizer = keras.optimizers.Adam()\n",
    "model.compile(optimizer='adam', loss='categorical_crossentropy', metrics=['accuracy'])"
   ]
  },
  {
   "cell_type": "code",
   "execution_count": 30,
   "metadata": {},
   "outputs": [
    {
     "data": {
      "text/plain": [
       "(121550, 2)"
      ]
     },
     "execution_count": 30,
     "metadata": {},
     "output_type": "execute_result"
    }
   ],
   "source": [
    "labels_train_one_hot.shape"
   ]
  },
  {
   "cell_type": "code",
   "execution_count": 31,
   "metadata": {},
   "outputs": [
    {
     "data": {
      "text/plain": [
       "(30673, 2)"
      ]
     },
     "execution_count": 31,
     "metadata": {},
     "output_type": "execute_result"
    }
   ],
   "source": [
    "labels_test_one_hot.shape"
   ]
  },
  {
   "cell_type": "code",
   "execution_count": 32,
   "metadata": {},
   "outputs": [
    {
     "data": {
      "text/plain": [
       "(121550, 48)"
      ]
     },
     "execution_count": 32,
     "metadata": {},
     "output_type": "execute_result"
    }
   ],
   "source": [
    "train_x.shape"
   ]
  },
  {
   "cell_type": "code",
   "execution_count": 33,
   "metadata": {},
   "outputs": [
    {
     "name": "stdout",
     "output_type": "stream",
     "text": [
      "Train on 121550 samples, validate on 30673 samples\n",
      "Epoch 1/10\n",
      "121550/121550 [==============================] - 67s 547us/step - loss: 0.1237 - acc: 0.9563 - val_loss: 0.0779 - val_acc: 0.9710\n",
      "\n",
      "Epoch 00001: val_acc improved from -inf to 0.97105, saving model to sepsis_termination.model\n",
      "Epoch 2/10\n",
      "121550/121550 [==============================] - 52s 430us/step - loss: 0.0836 - acc: 0.9686 - val_loss: 0.0725 - val_acc: 0.9722\n",
      "\n",
      "Epoch 00002: val_acc improved from 0.97105 to 0.97222, saving model to sepsis_termination.model\n",
      "Epoch 3/10\n",
      "121550/121550 [==============================] - 51s 417us/step - loss: 0.0792 - acc: 0.9695 - val_loss: 0.0735 - val_acc: 0.9718\n",
      "\n",
      "Epoch 00003: val_acc did not improve from 0.97222\n",
      "Epoch 4/10\n",
      "121550/121550 [==============================] - 50s 413us/step - loss: 0.0765 - acc: 0.9700 - val_loss: 0.0757 - val_acc: 0.9715\n",
      "\n",
      "Epoch 00004: val_acc did not improve from 0.97222\n",
      "Epoch 5/10\n",
      "121550/121550 [==============================] - 49s 407us/step - loss: 0.0743 - acc: 0.9708 - val_loss: 0.0721 - val_acc: 0.9717\n",
      "\n",
      "Epoch 00005: val_acc did not improve from 0.97222\n",
      "Epoch 6/10\n",
      "121550/121550 [==============================] - 51s 416us/step - loss: 0.0718 - acc: 0.9714 - val_loss: 0.0736 - val_acc: 0.9714\n",
      "\n",
      "Epoch 00006: val_acc did not improve from 0.97222\n",
      "Epoch 7/10\n",
      "121550/121550 [==============================] - 51s 417us/step - loss: 0.0701 - acc: 0.9723 - val_loss: 0.0735 - val_acc: 0.9716\n",
      "\n",
      "Epoch 00007: val_acc did not improve from 0.97222\n",
      "Epoch 8/10\n",
      "121550/121550 [==============================] - 49s 406us/step - loss: 0.0669 - acc: 0.9732 - val_loss: 0.0754 - val_acc: 0.9703\n",
      "\n",
      "Epoch 00008: val_acc did not improve from 0.97222\n"
     ]
    },
    {
     "data": {
      "text/plain": [
       "<tensorflow.python.keras.callbacks.History at 0x127a1be48>"
      ]
     },
     "execution_count": 33,
     "metadata": {},
     "output_type": "execute_result"
    }
   ],
   "source": [
    "early_stop =tf.keras.callbacks.EarlyStopping(monitor='val_loss', patience=3)\n",
    "\n",
    "cp_callback = tf.keras.callbacks.ModelCheckpoint(\"sepsis_termination.model\",\n",
    "                                                 verbose=1, monitor='val_acc', save_best_only=True)\n",
    "\n",
    "tensorboard = keras.callbacks.TensorBoard(log_dir=\"logs/termination{}\".format(time()))\n",
    "model.fit(train_matrix, labels_train_one_hot, epochs=10, validation_data=(test_matrix, labels_test_one_hot), callbacks=[tensorboard, cp_callback, early_stop])\n"
   ]
  },
  {
   "cell_type": "code",
   "execution_count": null,
   "metadata": {},
   "outputs": [],
   "source": []
  }
 ],
 "metadata": {
  "kernelspec": {
   "display_name": "cs234_project",
   "language": "python",
   "name": "cs234_project"
  },
  "language_info": {
   "codemirror_mode": {
    "name": "ipython",
    "version": 3
   },
   "file_extension": ".py",
   "mimetype": "text/x-python",
   "name": "python",
   "nbconvert_exporter": "python",
   "pygments_lexer": "ipython3",
   "version": "3.6.5"
  }
 },
 "nbformat": 4,
 "nbformat_minor": 2
}
