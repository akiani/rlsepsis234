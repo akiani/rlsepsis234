{
 "cells": [
  {
   "cell_type": "code",
   "execution_count": 3,
   "metadata": {},
   "outputs": [],
   "source": [
    "library(tidyverse)"
   ]
  },
  {
   "cell_type": "markdown",
   "metadata": {},
   "source": [
    "Before running these scripts:\n",
    "1. Set up MIMIC as a Postgres database.\n",
    "2. Build the concept materialized views: https://github.com/MIT-LCP/mimic-code/tree/master/concepts\n",
    "3. Build Sepsis3 materialized views: https://github.com/alistairewj/sepsis3-mimic/tree/master/query\n",
    "4. Run the `get_data.sh` script in `sql` folder.\n",
    "\n",
    "This script is drived work from https://github.com/spfohl/cs238_sepsis_rl and an attempt to reproduce the dataset for https://arxiv.org/abs/1705.08422 "
   ]
  },
  {
   "cell_type": "code",
   "execution_count": 4,
   "metadata": {},
   "outputs": [],
   "source": [
    "data_path <- '../cs238_sepsis_rl/data/'"
   ]
  },
  {
   "cell_type": "markdown",
   "metadata": {},
   "source": [
    "# Build Actions"
   ]
  },
  {
   "cell_type": "code",
   "execution_count": 6,
   "metadata": {},
   "outputs": [
    {
     "name": "stderr",
     "output_type": "stream",
     "text": [
      "Parsed with column specification:\n",
      "cols(\n",
      "  subject_id = col_integer(),\n",
      "  hadm_id = col_integer(),\n",
      "  icustay_id = col_integer(),\n",
      "  intime = col_datetime(format = \"\"),\n",
      "  outtime = col_datetime(format = \"\"),\n",
      "  suspected_infection_time_poe = col_datetime(format = \"\"),\n",
      "  window_start = col_datetime(format = \"\"),\n",
      "  window_end = col_datetime(format = \"\"),\n",
      "  hospital_expire_flag = col_integer()\n",
      ")\n"
     ]
    }
   ],
   "source": [
    "cohort_df <- read_csv(paste0(data_path, 'cohort.csv'))"
   ]
  },
  {
   "cell_type": "code",
   "execution_count": 72,
   "metadata": {},
   "outputs": [
    {
     "data": {
      "text/html": [
       "18345"
      ],
      "text/latex": [
       "18345"
      ],
      "text/markdown": [
       "18345"
      ],
      "text/plain": [
       "[1] 18345"
      ]
     },
     "metadata": {},
     "output_type": "display_data"
    }
   ],
   "source": [
    "cohort_df  %>% group_by(subject_id)  %>% nrow()"
   ]
  },
  {
   "cell_type": "markdown",
   "metadata": {},
   "source": [
    "Firs discrepency between our approach and Raghu et. al. They have 17,898 patients."
   ]
  },
  {
   "cell_type": "markdown",
   "metadata": {},
   "source": [
    "## Build Time Intervals"
   ]
  },
  {
   "cell_type": "code",
   "execution_count": 6,
   "metadata": {},
   "outputs": [],
   "source": [
    "get_time_intervals <- function(start, end) {\n",
    "    interval_times <- seq(start, end, by = '4 hour')\n",
    "    interval_start_time <- interval_times[1:length(interval_times) -1]\n",
    "    interval_end_time <- interval_times[2:length(interval_times)]\n",
    "    return(data.frame(interval_start_time, interval_end_time))\n",
    "}"
   ]
  },
  {
   "cell_type": "code",
   "execution_count": 7,
   "metadata": {},
   "outputs": [],
   "source": [
    "interval_times_df <- cohort_df %>% \n",
    "                        group_by(subject_id, hadm_id, icustay_id) %>% \n",
    "                        do(get_time_intervals(.$window_start, .$window_end))"
   ]
  },
  {
   "cell_type": "code",
   "execution_count": 8,
   "metadata": {},
   "outputs": [
    {
     "data": {
      "text/html": [
       "<ol class=list-inline>\n",
       "\t<li>330210</li>\n",
       "\t<li>5</li>\n",
       "</ol>\n"
      ],
      "text/latex": [
       "\\begin{enumerate*}\n",
       "\\item 330210\n",
       "\\item 5\n",
       "\\end{enumerate*}\n"
      ],
      "text/markdown": [
       "1. 330210\n",
       "2. 5\n",
       "\n",
       "\n"
      ],
      "text/plain": [
       "[1] 330210      5"
      ]
     },
     "metadata": {},
     "output_type": "display_data"
    }
   ],
   "source": [
    "dim(interval_times_df)"
   ]
  },
  {
   "cell_type": "markdown",
   "metadata": {},
   "source": [
    "## Vassopressors"
   ]
  },
  {
   "cell_type": "code",
   "execution_count": 9,
   "metadata": {},
   "outputs": [
    {
     "name": "stderr",
     "output_type": "stream",
     "text": [
      "Parsed with column specification:\n",
      "cols(\n",
      "  icustay_id = col_integer(),\n",
      "  charttime = col_datetime(format = \"\"),\n",
      "  itemid = col_integer(),\n",
      "  stopped = col_character(),\n",
      "  rate = col_double(),\n",
      "  amount = col_double()\n",
      ")\n",
      "Parsed with column specification:\n",
      "cols(\n",
      "  icustay_id = col_integer(),\n",
      "  linkorderid = col_integer(),\n",
      "  starttime = col_datetime(format = \"\"),\n",
      "  endtime = col_datetime(format = \"\"),\n",
      "  itemid = col_integer(),\n",
      "  rate = col_double(),\n",
      "  amount = col_double()\n",
      ")\n"
     ]
    }
   ],
   "source": [
    "# carevu\n",
    "vassopressor_cv_df <- read_csv(paste0(data_path, 'vassopressors_cv_cohort.csv'))\n",
    "# metavision\n",
    "vassopressor_mv_df <- read_csv(paste0(data_path, 'vassopressors_mv_cohort.csv'))"
   ]
  },
  {
   "cell_type": "code",
   "execution_count": 12,
   "metadata": {},
   "outputs": [
    {
     "name": "stderr",
     "output_type": "stream",
     "text": [
      "Joining, by = \"icustay_id\"\n",
      "Joining, by = \"icustay_id\"\n"
     ]
    }
   ],
   "source": [
    "# calculate max values for each interval\n",
    "max_vassopressor_cv <- interval_times_df %>% \n",
    "                                left_join(vassopressor_cv_df) %>% \n",
    "                                group_by(subject_id, \n",
    "                                       hadm_id, \n",
    "                                       icustay_id, \n",
    "                                       interval_start_time, \n",
    "                                       interval_end_time) %>%\n",
    "                                filter(charttime > interval_start_time & charttime <= interval_end_time) %>%\n",
    "                                summarise(max_amount = max(amount))\n",
    "\n",
    "max_vassopressor_mv <- interval_times_df %>% \n",
    "                                left_join(vassopressor_mv_df) %>% \n",
    "                                group_by(subject_id, \n",
    "                                           hadm_id, \n",
    "                                           icustay_id, \n",
    "                                           interval_start_time, \n",
    "                                           interval_end_time) %>%\n",
    "                                filter(endtime > interval_start_time & endtime <= interval_end_time) %>%\n",
    "                                summarise(max_amount = max(amount)) "
   ]
  },
  {
   "cell_type": "code",
   "execution_count": 44,
   "metadata": {},
   "outputs": [
    {
     "name": "stderr",
     "output_type": "stream",
     "text": [
      "Joining, by = c(\"subject_id\", \"hadm_id\", \"icustay_id\", \"interval_start_time\", \"interval_end_time\", \"max_amount\")\n"
     ]
    }
   ],
   "source": [
    "# Merge the carevue and metavision data\n",
    "temp <- max_vassopressor_cv %>% \n",
    "                        full_join(max_vassopressor_mv) %>%\n",
    "                        filter(!is.na(max_amount))"
   ]
  },
  {
   "cell_type": "markdown",
   "metadata": {},
   "source": [
    "### Action Quantization"
   ]
  },
  {
   "cell_type": "code",
   "execution_count": 57,
   "metadata": {},
   "outputs": [],
   "source": [
    "# A function to map the data to quartiles\n",
    "num2quartile <- function(x) {\n",
    "    x_ <- x[x>0]\n",
    "    quants <- quantile(x_, probs=0:4/4, na.rm = TRUE)\n",
    "    print(quants)\n",
    "    return(as.integer(cut(x, quants, include.lowest=TRUE)))\n",
    "}"
   ]
  },
  {
   "cell_type": "code",
   "execution_count": 49,
   "metadata": {},
   "outputs": [
    {
     "data": {
      "text/html": [
       "<table>\n",
       "<thead><tr><th scope=col>subject_id</th><th scope=col>hadm_id</th><th scope=col>icustay_id</th><th scope=col>interval_start_time</th><th scope=col>interval_end_time</th><th scope=col>max_amount</th></tr></thead>\n",
       "<tbody>\n",
       "\t<tr><td> 94                </td><td>183686             </td><td>229012             </td><td>2176-02-26 00:30:00</td><td>2176-02-26 04:30:00</td><td>6.3000006          </td></tr>\n",
       "\t<tr><td> 94                </td><td>183686             </td><td>229012             </td><td>2176-02-26 04:30:00</td><td>2176-02-26 08:30:00</td><td>0.8000001          </td></tr>\n",
       "\t<tr><td> 94                </td><td>183686             </td><td>229012             </td><td>2176-02-26 08:30:00</td><td>2176-02-26 12:30:00</td><td>0.0000000          </td></tr>\n",
       "\t<tr><td> 94                </td><td>183686             </td><td>229012             </td><td>2176-02-26 12:30:00</td><td>2176-02-26 16:30:00</td><td>0.0000000          </td></tr>\n",
       "\t<tr><td>202                </td><td>108295             </td><td>228132             </td><td>2145-10-23 05:38:00</td><td>2145-10-23 09:38:00</td><td>0.0000000          </td></tr>\n",
       "\t<tr><td>275                </td><td>129886             </td><td>219649             </td><td>2170-10-08 06:30:00</td><td>2170-10-08 10:30:00</td><td>0.0000000          </td></tr>\n",
       "</tbody>\n",
       "</table>\n"
      ],
      "text/latex": [
       "\\begin{tabular}{r|llllll}\n",
       " subject\\_id & hadm\\_id & icustay\\_id & interval\\_start\\_time & interval\\_end\\_time & max\\_amount\\\\\n",
       "\\hline\n",
       "\t  94                 & 183686              & 229012              & 2176-02-26 00:30:00 & 2176-02-26 04:30:00 & 6.3000006          \\\\\n",
       "\t  94                 & 183686              & 229012              & 2176-02-26 04:30:00 & 2176-02-26 08:30:00 & 0.8000001          \\\\\n",
       "\t  94                 & 183686              & 229012              & 2176-02-26 08:30:00 & 2176-02-26 12:30:00 & 0.0000000          \\\\\n",
       "\t  94                 & 183686              & 229012              & 2176-02-26 12:30:00 & 2176-02-26 16:30:00 & 0.0000000          \\\\\n",
       "\t 202                 & 108295              & 228132              & 2145-10-23 05:38:00 & 2145-10-23 09:38:00 & 0.0000000          \\\\\n",
       "\t 275                 & 129886              & 219649              & 2170-10-08 06:30:00 & 2170-10-08 10:30:00 & 0.0000000          \\\\\n",
       "\\end{tabular}\n"
      ],
      "text/markdown": [
       "\n",
       "subject_id | hadm_id | icustay_id | interval_start_time | interval_end_time | max_amount | \n",
       "|---|---|---|---|---|---|\n",
       "|  94                 | 183686              | 229012              | 2176-02-26 00:30:00 | 2176-02-26 04:30:00 | 6.3000006           | \n",
       "|  94                 | 183686              | 229012              | 2176-02-26 04:30:00 | 2176-02-26 08:30:00 | 0.8000001           | \n",
       "|  94                 | 183686              | 229012              | 2176-02-26 08:30:00 | 2176-02-26 12:30:00 | 0.0000000           | \n",
       "|  94                 | 183686              | 229012              | 2176-02-26 12:30:00 | 2176-02-26 16:30:00 | 0.0000000           | \n",
       "| 202                 | 108295              | 228132              | 2145-10-23 05:38:00 | 2145-10-23 09:38:00 | 0.0000000           | \n",
       "| 275                 | 129886              | 219649              | 2170-10-08 06:30:00 | 2170-10-08 10:30:00 | 0.0000000           | \n",
       "\n",
       "\n"
      ],
      "text/plain": [
       "  subject_id hadm_id icustay_id interval_start_time interval_end_time  \n",
       "1  94        183686  229012     2176-02-26 00:30:00 2176-02-26 04:30:00\n",
       "2  94        183686  229012     2176-02-26 04:30:00 2176-02-26 08:30:00\n",
       "3  94        183686  229012     2176-02-26 08:30:00 2176-02-26 12:30:00\n",
       "4  94        183686  229012     2176-02-26 12:30:00 2176-02-26 16:30:00\n",
       "5 202        108295  228132     2145-10-23 05:38:00 2145-10-23 09:38:00\n",
       "6 275        129886  219649     2170-10-08 06:30:00 2170-10-08 10:30:00\n",
       "  max_amount\n",
       "1 6.3000006 \n",
       "2 0.8000001 \n",
       "3 0.0000000 \n",
       "4 0.0000000 \n",
       "5 0.0000000 \n",
       "6 0.0000000 "
      ]
     },
     "metadata": {},
     "output_type": "display_data"
    }
   ],
   "source": [
    "head(temp)"
   ]
  },
  {
   "cell_type": "code",
   "execution_count": 58,
   "metadata": {},
   "outputs": [
    {
     "name": "stdout",
     "output_type": "stream",
     "text": [
      "          0%          25%          50%          75%         100% \n",
      "2.840102e-03 1.035571e+00 3.550489e+00 1.231740e+01 7.952001e+02 \n"
     ]
    }
   ],
   "source": [
    "temp$discrete_pressor <- num2quartile(temp$max_amount)  %>% replace_na(0)"
   ]
  },
  {
   "cell_type": "code",
   "execution_count": 59,
   "metadata": {},
   "outputs": [
    {
     "data": {
      "text/html": [
       "<table>\n",
       "<thead><tr><th scope=col>subject_id</th><th scope=col>hadm_id</th><th scope=col>icustay_id</th><th scope=col>interval_start_time</th><th scope=col>interval_end_time</th><th scope=col>max_amount</th><th scope=col>discrete_pressor</th></tr></thead>\n",
       "<tbody>\n",
       "\t<tr><td> 94                </td><td>183686             </td><td>229012             </td><td>2176-02-26 00:30:00</td><td>2176-02-26 04:30:00</td><td>6.3000006          </td><td>3                  </td></tr>\n",
       "\t<tr><td> 94                </td><td>183686             </td><td>229012             </td><td>2176-02-26 04:30:00</td><td>2176-02-26 08:30:00</td><td>0.8000001          </td><td>1                  </td></tr>\n",
       "\t<tr><td> 94                </td><td>183686             </td><td>229012             </td><td>2176-02-26 08:30:00</td><td>2176-02-26 12:30:00</td><td>0.0000000          </td><td>0                  </td></tr>\n",
       "\t<tr><td> 94                </td><td>183686             </td><td>229012             </td><td>2176-02-26 12:30:00</td><td>2176-02-26 16:30:00</td><td>0.0000000          </td><td>0                  </td></tr>\n",
       "\t<tr><td>202                </td><td>108295             </td><td>228132             </td><td>2145-10-23 05:38:00</td><td>2145-10-23 09:38:00</td><td>0.0000000          </td><td>0                  </td></tr>\n",
       "\t<tr><td>275                </td><td>129886             </td><td>219649             </td><td>2170-10-08 06:30:00</td><td>2170-10-08 10:30:00</td><td>0.0000000          </td><td>0                  </td></tr>\n",
       "</tbody>\n",
       "</table>\n"
      ],
      "text/latex": [
       "\\begin{tabular}{r|lllllll}\n",
       " subject\\_id & hadm\\_id & icustay\\_id & interval\\_start\\_time & interval\\_end\\_time & max\\_amount & discrete\\_pressor\\\\\n",
       "\\hline\n",
       "\t  94                 & 183686              & 229012              & 2176-02-26 00:30:00 & 2176-02-26 04:30:00 & 6.3000006           & 3                  \\\\\n",
       "\t  94                 & 183686              & 229012              & 2176-02-26 04:30:00 & 2176-02-26 08:30:00 & 0.8000001           & 1                  \\\\\n",
       "\t  94                 & 183686              & 229012              & 2176-02-26 08:30:00 & 2176-02-26 12:30:00 & 0.0000000           & 0                  \\\\\n",
       "\t  94                 & 183686              & 229012              & 2176-02-26 12:30:00 & 2176-02-26 16:30:00 & 0.0000000           & 0                  \\\\\n",
       "\t 202                 & 108295              & 228132              & 2145-10-23 05:38:00 & 2145-10-23 09:38:00 & 0.0000000           & 0                  \\\\\n",
       "\t 275                 & 129886              & 219649              & 2170-10-08 06:30:00 & 2170-10-08 10:30:00 & 0.0000000           & 0                  \\\\\n",
       "\\end{tabular}\n"
      ],
      "text/markdown": [
       "\n",
       "subject_id | hadm_id | icustay_id | interval_start_time | interval_end_time | max_amount | discrete_pressor | \n",
       "|---|---|---|---|---|---|\n",
       "|  94                 | 183686              | 229012              | 2176-02-26 00:30:00 | 2176-02-26 04:30:00 | 6.3000006           | 3                   | \n",
       "|  94                 | 183686              | 229012              | 2176-02-26 04:30:00 | 2176-02-26 08:30:00 | 0.8000001           | 1                   | \n",
       "|  94                 | 183686              | 229012              | 2176-02-26 08:30:00 | 2176-02-26 12:30:00 | 0.0000000           | 0                   | \n",
       "|  94                 | 183686              | 229012              | 2176-02-26 12:30:00 | 2176-02-26 16:30:00 | 0.0000000           | 0                   | \n",
       "| 202                 | 108295              | 228132              | 2145-10-23 05:38:00 | 2145-10-23 09:38:00 | 0.0000000           | 0                   | \n",
       "| 275                 | 129886              | 219649              | 2170-10-08 06:30:00 | 2170-10-08 10:30:00 | 0.0000000           | 0                   | \n",
       "\n",
       "\n"
      ],
      "text/plain": [
       "  subject_id hadm_id icustay_id interval_start_time interval_end_time  \n",
       "1  94        183686  229012     2176-02-26 00:30:00 2176-02-26 04:30:00\n",
       "2  94        183686  229012     2176-02-26 04:30:00 2176-02-26 08:30:00\n",
       "3  94        183686  229012     2176-02-26 08:30:00 2176-02-26 12:30:00\n",
       "4  94        183686  229012     2176-02-26 12:30:00 2176-02-26 16:30:00\n",
       "5 202        108295  228132     2145-10-23 05:38:00 2145-10-23 09:38:00\n",
       "6 275        129886  219649     2170-10-08 06:30:00 2170-10-08 10:30:00\n",
       "  max_amount discrete_pressor\n",
       "1 6.3000006  3               \n",
       "2 0.8000001  1               \n",
       "3 0.0000000  0               \n",
       "4 0.0000000  0               \n",
       "5 0.0000000  0               \n",
       "6 0.0000000  0               "
      ]
     },
     "metadata": {},
     "output_type": "display_data"
    }
   ],
   "source": [
    "head(temp)"
   ]
  },
  {
   "cell_type": "code",
   "execution_count": 61,
   "metadata": {},
   "outputs": [
    {
     "data": {
      "text/html": [
       "<table>\n",
       "<thead><tr><th scope=col>discrete_pressor</th><th scope=col>n</th></tr></thead>\n",
       "<tbody>\n",
       "\t<tr><td>0   </td><td> 680</td></tr>\n",
       "\t<tr><td>1   </td><td>3798</td></tr>\n",
       "\t<tr><td>2   </td><td>3798</td></tr>\n",
       "\t<tr><td>3   </td><td>3797</td></tr>\n",
       "\t<tr><td>4   </td><td>3798</td></tr>\n",
       "</tbody>\n",
       "</table>\n"
      ],
      "text/latex": [
       "\\begin{tabular}{r|ll}\n",
       " discrete\\_pressor & n\\\\\n",
       "\\hline\n",
       "\t 0    &  680\\\\\n",
       "\t 1    & 3798\\\\\n",
       "\t 2    & 3798\\\\\n",
       "\t 3    & 3797\\\\\n",
       "\t 4    & 3798\\\\\n",
       "\\end{tabular}\n"
      ],
      "text/markdown": [
       "\n",
       "discrete_pressor | n | \n",
       "|---|---|---|---|---|\n",
       "| 0    |  680 | \n",
       "| 1    | 3798 | \n",
       "| 2    | 3798 | \n",
       "| 3    | 3797 | \n",
       "| 4    | 3798 | \n",
       "\n",
       "\n"
      ],
      "text/plain": [
       "  discrete_pressor n   \n",
       "1 0                 680\n",
       "2 1                3798\n",
       "3 2                3798\n",
       "4 3                3797\n",
       "5 4                3798"
      ]
     },
     "metadata": {},
     "output_type": "display_data"
    }
   ],
   "source": [
    "temp  %>% group_by(discrete_pressor)  %>% summarise(n=n())"
   ]
  },
  {
   "cell_type": "code",
   "execution_count": 67,
   "metadata": {},
   "outputs": [
    {
     "data": {
      "text/html": [
       "15191"
      ],
      "text/latex": [
       "15191"
      ],
      "text/markdown": [
       "15191"
      ],
      "text/plain": [
       "[1] 15191"
      ]
     },
     "metadata": {},
     "output_type": "display_data"
    },
    {
     "data": {
      "text/html": [
       "15191"
      ],
      "text/latex": [
       "15191"
      ],
      "text/markdown": [
       "15191"
      ],
      "text/plain": [
       "[1] 15191"
      ]
     },
     "metadata": {},
     "output_type": "display_data"
    }
   ],
   "source": [
    "sum(temp$max_amount>0)\n",
    "sum(temp$discrete_pressor>0)"
   ]
  },
  {
   "cell_type": "code",
   "execution_count": 68,
   "metadata": {},
   "outputs": [
    {
     "name": "stderr",
     "output_type": "stream",
     "text": [
      "Joining, by = c(\"subject_id\", \"hadm_id\", \"icustay_id\", \"interval_start_time\", \"interval_end_time\")\n"
     ]
    }
   ],
   "source": [
    "# join with all interval times\n",
    "action_df_VP <- temp %>% right_join(interval_times_df) %>% replace_na(list(discrete_pressor = 0))"
   ]
  },
  {
   "cell_type": "code",
   "execution_count": 70,
   "metadata": {},
   "outputs": [
    {
     "data": {
      "text/html": [
       "<table>\n",
       "<thead><tr><th scope=col>discrete_pressor</th><th scope=col>n</th></tr></thead>\n",
       "<tbody>\n",
       "\t<tr><td>0     </td><td>315019</td></tr>\n",
       "\t<tr><td>1     </td><td>  3798</td></tr>\n",
       "\t<tr><td>2     </td><td>  3798</td></tr>\n",
       "\t<tr><td>3     </td><td>  3797</td></tr>\n",
       "\t<tr><td>4     </td><td>  3798</td></tr>\n",
       "</tbody>\n",
       "</table>\n"
      ],
      "text/latex": [
       "\\begin{tabular}{r|ll}\n",
       " discrete\\_pressor & n\\\\\n",
       "\\hline\n",
       "\t 0      & 315019\\\\\n",
       "\t 1      &   3798\\\\\n",
       "\t 2      &   3798\\\\\n",
       "\t 3      &   3797\\\\\n",
       "\t 4      &   3798\\\\\n",
       "\\end{tabular}\n"
      ],
      "text/markdown": [
       "\n",
       "discrete_pressor | n | \n",
       "|---|---|---|---|---|\n",
       "| 0      | 315019 | \n",
       "| 1      |   3798 | \n",
       "| 2      |   3798 | \n",
       "| 3      |   3797 | \n",
       "| 4      |   3798 | \n",
       "\n",
       "\n"
      ],
      "text/plain": [
       "  discrete_pressor n     \n",
       "1 0                315019\n",
       "2 1                  3798\n",
       "3 2                  3798\n",
       "4 3                  3797\n",
       "5 4                  3798"
      ]
     },
     "metadata": {},
     "output_type": "display_data"
    }
   ],
   "source": [
    "action_df_VP  %>%  group_by(discrete_pressor)  %>% summarise(n=n())"
   ]
  },
  {
   "cell_type": "markdown",
   "metadata": {},
   "source": [
    "Values per sepsisrl repo: https://github.com/aniruddhraghu/sepsisrl/blob/master/preprocessing/process_interventions.ipynb\n",
    "```\n",
    "0.0    199294\n",
    "4.0     12453\n",
    "2.0     11215\n",
    "1.0      9892\n",
    "3.0      9596\n",
    "```\n",
    "There is a clear discrepency here..."
   ]
  },
  {
   "cell_type": "code",
   "execution_count": 27,
   "metadata": {},
   "outputs": [
    {
     "name": "stderr",
     "output_type": "stream",
     "text": [
      "Joining, by = c(\"subject_id\", \"hadm_id\", \"icustay_id\", \"interval_start_time\", \"interval_end_time\")\n"
     ]
    }
   ],
   "source": [
    "action_df_VP <- temp %>% right_join(interval_times_df) %>% replace_na(list(discrete_pressor = 0))"
   ]
  },
  {
   "cell_type": "code",
   "execution_count": 74,
   "metadata": {},
   "outputs": [
    {
     "data": {
      "text/html": [
       "<table>\n",
       "<thead><tr><th scope=col>discrete_pressor</th><th scope=col>n</th></tr></thead>\n",
       "<tbody>\n",
       "\t<tr><td>0   </td><td> 680</td></tr>\n",
       "\t<tr><td>1   </td><td>3798</td></tr>\n",
       "\t<tr><td>2   </td><td>3798</td></tr>\n",
       "\t<tr><td>3   </td><td>3797</td></tr>\n",
       "\t<tr><td>4   </td><td>3798</td></tr>\n",
       "</tbody>\n",
       "</table>\n"
      ],
      "text/latex": [
       "\\begin{tabular}{r|ll}\n",
       " discrete\\_pressor & n\\\\\n",
       "\\hline\n",
       "\t 0    &  680\\\\\n",
       "\t 1    & 3798\\\\\n",
       "\t 2    & 3798\\\\\n",
       "\t 3    & 3797\\\\\n",
       "\t 4    & 3798\\\\\n",
       "\\end{tabular}\n"
      ],
      "text/markdown": [
       "\n",
       "discrete_pressor | n | \n",
       "|---|---|---|---|---|\n",
       "| 0    |  680 | \n",
       "| 1    | 3798 | \n",
       "| 2    | 3798 | \n",
       "| 3    | 3797 | \n",
       "| 4    | 3798 | \n",
       "\n",
       "\n"
      ],
      "text/plain": [
       "  discrete_pressor n   \n",
       "1 0                 680\n",
       "2 1                3798\n",
       "3 2                3798\n",
       "4 3                3797\n",
       "5 4                3798"
      ]
     },
     "metadata": {},
     "output_type": "display_data"
    }
   ],
   "source": [
    "temp  %>%  group_by(discrete_pressor)  %>% summarise(n=n())"
   ]
  },
  {
   "cell_type": "markdown",
   "metadata": {},
   "source": [
    "##  IV Fluids"
   ]
  },
  {
   "cell_type": "code",
   "execution_count": null,
   "metadata": {},
   "outputs": [],
   "source": [
    "inputevents_cv_df <- read_csv(paste0(data_path, 'inputevents_cv_cohort.csv'))\n",
    "inputevents_mv_df <- read_csv(paste0(data_path, 'inputevents_mv_cohort.csv'))"
   ]
  },
  {
   "cell_type": "code",
   "execution_count": 76,
   "metadata": {},
   "outputs": [],
   "source": [
    "# get the ML values that are >0\n",
    "ie_filt_cv <- inputevents_cv_df %>% \n",
    "                filter(amountuom == 'ml' & !is.na(amount) & amount >= 0)\n",
    "ie_filt_mv <- inputevents_mv_df %>% \n",
    "                filter(amountuom == 'ml' & !is.na(amount) & amount > 0)"
   ]
  },
  {
   "cell_type": "code",
   "execution_count": 78,
   "metadata": {},
   "outputs": [
    {
     "name": "stderr",
     "output_type": "stream",
     "text": [
      "Joining, by = c(\"subject_id\", \"hadm_id\", \"icustay_id\", \"interval_start_time\", \"interval_end_time\", \"total_amount\")\n"
     ]
    },
    {
     "name": "stdout",
     "output_type": "stream",
     "text": [
      "          0%          25%          50%          75%         100% \n",
      "1.666667e-02 2.192000e+02 4.777500e+02 1.000000e+03 2.901451e+05 \n"
     ]
    },
    {
     "name": "stderr",
     "output_type": "stream",
     "text": [
      "Joining, by = c(\"subject_id\", \"hadm_id\", \"icustay_id\", \"interval_start_time\", \"interval_end_time\")\n"
     ]
    }
   ],
   "source": [
    "# Pulling out some data.table stuff to go FAST\n",
    "library(data.table)\n",
    "\n",
    "ie_filt_cv_dt <- as.data.table(ie_filt_cv, key = 'icustay_id')\n",
    "ie_filt_mv_dt <- as.data.table(ie_filt_mv, key = 'icustay_id')\n",
    "interval_times_dt <- as.data.table(interval_times_df, key = 'icustay_id')\n",
    "\n",
    "\n",
    "# get values from Carevue and Metavision and merge\n",
    "total_IV_cv <- interval_times_dt %>% \n",
    "                                merge(ie_filt_cv_dt, allow.cartesian = TRUE) %>% \n",
    "                                group_by(subject_id,\n",
    "                                       hadm_id, \n",
    "                                       icustay_id, \n",
    "                                       interval_start_time, \n",
    "                                       interval_end_time) %>%\n",
    "                                filter(charttime > interval_start_time & charttime <= interval_end_time) %>%\n",
    "                                summarise(total_amount = sum(amount))\n",
    "\n",
    "total_IV_mv <- interval_times_dt %>% \n",
    "                                merge(ie_filt_mv_dt, allow.cartesian = TRUE) %>% \n",
    "                                group_by(subject_id,\n",
    "                                       hadm_id, \n",
    "                                       icustay_id, \n",
    "                                       interval_start_time, \n",
    "                                       interval_end_time) %>%\n",
    "                                filter(endtime > interval_start_time & endtime <= interval_end_time) %>%\n",
    "                                summarise(total_amount = sum(amount))\n",
    "\n",
    "# Map to discrete vassopressor states\n",
    "temp <- total_IV_cv %>% \n",
    "                        full_join(total_IV_mv) %>%\n",
    "                        filter(!is.na(total_amount))\n",
    "\n",
    "temp$discrete_IV <- num2quartile(temp$total_amount)\n",
    "action_df_IV <- temp %>% right_join(interval_times_df) %>% replace_na(list(discrete_IV = 0))"
   ]
  },
  {
   "cell_type": "code",
   "execution_count": 79,
   "metadata": {},
   "outputs": [
    {
     "data": {
      "text/html": [
       "<table>\n",
       "<thead><tr><th scope=col>discrete_IV</th><th scope=col>n</th></tr></thead>\n",
       "<tbody>\n",
       "\t<tr><td>0     </td><td>184118</td></tr>\n",
       "\t<tr><td>1     </td><td> 36532</td></tr>\n",
       "\t<tr><td>2     </td><td> 36533</td></tr>\n",
       "\t<tr><td>3     </td><td> 36702</td></tr>\n",
       "\t<tr><td>4     </td><td> 36360</td></tr>\n",
       "</tbody>\n",
       "</table>\n"
      ],
      "text/latex": [
       "\\begin{tabular}{r|ll}\n",
       " discrete\\_IV & n\\\\\n",
       "\\hline\n",
       "\t 0      & 184118\\\\\n",
       "\t 1      &  36532\\\\\n",
       "\t 2      &  36533\\\\\n",
       "\t 3      &  36702\\\\\n",
       "\t 4      &  36360\\\\\n",
       "\\end{tabular}\n"
      ],
      "text/markdown": [
       "\n",
       "discrete_IV | n | \n",
       "|---|---|---|---|---|\n",
       "| 0      | 184118 | \n",
       "| 1      |  36532 | \n",
       "| 2      |  36533 | \n",
       "| 3      |  36702 | \n",
       "| 4      |  36360 | \n",
       "\n",
       "\n"
      ],
      "text/plain": [
       "  discrete_IV n     \n",
       "1 0           184118\n",
       "2 1            36532\n",
       "3 2            36533\n",
       "4 3            36702\n",
       "5 4            36360"
      ]
     },
     "metadata": {},
     "output_type": "display_data"
    }
   ],
   "source": [
    "group_by(action_df_IV, discrete_IV)  %>%  summarise(n=n())"
   ]
  },
  {
   "cell_type": "markdown",
   "metadata": {},
   "source": [
    "To be compared to Raghu et al:\n",
    "\n",
    "```\n",
    "0.0    55819\n",
    "2.0    48527\n",
    "3.0    46658\n",
    "4.0    46658\n",
    "1.0    44788\n",
    "```\n",
    "\n",
    "# 🤷🏽‍♂️"
   ]
  },
  {
   "cell_type": "code",
   "execution_count": 82,
   "metadata": {},
   "outputs": [
    {
     "name": "stderr",
     "output_type": "stream",
     "text": [
      "Joining, by = c(\"subject_id\", \"hadm_id\", \"icustay_id\", \"interval_start_time\", \"interval_end_time\")\n"
     ]
    }
   ],
   "source": [
    "# merge everything\n",
    "action_df <- action_df_IV %>% full_join(action_df_VP)\n",
    "action_df <- action_df %>% rename(total_IV = total_amount, max_VP = max_amount)"
   ]
  },
  {
   "cell_type": "code",
   "execution_count": 84,
   "metadata": {},
   "outputs": [],
   "source": [
    "# map to discrete actions across both categories\n",
    "action_df <- action_df %>% mutate(discrete_action =discrete_pressor  + discrete_IV * 5)"
   ]
  },
  {
   "cell_type": "code",
   "execution_count": 85,
   "metadata": {},
   "outputs": [],
   "source": [
    "# write files out to disk\n",
    "write_csv(action_df, paste0(data_path, 'action_df.csv'))\n",
    "write_csv(interval_times_df, paste0(data_path, 'interval_times_df.csv'))"
   ]
  },
  {
   "cell_type": "markdown",
   "metadata": {},
   "source": [
    "# Build States\n",
    "\n",
    "Now that we have actions, let's create states."
   ]
  },
  {
   "cell_type": "markdown",
   "metadata": {},
   "source": [
    "## Vitals"
   ]
  },
  {
   "cell_type": "code",
   "execution_count": null,
   "metadata": {},
   "outputs": [],
   "source": [
    "# Load the vitals\n",
    "vitals_df <- read_csv(paste0(data_path, 'vitals_cohort.csv'))"
   ]
  },
  {
   "cell_type": "code",
   "execution_count": 87,
   "metadata": {},
   "outputs": [],
   "source": [
    "# Cast to DT\n",
    "vitals_dt <- as.data.table(vitals_df, key = 'icustay_id')\n",
    "interval_times_dt <- as.data.table(interval_times_df, key = 'icustay_id')"
   ]
  },
  {
   "cell_type": "code",
   "execution_count": 88,
   "metadata": {},
   "outputs": [],
   "source": [
    "# merge to interval times\n",
    "merged_vitals <- interval_times_dt %>% \n",
    "                    merge(vitals_dt, allow.cartesian = TRUE)"
   ]
  },
  {
   "cell_type": "code",
   "execution_count": 89,
   "metadata": {},
   "outputs": [],
   "source": [
    "# average values per interval times\n",
    "mean_vitals <- merged_vitals[charttime > interval_start_time & charttime <= interval_end_time,\n",
    "                                   .(mean_vital = mean(valuenum)), by = .(subject_id, \n",
    "                                                                          hadm_id, \n",
    "                                                                          icustay_id, \n",
    "                                                                          interval_start_time, \n",
    "                                                                          interval_end_time, \n",
    "                                                                          vital_id)]"
   ]
  },
  {
   "cell_type": "markdown",
   "metadata": {},
   "source": [
    "## Labs"
   ]
  },
  {
   "cell_type": "code",
   "execution_count": 90,
   "metadata": {},
   "outputs": [
    {
     "name": "stderr",
     "output_type": "stream",
     "text": [
      "Parsed with column specification:\n",
      "cols(\n",
      "  subject_id = col_integer(),\n",
      "  hadm_id = col_integer(),\n",
      "  icustay_id = col_integer(),\n",
      "  window_start = col_datetime(format = \"\"),\n",
      "  window_end = col_datetime(format = \"\"),\n",
      "  intime = col_datetime(format = \"\"),\n",
      "  outtime = col_datetime(format = \"\"),\n",
      "  charttime = col_datetime(format = \"\"),\n",
      "  lab_id = col_character(),\n",
      "  valuenum = col_double()\n",
      ")\n"
     ]
    }
   ],
   "source": [
    "labs_df <- read_csv(paste0(data_path, 'labs_cohort.csv'))"
   ]
  },
  {
   "cell_type": "code",
   "execution_count": 91,
   "metadata": {},
   "outputs": [],
   "source": [
    "# cast to data.table to be fast!\n",
    "labs_dt <- as.data.table(labs_df, key = 'icustay_id')\n",
    "merged_labs <- interval_times_dt %>% \n",
    "                    merge(labs_dt, allow.cartesian = TRUE)"
   ]
  },
  {
   "cell_type": "code",
   "execution_count": 93,
   "metadata": {},
   "outputs": [],
   "source": [
    "# calculate mean\n",
    "\n",
    "mean_labs <- merged_labs[charttime > interval_start_time & charttime <= interval_end_time,\n",
    "                                   .(mean_lab = mean(valuenum)), by = .(subject_id, \n",
    "                                                                          hadm_id, \n",
    "                                                                          icustay_id, \n",
    "                                                                          interval_start_time, \n",
    "                                                                          interval_end_time, \n",
    "                                                                          lab_id)]"
   ]
  },
  {
   "cell_type": "code",
   "execution_count": 94,
   "metadata": {},
   "outputs": [
    {
     "name": "stderr",
     "output_type": "stream",
     "text": [
      "Joining, by = c(\"subject_id\", \"hadm_id\", \"icustay_id\", \"interval_start_time\", \"interval_end_time\", \"meas_id\", \"mean_value\")\n"
     ]
    }
   ],
   "source": [
    "mean_labs <- mean_labs %>% rename(meas_id = lab_id, mean_value = mean_lab)\n",
    "mean_vitals <- mean_vitals %>% rename(meas_id = vital_id, mean_value = mean_vital)\n",
    "\n",
    "# put vitals and labs together\n",
    "mean_labs_vitals <- mean_labs %>% full_join(mean_vitals)"
   ]
  },
  {
   "cell_type": "code",
   "execution_count": 95,
   "metadata": {},
   "outputs": [
    {
     "name": "stderr",
     "output_type": "stream",
     "text": [
      "Joining, by = c(\"subject_id\", \"hadm_id\", \"icustay_id\", \"interval_start_time\", \"interval_end_time\")\n",
      "Joining, by = c(\"subject_id\", \"hadm_id\", \"icustay_id\", \"interval_start_time\", \"interval_end_time\")\n"
     ]
    }
   ],
   "source": [
    "vitals_labs_spread <- mean_labs_vitals %>% \n",
    "                        spread(meas_id, mean_value) %>% \n",
    "                        right_join(interval_times_dt) \n",
    "\n",
    "# Exclude times in which no measurements were made\n",
    "vitals_labs_spread_filt <- vitals_labs_spread %>%\n",
    "                                gather(lab_id, meas_value, ALBUMIN:WBC) %>%\n",
    "                                group_by(subject_id, hadm_id, icustay_id, interval_start_time, interval_end_time) %>%\n",
    "                                summarise(exclude = all(is.na(meas_value))) %>%\n",
    "                                full_join(vitals_labs_spread) %>%\n",
    "                                filter(!exclude)"
   ]
  },
  {
   "cell_type": "code",
   "execution_count": 96,
   "metadata": {},
   "outputs": [],
   "source": [
    "# write out the vitals and labs\n",
    "write_csv(vitals_labs_spread_filt, paste0(data_path, 'vitals_labs_spread_filt.csv'))"
   ]
  },
  {
   "cell_type": "markdown",
   "metadata": {},
   "source": [
    "## Perform LVCF"
   ]
  },
  {
   "cell_type": "code",
   "execution_count": 100,
   "metadata": {},
   "outputs": [
    {
     "name": "stderr",
     "output_type": "stream",
     "text": [
      "Parsed with column specification:\n",
      "cols(\n",
      "  subject_id = col_integer(),\n",
      "  hadm_id = col_integer(),\n",
      "  icustay_id = col_integer(),\n",
      "  interval_start_time = col_datetime(format = \"\"),\n",
      "  interval_end_time = col_datetime(format = \"\"),\n",
      "  total_IV = col_double(),\n",
      "  discrete_IV = col_integer(),\n",
      "  max_VP = col_double(),\n",
      "  discrete_pressor = col_integer(),\n",
      "  discrete_action = col_integer()\n",
      ")\n"
     ]
    }
   ],
   "source": [
    "vitals_labs <- vitals_labs_spread_filt\n",
    "action_df <- read_csv(paste0(data_path, 'action_df.csv'))"
   ]
  },
  {
   "cell_type": "code",
   "execution_count": 99,
   "metadata": {},
   "outputs": [],
   "source": [
    "# Perform Last Value Carried Forward\n",
    "vitals_labs_lvcf <- vitals_labs %>% group_by(subject_id, hadm_id, icustay_id) %>%\n",
    "                        arrange(subject_id, hadm_id, icustay_id, interval_start_time) %>%\n",
    "                        fill(ALBUMIN:WBC)"
   ]
  },
  {
   "cell_type": "code",
   "execution_count": 101,
   "metadata": {},
   "outputs": [
    {
     "name": "stderr",
     "output_type": "stream",
     "text": [
      "Parsed with column specification:\n",
      "cols(\n",
      "  .default = col_integer(),\n",
      "  age = col_double(),\n",
      "  height = col_double(),\n",
      "  weight = col_double()\n",
      ")\n",
      "See spec(...) for full column specifications.\n",
      "Joining, by = c(\"subject_id\", \"hadm_id\", \"icustay_id\")\n"
     ]
    }
   ],
   "source": [
    "# merge demographics data\n",
    "demographics <- read_csv(paste0(data_path, 'demographics_cohort.csv'))\n",
    "data_all <- vitals_labs_lvcf %>% full_join(demographics) %>% ungroup()"
   ]
  },
  {
   "cell_type": "markdown",
   "metadata": {},
   "source": [
    "# Train-Test Breakdown\n",
    "\n",
    "To match Raghu et al, will not create a validation dataset. Only creating train/test (80/20)."
   ]
  },
  {
   "cell_type": "code",
   "execution_count": 102,
   "metadata": {},
   "outputs": [],
   "source": [
    "# Generate the train/test split\n",
    "set.seed(10)\n",
    "ids <- unique(data_all$icustay_id)\n",
    "\n",
    "train_prop <- 0.8\n",
    "num_train <- floor(train_prop * length(ids))\n",
    "\n",
    "train_ids <- sample(ids, num_train)\n",
    "test_ids <- setdiff(ids, train_ids)\n",
    "\n",
    "train_id_df <- data.frame(icustay_id = train_ids)\n",
    "test_id_df <- data.frame(icustay_id = test_ids)"
   ]
  },
  {
   "cell_type": "code",
   "execution_count": 103,
   "metadata": {},
   "outputs": [
    {
     "name": "stderr",
     "output_type": "stream",
     "text": [
      "Joining, by = \"icustay_id\"\n",
      "Joining, by = \"icustay_id\"\n"
     ]
    }
   ],
   "source": [
    "train_data <- data_all %>% inner_join(train_id_df) %>% ungroup()\n",
    "test_data <- data_all %>% inner_join(test_id_df) %>% ungroup()"
   ]
  },
  {
   "cell_type": "code",
   "execution_count": 104,
   "metadata": {},
   "outputs": [
    {
     "data": {
      "text/html": [
       "<ol class=list-inline>\n",
       "\t<li>154538</li>\n",
       "\t<li>52</li>\n",
       "</ol>\n"
      ],
      "text/latex": [
       "\\begin{enumerate*}\n",
       "\\item 154538\n",
       "\\item 52\n",
       "\\end{enumerate*}\n"
      ],
      "text/markdown": [
       "1. 154538\n",
       "2. 52\n",
       "\n",
       "\n"
      ],
      "text/plain": [
       "[1] 154538     52"
      ]
     },
     "metadata": {},
     "output_type": "display_data"
    },
    {
     "data": {
      "text/html": [
       "<ol class=list-inline>\n",
       "\t<li>39464</li>\n",
       "\t<li>52</li>\n",
       "</ol>\n"
      ],
      "text/latex": [
       "\\begin{enumerate*}\n",
       "\\item 39464\n",
       "\\item 52\n",
       "\\end{enumerate*}\n"
      ],
      "text/markdown": [
       "1. 39464\n",
       "2. 52\n",
       "\n",
       "\n"
      ],
      "text/plain": [
       "[1] 39464    52"
      ]
     },
     "metadata": {},
     "output_type": "display_data"
    }
   ],
   "source": [
    "dim(train_data)\n",
    "dim(test_data)"
   ]
  },
  {
   "cell_type": "markdown",
   "metadata": {},
   "source": [
    "## Impute & Normalize"
   ]
  },
  {
   "cell_type": "markdown",
   "metadata": {},
   "source": [
    "Use `caret` to normalize, and median impute."
   ]
  },
  {
   "cell_type": "code",
   "execution_count": 108,
   "metadata": {},
   "outputs": [],
   "source": [
    "library(caret)"
   ]
  },
  {
   "cell_type": "code",
   "execution_count": 106,
   "metadata": {},
   "outputs": [],
   "source": [
    "feature_names <- setdiff(c(names(vitals_labs_lvcf), names(demographics)),\n",
    "                         c('subject_id', \n",
    "                           'hadm_id', \n",
    "                           'icustay_id', \n",
    "                           'interval_start_time',\n",
    "                           'interval_end_time',\n",
    "                           'exclude'))\n",
    "train_features <- train_data[, feature_names]\n",
    "test_features <- test_data[, feature_names]"
   ]
  },
  {
   "cell_type": "code",
   "execution_count": 107,
   "metadata": {},
   "outputs": [],
   "source": [
    "# Preprocess the data, keep a non-scaled version for future\n",
    "preprocessor_no_scale <- preProcess(train_features, method = c('medianImpute'))\n",
    "preprocessor <- preProcess(train_features, method = c('center', 'scale', 'medianImpute'))\n",
    "\n",
    "train_proc <- predict(preprocessor, train_features)\n",
    "test_proc <- predict(preprocessor, test_features)\n",
    "test_no_scale <- predict(preprocessor_no_scale, test_features)"
   ]
  },
  {
   "cell_type": "code",
   "execution_count": 111,
   "metadata": {},
   "outputs": [],
   "source": [
    "id_vars <- c('subject_id', \n",
    "               'hadm_id', \n",
    "               'icustay_id', \n",
    "               'interval_start_time',\n",
    "               'interval_end_time')\n",
    "\n",
    "train_out <- cbind(train_data[, !(names(train_data) %in% names(train_proc))], train_proc)\n",
    "test_out <- cbind(test_data[, !(names(test_data) %in% names(test_proc))], test_proc)\n",
    "test_no_scale_out <- cbind(test_data[, !(names(test_data) %in% names(test_no_scale))], test_no_scale)"
   ]
  },
  {
   "cell_type": "code",
   "execution_count": 114,
   "metadata": {},
   "outputs": [
    {
     "data": {
      "text/html": [
       "<ol class=list-inline>\n",
       "\t<li>39464</li>\n",
       "\t<li>52</li>\n",
       "</ol>\n"
      ],
      "text/latex": [
       "\\begin{enumerate*}\n",
       "\\item 39464\n",
       "\\item 52\n",
       "\\end{enumerate*}\n"
      ],
      "text/markdown": [
       "1. 39464\n",
       "2. 52\n",
       "\n",
       "\n"
      ],
      "text/plain": [
       "[1] 39464    52"
      ]
     },
     "metadata": {},
     "output_type": "display_data"
    }
   ],
   "source": [
    "dim(test_no_scale_out)"
   ]
  },
  {
   "cell_type": "code",
   "execution_count": 115,
   "metadata": {},
   "outputs": [
    {
     "data": {
      "text/html": [
       "<ol class=list-inline>\n",
       "\t<li>39464</li>\n",
       "\t<li>52</li>\n",
       "</ol>\n"
      ],
      "text/latex": [
       "\\begin{enumerate*}\n",
       "\\item 39464\n",
       "\\item 52\n",
       "\\end{enumerate*}\n"
      ],
      "text/markdown": [
       "1. 39464\n",
       "2. 52\n",
       "\n",
       "\n"
      ],
      "text/plain": [
       "[1] 39464    52"
      ]
     },
     "metadata": {},
     "output_type": "display_data"
    }
   ],
   "source": [
    "dim(test_out)"
   ]
  },
  {
   "cell_type": "code",
   "execution_count": 116,
   "metadata": {},
   "outputs": [
    {
     "data": {
      "text/html": [
       "<ol class=list-inline>\n",
       "\t<li>154538</li>\n",
       "\t<li>52</li>\n",
       "</ol>\n"
      ],
      "text/latex": [
       "\\begin{enumerate*}\n",
       "\\item 154538\n",
       "\\item 52\n",
       "\\end{enumerate*}\n"
      ],
      "text/markdown": [
       "1. 154538\n",
       "2. 52\n",
       "\n",
       "\n"
      ],
      "text/plain": [
       "[1] 154538     52"
      ]
     },
     "metadata": {},
     "output_type": "display_data"
    }
   ],
   "source": [
    "dim(train_out)"
   ]
  },
  {
   "cell_type": "code",
   "execution_count": 118,
   "metadata": {},
   "outputs": [],
   "source": [
    "write_csv(train_out, paste0(data_path, 'train_data.csv'))\n",
    "write_csv(test_out, paste0(data_path, 'test_data.csv'))\n",
    "write_csv(test_no_scale_out, paste0(data_path, 'test_no_scale_data.csv'))"
   ]
  },
  {
   "cell_type": "markdown",
   "metadata": {},
   "source": [
    "# Build Rewards"
   ]
  },
  {
   "cell_type": "markdown",
   "metadata": {},
   "source": [
    "Reward +15 if the patient is released otherwise -15"
   ]
  },
  {
   "cell_type": "code",
   "execution_count": 119,
   "metadata": {},
   "outputs": [],
   "source": [
    "outcome_df <- cohort_df %>% group_by(subject_id, \n",
    "                                     hadm_id, \n",
    "                                     icustay_id)"
   ]
  },
  {
   "cell_type": "code",
   "execution_count": 121,
   "metadata": {},
   "outputs": [
    {
     "name": "stderr",
     "output_type": "stream",
     "text": [
      "Joining, by = c(\"subject_id\", \"hadm_id\", \"icustay_id\", \"interval_start_time\", \"interval_end_time\")\n",
      "Joining, by = c(\"subject_id\", \"hadm_id\", \"icustay_id\")\n",
      "Joining, by = c(\"subject_id\", \"hadm_id\", \"icustay_id\", \"interval_start_time\", \"interval_end_time\")\n",
      "Joining, by = c(\"subject_id\", \"hadm_id\", \"icustay_id\")\n",
      "Joining, by = c(\"subject_id\", \"hadm_id\", \"icustay_id\", \"interval_start_time\", \"interval_end_time\")\n",
      "Joining, by = c(\"subject_id\", \"hadm_id\", \"icustay_id\")\n"
     ]
    }
   ],
   "source": [
    "train_df_action <- train_out %>% inner_join(select(action_df, subject_id, \n",
    "                                                   hadm_id, \n",
    "                                                   icustay_id, \n",
    "                                                   interval_start_time, \n",
    "                                                   interval_end_time,\n",
    "                                                   discrete_action)) %>%\n",
    "                                inner_join(cohort_df)\n",
    "\n",
    "test_df_action_no_scale <- test_no_scale_out %>% inner_join(select(action_df, subject_id, \n",
    "                                                   hadm_id, \n",
    "                                                   icustay_id, \n",
    "                                                   interval_start_time, \n",
    "                                                   interval_end_time,\n",
    "                                                   discrete_action)) %>%\n",
    "                                inner_join(cohort_df)\n",
    "\n",
    "\n",
    "\n",
    "\n",
    "test_df_action <- test_out %>% inner_join(select(action_df, subject_id, \n",
    "                                                   hadm_id, \n",
    "                                                   icustay_id, \n",
    "                                                   interval_start_time, \n",
    "                                                   interval_end_time,\n",
    "                                                   discrete_action)) %>%\n",
    "                                inner_join(cohort_df)"
   ]
  },
  {
   "cell_type": "code",
   "execution_count": 129,
   "metadata": {},
   "outputs": [
    {
     "name": "stderr",
     "output_type": "stream",
     "text": [
      "Joining, by = c(\"subject_id\", \"hadm_id\", \"icustay_id\", \"interval_start_time\", \"hospital_expire_flag\")\n",
      "Joining, by = c(\"subject_id\", \"hadm_id\", \"icustay_id\", \"interval_start_time\", \"hospital_expire_flag\")\n",
      "Joining, by = c(\"subject_id\", \"hadm_id\", \"icustay_id\", \"interval_start_time\", \"hospital_expire_flag\")\n"
     ]
    }
   ],
   "source": [
    "temp_train <- train_df_action %>% group_by(subject_id, \n",
    "                             hadm_id, \n",
    "                             icustay_id,\n",
    "                             hospital_expire_flag) %>%\n",
    "                    summarise(interval_start_time = max(interval_start_time)) %>%\n",
    "                    mutate(reward = ifelse(hospital_expire_flag, -15, 15))\n",
    "\n",
    "train_df_action_reward <- train_df_action %>% \n",
    "                                left_join(temp_train) %>%\n",
    "                                replace_na(list(reward = 0))\n",
    "\n",
    "temp_test_no_scale <- test_df_action_no_scale %>% group_by(subject_id, \n",
    "                             hadm_id, \n",
    "                             icustay_id,\n",
    "                             hospital_expire_flag) %>%\n",
    "                    summarise(interval_start_time = max(interval_start_time)) %>%\n",
    "                    mutate(reward = ifelse(hospital_expire_flag, -15, 15))\n",
    "\n",
    "\n",
    "test_df_action_reward_no_scale <- test_df_action_no_scale %>% \n",
    "                                left_join(temp_test_no_scale) %>%\n",
    "                                replace_na(list(reward = 0))\n",
    "\n",
    "temp_test <- test_df_action %>% group_by(subject_id, \n",
    "                             hadm_id, \n",
    "                             icustay_id,\n",
    "                             hospital_expire_flag) %>%\n",
    "                    summarise(interval_start_time = max(interval_start_time)) %>%\n",
    "                    mutate(reward = ifelse(hospital_expire_flag, -15, 15))\n",
    "\n",
    "test_df_action_reward <- test_df_action %>% \n",
    "                                left_join(temp_test) %>%\n",
    "                                replace_na(list(reward = 0))"
   ]
  },
  {
   "cell_type": "code",
   "execution_count": 130,
   "metadata": {},
   "outputs": [],
   "source": [
    "temp2_train <- train_df_action_reward %>% \n",
    "                                mutate(row_id = 1:nrow(train_df_action_reward) - 1) %>% \n",
    "                                arrange(subject_id, hadm_id, icustay_id, interval_start_time, row_id) %>%\n",
    "                                group_by(subject_id, hadm_id, icustay_id) %>%\n",
    "                                mutate(row_id_next = ifelse(row_id == max(row_id), row_id, row_id + 1))\n",
    "\n",
    "temp2_test_no_scale <- test_df_action_reward_no_scale %>% \n",
    "                                mutate(row_id = 1:nrow(test_df_action_reward_no_scale) - 1) %>% \n",
    "                                arrange(subject_id, hadm_id, icustay_id, interval_start_time, row_id) %>%\n",
    "                                group_by(subject_id, hadm_id, icustay_id) %>%\n",
    "                                mutate(row_id_next = ifelse(row_id == max(row_id), row_id, row_id + 1))\n",
    "\n",
    "\n",
    "temp2_test <- test_df_action_reward %>% \n",
    "                                mutate(row_id = 1:nrow(test_df_action_reward) - 1) %>% \n",
    "                                arrange(subject_id, hadm_id, icustay_id, interval_start_time, row_id) %>%\n",
    "                                group_by(subject_id, hadm_id, icustay_id) %>%\n",
    "                                mutate(row_id_next = ifelse(row_id == max(row_id), row_id, row_id + 1))\n"
   ]
  },
  {
   "cell_type": "code",
   "execution_count": 131,
   "metadata": {},
   "outputs": [],
   "source": [
    "final_df_train <- temp2_train %>% select(\n",
    "                             -exclude, \n",
    "                             -intime, \n",
    "                             -outtime, \n",
    "                             -window_start,\n",
    "                             -window_end,\n",
    "                             -suspected_infection_time_poe\n",
    "                             )\n",
    "\n",
    "final_df_test_no_scale <- temp2_test_no_scale %>% select(\n",
    "                             -exclude, \n",
    "                             -intime, \n",
    "                             -outtime, \n",
    "                             -window_start,\n",
    "                             -window_end,\n",
    "                             -suspected_infection_time_poe\n",
    "                             )\n",
    "\n",
    "\n",
    "\n",
    "final_df_test <- temp2_test %>% select(\n",
    "                             -exclude, \n",
    "                             -intime, \n",
    "                             -outtime, \n",
    "                             -window_start,\n",
    "                             -window_end,\n",
    "                             -suspected_infection_time_poe\n",
    "                             )"
   ]
  },
  {
   "cell_type": "code",
   "execution_count": 133,
   "metadata": {},
   "outputs": [],
   "source": [
    "write_csv(final_df_train, paste0(data_path, 'train_state_action_reward_df.csv'))\n",
    "write_csv(final_df_test_no_scale, paste0(data_path, 'test_state_action_reward_df_no_scale.csv'))\n",
    "write_csv(final_df_test, paste0(data_path, 'test_state_action_reward_df.csv'))"
   ]
  },
  {
   "cell_type": "code",
   "execution_count": null,
   "metadata": {},
   "outputs": [],
   "source": []
  }
 ],
 "metadata": {
  "kernelspec": {
   "display_name": "R",
   "language": "R",
   "name": "ir"
  },
  "language_info": {
   "codemirror_mode": "r",
   "file_extension": ".r",
   "mimetype": "text/x-r-source",
   "name": "R",
   "pygments_lexer": "r",
   "version": "3.4.1"
  }
 },
 "nbformat": 4,
 "nbformat_minor": 2
}
