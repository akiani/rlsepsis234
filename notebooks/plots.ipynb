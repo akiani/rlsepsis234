{
 "cells": [
  {
   "cell_type": "code",
   "execution_count": 1,
   "metadata": {},
   "outputs": [],
   "source": [
    "# Make relevant plots of:\n",
    "#  - Policies (as histogram)\n",
    "#  - Policies (as bar chart)\n",
    "#  - Diff in dose vs observed mortality for diff policies"
   ]
  },
  {
   "cell_type": "code",
   "execution_count": 26,
   "metadata": {},
   "outputs": [],
   "source": [
    "%matplotlib inline\n",
    "import pandas as pd\n",
    "import numpy as np\n",
    "import matplotlib.pyplot as plt\n",
    "import seaborn as sns"
   ]
  },
  {
   "cell_type": "code",
   "execution_count": 27,
   "metadata": {},
   "outputs": [],
   "source": [
    "action_df = pd.read_csv(\"/Users/amir/code/rlsepsis234/cs238_sepsis_rl/data/action_df.csv\")\n",
    "df_orig = pd.read_csv(\"/Users/amir/code/rlsepsis234/cs238_sepsis_rl/data/test_state_action_reward_df_no_scale.csv\")\n",
    "df_results = pd.read_csv(\"/Users/amir/Downloads/pred_real_compare_new\")"
   ]
  },
  {
   "cell_type": "code",
   "execution_count": 8,
   "metadata": {},
   "outputs": [],
   "source": [
    "inv_action_map = {}\n",
    "count = 0\n",
    "for i in range(5):\n",
    "    for j in range(5):\n",
    "        inv_action_map[count] = [i,j]\n",
    "        count += 1"
   ]
  },
  {
   "cell_type": "code",
   "execution_count": 30,
   "metadata": {},
   "outputs": [
    {
     "data": {
      "text/plain": [
       "Unnamed: 0             19488\n",
       "subject_id             19488\n",
       "hadm_id                19488\n",
       "icustay_id             19488\n",
       "interval_start_time    19488\n",
       "interval_end_time      19488\n",
       "sofa                   19488\n",
       "iv_pred                19488\n",
       "iv_real                19488\n",
       "vaso_pred              19488\n",
       "vaso_real              19488\n",
       "died                   19488\n",
       "dtype: int64"
      ]
     },
     "execution_count": 30,
     "metadata": {},
     "output_type": "execute_result"
    }
   ],
   "source": [
    "df_results.count()"
   ]
  },
  {
   "cell_type": "code",
   "execution_count": 31,
   "metadata": {},
   "outputs": [
    {
     "data": {
      "text/plain": [
       "subject_id                39232\n",
       "hadm_id                   39232\n",
       "icustay_id                39232\n",
       "interval_start_time       39232\n",
       "interval_end_time         39232\n",
       "ALBUMIN                   39232\n",
       "ANION GAP                 39232\n",
       "BANDS                     39232\n",
       "BICARBONATE               39232\n",
       "BILIRUBIN                 39232\n",
       "BUN                       39232\n",
       "CHLORIDE                  39232\n",
       "CREATININE                39232\n",
       "DiasBP                    39232\n",
       "Glucose                   39232\n",
       "GLUCOSE                   39232\n",
       "HeartRate                 39232\n",
       "HEMATOCRIT                39232\n",
       "HEMOGLOBIN                39232\n",
       "INR                       39232\n",
       "LACTATE                   39232\n",
       "MeanBP                    39232\n",
       "PaCO2                     39232\n",
       "PLATELET                  39232\n",
       "POTASSIUM                 39232\n",
       "PT                        39232\n",
       "PTT                       39232\n",
       "RespRate                  39232\n",
       "SODIUM                    39232\n",
       "SpO2                      39232\n",
       "SysBP                     39232\n",
       "TempC                     39232\n",
       "WBC                       39232\n",
       "age                       39232\n",
       "is_male                   39232\n",
       "race_white                39232\n",
       "race_black                39232\n",
       "race_hispanic             39232\n",
       "race_other                39232\n",
       "height                    39232\n",
       "weight                    39232\n",
       "vent                      39232\n",
       "sofa                      39232\n",
       "lods                      39232\n",
       "sirs                      39232\n",
       "qsofa                     39232\n",
       "qsofa_sysbp_score         39232\n",
       "qsofa_gcs_score           39232\n",
       "qsofa_resprate_score      39232\n",
       "elixhauser_hospital       39232\n",
       "blood_culture_positive    39232\n",
       "discrete_action           39232\n",
       "hospital_expire_flag      39232\n",
       "reward                    39232\n",
       "row_id                    39232\n",
       "row_id_next               39232\n",
       "dtype: int64"
      ]
     },
     "execution_count": 31,
     "metadata": {},
     "output_type": "execute_result"
    }
   ],
   "source": [
    "df_orig.count()"
   ]
  },
  {
   "cell_type": "code",
   "execution_count": 37,
   "metadata": {},
   "outputs": [
    {
     "data": {
      "text/html": [
       "<div>\n",
       "<style scoped>\n",
       "    .dataframe tbody tr th:only-of-type {\n",
       "        vertical-align: middle;\n",
       "    }\n",
       "\n",
       "    .dataframe tbody tr th {\n",
       "        vertical-align: top;\n",
       "    }\n",
       "\n",
       "    .dataframe thead th {\n",
       "        text-align: right;\n",
       "    }\n",
       "</style>\n",
       "<table border=\"1\" class=\"dataframe\">\n",
       "  <thead>\n",
       "    <tr style=\"text-align: right;\">\n",
       "      <th></th>\n",
       "      <th>subject_id</th>\n",
       "      <th>hadm_id</th>\n",
       "      <th>icustay_id</th>\n",
       "      <th>interval_start_time</th>\n",
       "      <th>interval_end_time</th>\n",
       "      <th>sofa</th>\n",
       "    </tr>\n",
       "  </thead>\n",
       "  <tbody>\n",
       "    <tr>\n",
       "      <th>0</th>\n",
       "      <td>26</td>\n",
       "      <td>197661</td>\n",
       "      <td>244882</td>\n",
       "      <td>2126-05-09T00:05:00Z</td>\n",
       "      <td>2126-05-09T04:05:00Z</td>\n",
       "      <td>2</td>\n",
       "    </tr>\n",
       "    <tr>\n",
       "      <th>1</th>\n",
       "      <td>26</td>\n",
       "      <td>197661</td>\n",
       "      <td>244882</td>\n",
       "      <td>2126-05-09T04:05:00Z</td>\n",
       "      <td>2126-05-09T08:05:00Z</td>\n",
       "      <td>2</td>\n",
       "    </tr>\n",
       "    <tr>\n",
       "      <th>2</th>\n",
       "      <td>26</td>\n",
       "      <td>197661</td>\n",
       "      <td>244882</td>\n",
       "      <td>2126-05-09T08:05:00Z</td>\n",
       "      <td>2126-05-09T12:05:00Z</td>\n",
       "      <td>2</td>\n",
       "    </tr>\n",
       "    <tr>\n",
       "      <th>3</th>\n",
       "      <td>26</td>\n",
       "      <td>197661</td>\n",
       "      <td>244882</td>\n",
       "      <td>2126-05-10T00:05:00Z</td>\n",
       "      <td>2126-05-10T04:05:00Z</td>\n",
       "      <td>2</td>\n",
       "    </tr>\n",
       "    <tr>\n",
       "      <th>4</th>\n",
       "      <td>26</td>\n",
       "      <td>197661</td>\n",
       "      <td>244882</td>\n",
       "      <td>2126-05-10T16:05:00Z</td>\n",
       "      <td>2126-05-10T20:05:00Z</td>\n",
       "      <td>2</td>\n",
       "    </tr>\n",
       "    <tr>\n",
       "      <th>5</th>\n",
       "      <td>26</td>\n",
       "      <td>197661</td>\n",
       "      <td>244882</td>\n",
       "      <td>2126-05-11T04:05:00Z</td>\n",
       "      <td>2126-05-11T08:05:00Z</td>\n",
       "      <td>2</td>\n",
       "    </tr>\n",
       "    <tr>\n",
       "      <th>6</th>\n",
       "      <td>145</td>\n",
       "      <td>198161</td>\n",
       "      <td>226841</td>\n",
       "      <td>2144-03-29T19:00:00Z</td>\n",
       "      <td>2144-03-29T23:00:00Z</td>\n",
       "      <td>2</td>\n",
       "    </tr>\n",
       "    <tr>\n",
       "      <th>7</th>\n",
       "      <td>145</td>\n",
       "      <td>198161</td>\n",
       "      <td>226841</td>\n",
       "      <td>2144-03-29T23:00:00Z</td>\n",
       "      <td>2144-03-30T03:00:00Z</td>\n",
       "      <td>2</td>\n",
       "    </tr>\n",
       "    <tr>\n",
       "      <th>8</th>\n",
       "      <td>145</td>\n",
       "      <td>198161</td>\n",
       "      <td>226841</td>\n",
       "      <td>2144-03-30T03:00:00Z</td>\n",
       "      <td>2144-03-30T07:00:00Z</td>\n",
       "      <td>2</td>\n",
       "    </tr>\n",
       "    <tr>\n",
       "      <th>9</th>\n",
       "      <td>145</td>\n",
       "      <td>198161</td>\n",
       "      <td>226841</td>\n",
       "      <td>2144-03-30T07:00:00Z</td>\n",
       "      <td>2144-03-30T11:00:00Z</td>\n",
       "      <td>2</td>\n",
       "    </tr>\n",
       "    <tr>\n",
       "      <th>10</th>\n",
       "      <td>145</td>\n",
       "      <td>198161</td>\n",
       "      <td>226841</td>\n",
       "      <td>2144-03-30T11:00:00Z</td>\n",
       "      <td>2144-03-30T15:00:00Z</td>\n",
       "      <td>2</td>\n",
       "    </tr>\n",
       "    <tr>\n",
       "      <th>11</th>\n",
       "      <td>145</td>\n",
       "      <td>198161</td>\n",
       "      <td>226841</td>\n",
       "      <td>2144-03-30T15:00:00Z</td>\n",
       "      <td>2144-03-30T19:00:00Z</td>\n",
       "      <td>2</td>\n",
       "    </tr>\n",
       "    <tr>\n",
       "      <th>12</th>\n",
       "      <td>145</td>\n",
       "      <td>198161</td>\n",
       "      <td>226841</td>\n",
       "      <td>2144-03-30T19:00:00Z</td>\n",
       "      <td>2144-03-30T23:00:00Z</td>\n",
       "      <td>2</td>\n",
       "    </tr>\n",
       "    <tr>\n",
       "      <th>13</th>\n",
       "      <td>145</td>\n",
       "      <td>198161</td>\n",
       "      <td>226841</td>\n",
       "      <td>2144-03-30T23:00:00Z</td>\n",
       "      <td>2144-03-31T03:00:00Z</td>\n",
       "      <td>2</td>\n",
       "    </tr>\n",
       "    <tr>\n",
       "      <th>14</th>\n",
       "      <td>145</td>\n",
       "      <td>198161</td>\n",
       "      <td>226841</td>\n",
       "      <td>2144-03-31T03:00:00Z</td>\n",
       "      <td>2144-03-31T07:00:00Z</td>\n",
       "      <td>2</td>\n",
       "    </tr>\n",
       "    <tr>\n",
       "      <th>15</th>\n",
       "      <td>145</td>\n",
       "      <td>198161</td>\n",
       "      <td>226841</td>\n",
       "      <td>2144-03-31T07:00:00Z</td>\n",
       "      <td>2144-03-31T11:00:00Z</td>\n",
       "      <td>2</td>\n",
       "    </tr>\n",
       "    <tr>\n",
       "      <th>16</th>\n",
       "      <td>145</td>\n",
       "      <td>198161</td>\n",
       "      <td>226841</td>\n",
       "      <td>2144-03-31T11:00:00Z</td>\n",
       "      <td>2144-03-31T15:00:00Z</td>\n",
       "      <td>2</td>\n",
       "    </tr>\n",
       "    <tr>\n",
       "      <th>17</th>\n",
       "      <td>145</td>\n",
       "      <td>198161</td>\n",
       "      <td>226841</td>\n",
       "      <td>2144-03-31T15:00:00Z</td>\n",
       "      <td>2144-03-31T19:00:00Z</td>\n",
       "      <td>2</td>\n",
       "    </tr>\n",
       "    <tr>\n",
       "      <th>18</th>\n",
       "      <td>145</td>\n",
       "      <td>198161</td>\n",
       "      <td>226841</td>\n",
       "      <td>2144-03-31T19:00:00Z</td>\n",
       "      <td>2144-03-31T23:00:00Z</td>\n",
       "      <td>2</td>\n",
       "    </tr>\n",
       "    <tr>\n",
       "      <th>19</th>\n",
       "      <td>145</td>\n",
       "      <td>198161</td>\n",
       "      <td>226841</td>\n",
       "      <td>2144-03-31T23:00:00Z</td>\n",
       "      <td>2144-04-01T03:00:00Z</td>\n",
       "      <td>2</td>\n",
       "    </tr>\n",
       "    <tr>\n",
       "      <th>20</th>\n",
       "      <td>145</td>\n",
       "      <td>198161</td>\n",
       "      <td>226841</td>\n",
       "      <td>2144-04-01T03:00:00Z</td>\n",
       "      <td>2144-04-01T07:00:00Z</td>\n",
       "      <td>2</td>\n",
       "    </tr>\n",
       "    <tr>\n",
       "      <th>21</th>\n",
       "      <td>145</td>\n",
       "      <td>198161</td>\n",
       "      <td>226841</td>\n",
       "      <td>2144-04-01T07:00:00Z</td>\n",
       "      <td>2144-04-01T11:00:00Z</td>\n",
       "      <td>2</td>\n",
       "    </tr>\n",
       "    <tr>\n",
       "      <th>22</th>\n",
       "      <td>145</td>\n",
       "      <td>198161</td>\n",
       "      <td>226841</td>\n",
       "      <td>2144-04-01T11:00:00Z</td>\n",
       "      <td>2144-04-01T15:00:00Z</td>\n",
       "      <td>2</td>\n",
       "    </tr>\n",
       "    <tr>\n",
       "      <th>23</th>\n",
       "      <td>145</td>\n",
       "      <td>198161</td>\n",
       "      <td>226841</td>\n",
       "      <td>2144-04-01T15:00:00Z</td>\n",
       "      <td>2144-04-01T19:00:00Z</td>\n",
       "      <td>2</td>\n",
       "    </tr>\n",
       "    <tr>\n",
       "      <th>24</th>\n",
       "      <td>149</td>\n",
       "      <td>154869</td>\n",
       "      <td>224026</td>\n",
       "      <td>2135-02-23T03:17:00Z</td>\n",
       "      <td>2135-02-23T07:17:00Z</td>\n",
       "      <td>3</td>\n",
       "    </tr>\n",
       "    <tr>\n",
       "      <th>25</th>\n",
       "      <td>149</td>\n",
       "      <td>154869</td>\n",
       "      <td>224026</td>\n",
       "      <td>2135-02-24T03:17:00Z</td>\n",
       "      <td>2135-02-24T07:17:00Z</td>\n",
       "      <td>3</td>\n",
       "    </tr>\n",
       "    <tr>\n",
       "      <th>26</th>\n",
       "      <td>149</td>\n",
       "      <td>154869</td>\n",
       "      <td>224026</td>\n",
       "      <td>2135-02-25T07:17:00Z</td>\n",
       "      <td>2135-02-25T11:17:00Z</td>\n",
       "      <td>3</td>\n",
       "    </tr>\n",
       "    <tr>\n",
       "      <th>27</th>\n",
       "      <td>157</td>\n",
       "      <td>110545</td>\n",
       "      <td>235058</td>\n",
       "      <td>2106-05-17T03:29:00Z</td>\n",
       "      <td>2106-05-17T07:29:00Z</td>\n",
       "      <td>2</td>\n",
       "    </tr>\n",
       "    <tr>\n",
       "      <th>28</th>\n",
       "      <td>157</td>\n",
       "      <td>110545</td>\n",
       "      <td>235058</td>\n",
       "      <td>2106-05-17T07:29:00Z</td>\n",
       "      <td>2106-05-17T11:29:00Z</td>\n",
       "      <td>2</td>\n",
       "    </tr>\n",
       "    <tr>\n",
       "      <th>29</th>\n",
       "      <td>157</td>\n",
       "      <td>110545</td>\n",
       "      <td>235058</td>\n",
       "      <td>2106-05-17T11:29:00Z</td>\n",
       "      <td>2106-05-17T15:29:00Z</td>\n",
       "      <td>2</td>\n",
       "    </tr>\n",
       "    <tr>\n",
       "      <th>...</th>\n",
       "      <td>...</td>\n",
       "      <td>...</td>\n",
       "      <td>...</td>\n",
       "      <td>...</td>\n",
       "      <td>...</td>\n",
       "      <td>...</td>\n",
       "    </tr>\n",
       "    <tr>\n",
       "      <th>39202</th>\n",
       "      <td>99912</td>\n",
       "      <td>189380</td>\n",
       "      <td>236183</td>\n",
       "      <td>2153-04-15T01:30:00Z</td>\n",
       "      <td>2153-04-15T05:30:00Z</td>\n",
       "      <td>7</td>\n",
       "    </tr>\n",
       "    <tr>\n",
       "      <th>39203</th>\n",
       "      <td>99912</td>\n",
       "      <td>189380</td>\n",
       "      <td>236183</td>\n",
       "      <td>2153-04-15T05:30:00Z</td>\n",
       "      <td>2153-04-15T09:30:00Z</td>\n",
       "      <td>7</td>\n",
       "    </tr>\n",
       "    <tr>\n",
       "      <th>39204</th>\n",
       "      <td>99912</td>\n",
       "      <td>189380</td>\n",
       "      <td>236183</td>\n",
       "      <td>2153-04-15T09:30:00Z</td>\n",
       "      <td>2153-04-15T13:30:00Z</td>\n",
       "      <td>7</td>\n",
       "    </tr>\n",
       "    <tr>\n",
       "      <th>39205</th>\n",
       "      <td>99982</td>\n",
       "      <td>151454</td>\n",
       "      <td>221194</td>\n",
       "      <td>2156-11-28T11:25:00Z</td>\n",
       "      <td>2156-11-28T15:25:00Z</td>\n",
       "      <td>4</td>\n",
       "    </tr>\n",
       "    <tr>\n",
       "      <th>39206</th>\n",
       "      <td>99982</td>\n",
       "      <td>151454</td>\n",
       "      <td>221194</td>\n",
       "      <td>2156-11-28T15:25:00Z</td>\n",
       "      <td>2156-11-28T19:25:00Z</td>\n",
       "      <td>4</td>\n",
       "    </tr>\n",
       "    <tr>\n",
       "      <th>39207</th>\n",
       "      <td>99982</td>\n",
       "      <td>151454</td>\n",
       "      <td>221194</td>\n",
       "      <td>2156-11-28T19:25:00Z</td>\n",
       "      <td>2156-11-28T23:25:00Z</td>\n",
       "      <td>4</td>\n",
       "    </tr>\n",
       "    <tr>\n",
       "      <th>39208</th>\n",
       "      <td>99982</td>\n",
       "      <td>151454</td>\n",
       "      <td>221194</td>\n",
       "      <td>2156-11-28T23:25:00Z</td>\n",
       "      <td>2156-11-29T03:25:00Z</td>\n",
       "      <td>4</td>\n",
       "    </tr>\n",
       "    <tr>\n",
       "      <th>39209</th>\n",
       "      <td>99982</td>\n",
       "      <td>151454</td>\n",
       "      <td>221194</td>\n",
       "      <td>2156-11-29T03:25:00Z</td>\n",
       "      <td>2156-11-29T07:25:00Z</td>\n",
       "      <td>4</td>\n",
       "    </tr>\n",
       "    <tr>\n",
       "      <th>39210</th>\n",
       "      <td>99982</td>\n",
       "      <td>151454</td>\n",
       "      <td>221194</td>\n",
       "      <td>2156-11-29T07:25:00Z</td>\n",
       "      <td>2156-11-29T11:25:00Z</td>\n",
       "      <td>4</td>\n",
       "    </tr>\n",
       "    <tr>\n",
       "      <th>39211</th>\n",
       "      <td>99982</td>\n",
       "      <td>151454</td>\n",
       "      <td>221194</td>\n",
       "      <td>2156-11-29T11:25:00Z</td>\n",
       "      <td>2156-11-29T15:25:00Z</td>\n",
       "      <td>4</td>\n",
       "    </tr>\n",
       "    <tr>\n",
       "      <th>39212</th>\n",
       "      <td>99982</td>\n",
       "      <td>151454</td>\n",
       "      <td>221194</td>\n",
       "      <td>2156-11-29T15:25:00Z</td>\n",
       "      <td>2156-11-29T19:25:00Z</td>\n",
       "      <td>4</td>\n",
       "    </tr>\n",
       "    <tr>\n",
       "      <th>39213</th>\n",
       "      <td>99982</td>\n",
       "      <td>151454</td>\n",
       "      <td>221194</td>\n",
       "      <td>2156-11-29T19:25:00Z</td>\n",
       "      <td>2156-11-29T23:25:00Z</td>\n",
       "      <td>4</td>\n",
       "    </tr>\n",
       "    <tr>\n",
       "      <th>39214</th>\n",
       "      <td>99982</td>\n",
       "      <td>151454</td>\n",
       "      <td>221194</td>\n",
       "      <td>2156-11-29T23:25:00Z</td>\n",
       "      <td>2156-11-30T03:25:00Z</td>\n",
       "      <td>4</td>\n",
       "    </tr>\n",
       "    <tr>\n",
       "      <th>39215</th>\n",
       "      <td>99982</td>\n",
       "      <td>151454</td>\n",
       "      <td>221194</td>\n",
       "      <td>2156-11-30T03:25:00Z</td>\n",
       "      <td>2156-11-30T07:25:00Z</td>\n",
       "      <td>4</td>\n",
       "    </tr>\n",
       "    <tr>\n",
       "      <th>39216</th>\n",
       "      <td>99982</td>\n",
       "      <td>151454</td>\n",
       "      <td>221194</td>\n",
       "      <td>2156-11-30T07:25:00Z</td>\n",
       "      <td>2156-11-30T11:25:00Z</td>\n",
       "      <td>4</td>\n",
       "    </tr>\n",
       "    <tr>\n",
       "      <th>39217</th>\n",
       "      <td>99982</td>\n",
       "      <td>151454</td>\n",
       "      <td>221194</td>\n",
       "      <td>2156-11-30T11:25:00Z</td>\n",
       "      <td>2156-11-30T15:25:00Z</td>\n",
       "      <td>4</td>\n",
       "    </tr>\n",
       "    <tr>\n",
       "      <th>39218</th>\n",
       "      <td>99995</td>\n",
       "      <td>137810</td>\n",
       "      <td>229633</td>\n",
       "      <td>2147-02-08T08:06:00Z</td>\n",
       "      <td>2147-02-08T12:06:00Z</td>\n",
       "      <td>5</td>\n",
       "    </tr>\n",
       "    <tr>\n",
       "      <th>39219</th>\n",
       "      <td>99995</td>\n",
       "      <td>137810</td>\n",
       "      <td>229633</td>\n",
       "      <td>2147-02-08T12:06:00Z</td>\n",
       "      <td>2147-02-08T16:06:00Z</td>\n",
       "      <td>5</td>\n",
       "    </tr>\n",
       "    <tr>\n",
       "      <th>39220</th>\n",
       "      <td>99995</td>\n",
       "      <td>137810</td>\n",
       "      <td>229633</td>\n",
       "      <td>2147-02-08T16:06:00Z</td>\n",
       "      <td>2147-02-08T20:06:00Z</td>\n",
       "      <td>5</td>\n",
       "    </tr>\n",
       "    <tr>\n",
       "      <th>39221</th>\n",
       "      <td>99995</td>\n",
       "      <td>137810</td>\n",
       "      <td>229633</td>\n",
       "      <td>2147-02-08T20:06:00Z</td>\n",
       "      <td>2147-02-09T00:06:00Z</td>\n",
       "      <td>5</td>\n",
       "    </tr>\n",
       "    <tr>\n",
       "      <th>39222</th>\n",
       "      <td>99995</td>\n",
       "      <td>137810</td>\n",
       "      <td>229633</td>\n",
       "      <td>2147-02-09T00:06:00Z</td>\n",
       "      <td>2147-02-09T04:06:00Z</td>\n",
       "      <td>5</td>\n",
       "    </tr>\n",
       "    <tr>\n",
       "      <th>39223</th>\n",
       "      <td>99995</td>\n",
       "      <td>137810</td>\n",
       "      <td>229633</td>\n",
       "      <td>2147-02-09T04:06:00Z</td>\n",
       "      <td>2147-02-09T08:06:00Z</td>\n",
       "      <td>5</td>\n",
       "    </tr>\n",
       "    <tr>\n",
       "      <th>39224</th>\n",
       "      <td>99995</td>\n",
       "      <td>137810</td>\n",
       "      <td>229633</td>\n",
       "      <td>2147-02-09T08:06:00Z</td>\n",
       "      <td>2147-02-09T12:06:00Z</td>\n",
       "      <td>5</td>\n",
       "    </tr>\n",
       "    <tr>\n",
       "      <th>39225</th>\n",
       "      <td>99995</td>\n",
       "      <td>137810</td>\n",
       "      <td>229633</td>\n",
       "      <td>2147-02-09T12:06:00Z</td>\n",
       "      <td>2147-02-09T16:06:00Z</td>\n",
       "      <td>5</td>\n",
       "    </tr>\n",
       "    <tr>\n",
       "      <th>39226</th>\n",
       "      <td>99995</td>\n",
       "      <td>137810</td>\n",
       "      <td>229633</td>\n",
       "      <td>2147-02-09T16:06:00Z</td>\n",
       "      <td>2147-02-09T20:06:00Z</td>\n",
       "      <td>5</td>\n",
       "    </tr>\n",
       "    <tr>\n",
       "      <th>39227</th>\n",
       "      <td>99995</td>\n",
       "      <td>137810</td>\n",
       "      <td>229633</td>\n",
       "      <td>2147-02-09T20:06:00Z</td>\n",
       "      <td>2147-02-10T00:06:00Z</td>\n",
       "      <td>5</td>\n",
       "    </tr>\n",
       "    <tr>\n",
       "      <th>39228</th>\n",
       "      <td>99995</td>\n",
       "      <td>137810</td>\n",
       "      <td>229633</td>\n",
       "      <td>2147-02-10T00:06:00Z</td>\n",
       "      <td>2147-02-10T04:06:00Z</td>\n",
       "      <td>5</td>\n",
       "    </tr>\n",
       "    <tr>\n",
       "      <th>39229</th>\n",
       "      <td>99995</td>\n",
       "      <td>137810</td>\n",
       "      <td>229633</td>\n",
       "      <td>2147-02-10T04:06:00Z</td>\n",
       "      <td>2147-02-10T08:06:00Z</td>\n",
       "      <td>5</td>\n",
       "    </tr>\n",
       "    <tr>\n",
       "      <th>39230</th>\n",
       "      <td>99995</td>\n",
       "      <td>137810</td>\n",
       "      <td>229633</td>\n",
       "      <td>2147-02-10T08:06:00Z</td>\n",
       "      <td>2147-02-10T12:06:00Z</td>\n",
       "      <td>5</td>\n",
       "    </tr>\n",
       "    <tr>\n",
       "      <th>39231</th>\n",
       "      <td>99995</td>\n",
       "      <td>137810</td>\n",
       "      <td>229633</td>\n",
       "      <td>2147-02-10T12:06:00Z</td>\n",
       "      <td>2147-02-10T16:06:00Z</td>\n",
       "      <td>5</td>\n",
       "    </tr>\n",
       "  </tbody>\n",
       "</table>\n",
       "<p>39232 rows × 6 columns</p>\n",
       "</div>"
      ],
      "text/plain": [
       "       subject_id  hadm_id  icustay_id   interval_start_time  \\\n",
       "0              26   197661      244882  2126-05-09T00:05:00Z   \n",
       "1              26   197661      244882  2126-05-09T04:05:00Z   \n",
       "2              26   197661      244882  2126-05-09T08:05:00Z   \n",
       "3              26   197661      244882  2126-05-10T00:05:00Z   \n",
       "4              26   197661      244882  2126-05-10T16:05:00Z   \n",
       "5              26   197661      244882  2126-05-11T04:05:00Z   \n",
       "6             145   198161      226841  2144-03-29T19:00:00Z   \n",
       "7             145   198161      226841  2144-03-29T23:00:00Z   \n",
       "8             145   198161      226841  2144-03-30T03:00:00Z   \n",
       "9             145   198161      226841  2144-03-30T07:00:00Z   \n",
       "10            145   198161      226841  2144-03-30T11:00:00Z   \n",
       "11            145   198161      226841  2144-03-30T15:00:00Z   \n",
       "12            145   198161      226841  2144-03-30T19:00:00Z   \n",
       "13            145   198161      226841  2144-03-30T23:00:00Z   \n",
       "14            145   198161      226841  2144-03-31T03:00:00Z   \n",
       "15            145   198161      226841  2144-03-31T07:00:00Z   \n",
       "16            145   198161      226841  2144-03-31T11:00:00Z   \n",
       "17            145   198161      226841  2144-03-31T15:00:00Z   \n",
       "18            145   198161      226841  2144-03-31T19:00:00Z   \n",
       "19            145   198161      226841  2144-03-31T23:00:00Z   \n",
       "20            145   198161      226841  2144-04-01T03:00:00Z   \n",
       "21            145   198161      226841  2144-04-01T07:00:00Z   \n",
       "22            145   198161      226841  2144-04-01T11:00:00Z   \n",
       "23            145   198161      226841  2144-04-01T15:00:00Z   \n",
       "24            149   154869      224026  2135-02-23T03:17:00Z   \n",
       "25            149   154869      224026  2135-02-24T03:17:00Z   \n",
       "26            149   154869      224026  2135-02-25T07:17:00Z   \n",
       "27            157   110545      235058  2106-05-17T03:29:00Z   \n",
       "28            157   110545      235058  2106-05-17T07:29:00Z   \n",
       "29            157   110545      235058  2106-05-17T11:29:00Z   \n",
       "...           ...      ...         ...                   ...   \n",
       "39202       99912   189380      236183  2153-04-15T01:30:00Z   \n",
       "39203       99912   189380      236183  2153-04-15T05:30:00Z   \n",
       "39204       99912   189380      236183  2153-04-15T09:30:00Z   \n",
       "39205       99982   151454      221194  2156-11-28T11:25:00Z   \n",
       "39206       99982   151454      221194  2156-11-28T15:25:00Z   \n",
       "39207       99982   151454      221194  2156-11-28T19:25:00Z   \n",
       "39208       99982   151454      221194  2156-11-28T23:25:00Z   \n",
       "39209       99982   151454      221194  2156-11-29T03:25:00Z   \n",
       "39210       99982   151454      221194  2156-11-29T07:25:00Z   \n",
       "39211       99982   151454      221194  2156-11-29T11:25:00Z   \n",
       "39212       99982   151454      221194  2156-11-29T15:25:00Z   \n",
       "39213       99982   151454      221194  2156-11-29T19:25:00Z   \n",
       "39214       99982   151454      221194  2156-11-29T23:25:00Z   \n",
       "39215       99982   151454      221194  2156-11-30T03:25:00Z   \n",
       "39216       99982   151454      221194  2156-11-30T07:25:00Z   \n",
       "39217       99982   151454      221194  2156-11-30T11:25:00Z   \n",
       "39218       99995   137810      229633  2147-02-08T08:06:00Z   \n",
       "39219       99995   137810      229633  2147-02-08T12:06:00Z   \n",
       "39220       99995   137810      229633  2147-02-08T16:06:00Z   \n",
       "39221       99995   137810      229633  2147-02-08T20:06:00Z   \n",
       "39222       99995   137810      229633  2147-02-09T00:06:00Z   \n",
       "39223       99995   137810      229633  2147-02-09T04:06:00Z   \n",
       "39224       99995   137810      229633  2147-02-09T08:06:00Z   \n",
       "39225       99995   137810      229633  2147-02-09T12:06:00Z   \n",
       "39226       99995   137810      229633  2147-02-09T16:06:00Z   \n",
       "39227       99995   137810      229633  2147-02-09T20:06:00Z   \n",
       "39228       99995   137810      229633  2147-02-10T00:06:00Z   \n",
       "39229       99995   137810      229633  2147-02-10T04:06:00Z   \n",
       "39230       99995   137810      229633  2147-02-10T08:06:00Z   \n",
       "39231       99995   137810      229633  2147-02-10T12:06:00Z   \n",
       "\n",
       "          interval_end_time  sofa  \n",
       "0      2126-05-09T04:05:00Z     2  \n",
       "1      2126-05-09T08:05:00Z     2  \n",
       "2      2126-05-09T12:05:00Z     2  \n",
       "3      2126-05-10T04:05:00Z     2  \n",
       "4      2126-05-10T20:05:00Z     2  \n",
       "5      2126-05-11T08:05:00Z     2  \n",
       "6      2144-03-29T23:00:00Z     2  \n",
       "7      2144-03-30T03:00:00Z     2  \n",
       "8      2144-03-30T07:00:00Z     2  \n",
       "9      2144-03-30T11:00:00Z     2  \n",
       "10     2144-03-30T15:00:00Z     2  \n",
       "11     2144-03-30T19:00:00Z     2  \n",
       "12     2144-03-30T23:00:00Z     2  \n",
       "13     2144-03-31T03:00:00Z     2  \n",
       "14     2144-03-31T07:00:00Z     2  \n",
       "15     2144-03-31T11:00:00Z     2  \n",
       "16     2144-03-31T15:00:00Z     2  \n",
       "17     2144-03-31T19:00:00Z     2  \n",
       "18     2144-03-31T23:00:00Z     2  \n",
       "19     2144-04-01T03:00:00Z     2  \n",
       "20     2144-04-01T07:00:00Z     2  \n",
       "21     2144-04-01T11:00:00Z     2  \n",
       "22     2144-04-01T15:00:00Z     2  \n",
       "23     2144-04-01T19:00:00Z     2  \n",
       "24     2135-02-23T07:17:00Z     3  \n",
       "25     2135-02-24T07:17:00Z     3  \n",
       "26     2135-02-25T11:17:00Z     3  \n",
       "27     2106-05-17T07:29:00Z     2  \n",
       "28     2106-05-17T11:29:00Z     2  \n",
       "29     2106-05-17T15:29:00Z     2  \n",
       "...                     ...   ...  \n",
       "39202  2153-04-15T05:30:00Z     7  \n",
       "39203  2153-04-15T09:30:00Z     7  \n",
       "39204  2153-04-15T13:30:00Z     7  \n",
       "39205  2156-11-28T15:25:00Z     4  \n",
       "39206  2156-11-28T19:25:00Z     4  \n",
       "39207  2156-11-28T23:25:00Z     4  \n",
       "39208  2156-11-29T03:25:00Z     4  \n",
       "39209  2156-11-29T07:25:00Z     4  \n",
       "39210  2156-11-29T11:25:00Z     4  \n",
       "39211  2156-11-29T15:25:00Z     4  \n",
       "39212  2156-11-29T19:25:00Z     4  \n",
       "39213  2156-11-29T23:25:00Z     4  \n",
       "39214  2156-11-30T03:25:00Z     4  \n",
       "39215  2156-11-30T07:25:00Z     4  \n",
       "39216  2156-11-30T11:25:00Z     4  \n",
       "39217  2156-11-30T15:25:00Z     4  \n",
       "39218  2147-02-08T12:06:00Z     5  \n",
       "39219  2147-02-08T16:06:00Z     5  \n",
       "39220  2147-02-08T20:06:00Z     5  \n",
       "39221  2147-02-09T00:06:00Z     5  \n",
       "39222  2147-02-09T04:06:00Z     5  \n",
       "39223  2147-02-09T08:06:00Z     5  \n",
       "39224  2147-02-09T12:06:00Z     5  \n",
       "39225  2147-02-09T16:06:00Z     5  \n",
       "39226  2147-02-09T20:06:00Z     5  \n",
       "39227  2147-02-10T00:06:00Z     5  \n",
       "39228  2147-02-10T04:06:00Z     5  \n",
       "39229  2147-02-10T08:06:00Z     5  \n",
       "39230  2147-02-10T12:06:00Z     5  \n",
       "39231  2147-02-10T16:06:00Z     5  \n",
       "\n",
       "[39232 rows x 6 columns]"
      ]
     },
     "execution_count": 37,
     "metadata": {},
     "output_type": "execute_result"
    }
   ],
   "source": [
    "df_orig[[\"subject_id\", \"hadm_id\",\"icustay_id\", \"interval_start_time\", \"interval_end_time\", \"sofa\"]]"
   ]
  },
  {
   "cell_type": "code",
   "execution_count": 43,
   "metadata": {},
   "outputs": [],
   "source": [
    "data=df_results.join(df_orig[[\"subject_id\", \"hadm_id\",\"icustay_id\", \"interval_start_time\", \"interval_end_time\", \"sofa\"]], how=\"left\", lsuffix=\"_left\")"
   ]
  },
  {
   "cell_type": "code",
   "execution_count": 14,
   "metadata": {},
   "outputs": [],
   "source": [
    "def decode (df):\n",
    "    df['vaso'] = inv_action_map[df.discrete_action][1]\n",
    "    df['iv']= inv_action_map[int(df.discrete_action)][0]\n",
    "    return df"
   ]
  },
  {
   "cell_type": "code",
   "execution_count": 46,
   "metadata": {},
   "outputs": [
    {
     "data": {
      "text/plain": [
       "Index(['Unnamed: 0', 'subject_id_left', 'hadm_id_left', 'icustay_id_left',\n",
       "       'interval_start_time_left', 'interval_end_time_left', 'sofa_left',\n",
       "       'iv_pred', 'iv_real', 'vaso_pred', 'vaso_real', 'died', 'subject_id',\n",
       "       'hadm_id', 'icustay_id', 'interval_start_time', 'interval_end_time',\n",
       "       'sofa'],\n",
       "      dtype='object')"
      ]
     },
     "execution_count": 46,
     "metadata": {},
     "output_type": "execute_result"
    }
   ],
   "source": [
    "data.columns"
   ]
  },
  {
   "cell_type": "code",
   "execution_count": 47,
   "metadata": {},
   "outputs": [
    {
     "data": {
      "text/plain": [
       "(array([5271.,    0.,    0.,    0.,    0.,    0.,  663.,    0.,    0.,\n",
       "           0.,    0.,    0., 2701.,    0.,    0.,    0.,    0.,    0.,\n",
       "        7315.,    0.,    0.,    0.,    0.,    0., 3538.]),\n",
       " array([0.  , 0.16, 0.32, 0.48, 0.64, 0.8 , 0.96, 1.12, 1.28, 1.44, 1.6 ,\n",
       "        1.76, 1.92, 2.08, 2.24, 2.4 , 2.56, 2.72, 2.88, 3.04, 3.2 , 3.36,\n",
       "        3.52, 3.68, 3.84, 4.  ]),\n",
       " <a list of 25 Patch objects>)"
      ]
     },
     "execution_count": 47,
     "metadata": {},
     "output_type": "execute_result"
    },
    {
     "data": {
      "image/png": "[encoded data removed]",
      "text/plain": [
       "<Figure size 432x288 with 1 Axes>"
      ]
     },
     "metadata": {
      "needs_background": "light"
     },
     "output_type": "display_data"
    }
   ],
   "source": [
    "plt.hist(data.iv_pred, bins=25)"
   ]
  },
  {
   "cell_type": "code",
   "execution_count": 48,
   "metadata": {},
   "outputs": [
    {
     "data": {
      "text/plain": [
       "(array([17859.,     0.,     0.,     0.,     0.,     0.,   447.,     0.,\n",
       "            0.,     0.,     0.,     0.,   397.,     0.,     0.,     0.,\n",
       "            0.,     0.,   381.,     0.,     0.,     0.,     0.,     0.,\n",
       "          404.]),\n",
       " array([0.  , 0.16, 0.32, 0.48, 0.64, 0.8 , 0.96, 1.12, 1.28, 1.44, 1.6 ,\n",
       "        1.76, 1.92, 2.08, 2.24, 2.4 , 2.56, 2.72, 2.88, 3.04, 3.2 , 3.36,\n",
       "        3.52, 3.68, 3.84, 4.  ]),\n",
       " <a list of 25 Patch objects>)"
      ]
     },
     "execution_count": 48,
     "metadata": {},
     "output_type": "execute_result"
    },
    {
     "data": {
      "image/png": "[encoded data removed]",
      "text/plain": [
       "<Figure size 432x288 with 1 Axes>"
      ]
     },
     "metadata": {
      "needs_background": "light"
     },
     "output_type": "display_data"
    }
   ],
   "source": [
    "plt.hist(data.iv_real, bins=25)"
   ]
  },
  {
   "cell_type": "code",
   "execution_count": 49,
   "metadata": {},
   "outputs": [],
   "source": [
    "def graph(title, iv, vaso):\n",
    "    plt.hist2d(iv, vaso, bins=5, cmap='OrRd')\n",
    "    plt.title(title)\n",
    "    plt.ylabel(\"IV\")\n",
    "    plt.xlabel(\"Vasopressors\")\n",
    "    plt.colorbar(label = \"Action counts\")"
   ]
  },
  {
   "cell_type": "code",
   "execution_count": 51,
   "metadata": {},
   "outputs": [
    {
     "data": {
      "text/plain": [
       "(array([ 244., 5784., 6179., 3426., 1172., 1553.,  632.,  324.,  123.,\n",
       "          51.]),\n",
       " array([ 0. ,  1.8,  3.6,  5.4,  7.2,  9. , 10.8, 12.6, 14.4, 16.2, 18. ]),\n",
       " <a list of 10 Patch objects>)"
      ]
     },
     "execution_count": 51,
     "metadata": {},
     "output_type": "execute_result"
    },
    {
     "data": {
      "image/png": "[encoded data removed]",
      "text/plain": [
       "<Figure size 432x288 with 1 Axes>"
      ]
     },
     "metadata": {
      "needs_background": "light"
     },
     "output_type": "display_data"
    }
   ],
   "source": [
    "plt.hist(data.sofa)"
   ]
  },
  {
   "cell_type": "code",
   "execution_count": 52,
   "metadata": {},
   "outputs": [
    {
     "data": {
      "image/png": "[encoded data removed]",
      "text/plain": [
       "<Figure size 432x288 with 2 Axes>"
      ]
     },
     "metadata": {
      "needs_background": "light"
     },
     "output_type": "display_data"
    }
   ],
   "source": [
    "med_sofa = data[data['sofa'].between(5, 15, inclusive=True)]\n",
    "\n",
    "graph(\"Physician's Actions - Med SOFA\", med_sofa.iv_real, med_sofa.vaso_real)"
   ]
  },
  {
   "cell_type": "code",
   "execution_count": 57,
   "metadata": {},
   "outputs": [
    {
     "data": {
      "image/png": "[encoded data removed]",
      "text/plain": [
       "<Figure size 432x288 with 2 Axes>"
      ]
     },
     "metadata": {
      "needs_background": "light"
     },
     "output_type": "display_data"
    }
   ],
   "source": [
    "graph(\"Agent's Actions - Med SOFA\", med_sofa.vaso_pred, med_sofa.iv_pred)"
   ]
  },
  {
   "cell_type": "code",
   "execution_count": 54,
   "metadata": {},
   "outputs": [
    {
     "data": {
      "text/plain": [
       "<matplotlib.colorbar.Colorbar at 0x11a951390>"
      ]
     },
     "execution_count": 54,
     "metadata": {},
     "output_type": "execute_result"
    },
    {
     "data": {
      "image/png": "[encoded data removed]",
      "text/plain": [
       "<Figure size 432x288 with 2 Axes>"
      ]
     },
     "metadata": {
      "needs_background": "light"
     },
     "output_type": "display_data"
    }
   ],
   "source": [
    "plt.hist2d(data.iv_pred, data.vaso_pred, bins=5, cmap='OrRd')\n",
    "plt.title(\"Agent's Learned Actions\")\n",
    "plt.ylabel(\"IV\")\n",
    "plt.xlabel(\"Vasopressors\")\n",
    "plt.colorbar(label = \"Action counts\")"
   ]
  },
  {
   "cell_type": "code",
   "execution_count": 55,
   "metadata": {},
   "outputs": [
    {
     "data": {
      "text/plain": [
       "Text(0.5, 1.0, 'Vasopressors Agent')"
      ]
     },
     "execution_count": 55,
     "metadata": {},
     "output_type": "execute_result"
    },
    {
     "data": {
      "image/png": "[encoded data removed]",
      "text/plain": [
       "<Figure size 432x288 with 1 Axes>"
      ]
     },
     "metadata": {
      "needs_background": "light"
     },
     "output_type": "display_data"
    }
   ],
   "source": [
    "plt.hist(data.vaso_pred, bins=10)\n",
    "plt.title(\"Vasopressors Agent\")"
   ]
  },
  {
   "cell_type": "code",
   "execution_count": 34,
   "metadata": {},
   "outputs": [],
   "source": [
    "med_sofa = data[data['sofa_x'].between(15, 20, inclusive=True)]"
   ]
  },
  {
   "cell_type": "code",
   "execution_count": 35,
   "metadata": {},
   "outputs": [],
   "source": [
    "med_sofa = med_sofa.fillna(0)\n",
    "\n",
    "def vaso_diff(df):\n",
    "    df[\"vaso_diff\"] = df.vaso_pred  - df.vaso_real\n",
    "    return df\n",
    "\n",
    "def iv_diff(df):\n",
    "    df[\"iv_diff\"] = df.iv_pred  - df.iv_real\n",
    "    return df"
   ]
  },
  {
   "cell_type": "code",
   "execution_count": 36,
   "metadata": {},
   "outputs": [
    {
     "data": {
      "text/html": [
       "<div>\n",
       "<style scoped>\n",
       "    .dataframe tbody tr th:only-of-type {\n",
       "        vertical-align: middle;\n",
       "    }\n",
       "\n",
       "    .dataframe tbody tr th {\n",
       "        vertical-align: top;\n",
       "    }\n",
       "\n",
       "    .dataframe thead th {\n",
       "        text-align: right;\n",
       "    }\n",
       "</style>\n",
       "<table border=\"1\" class=\"dataframe\">\n",
       "  <thead>\n",
       "    <tr style=\"text-align: right;\">\n",
       "      <th></th>\n",
       "      <th>iv_pred</th>\n",
       "      <th>vaso_pred</th>\n",
       "      <th>iv_real</th>\n",
       "      <th>vaso_real</th>\n",
       "      <th>died</th>\n",
       "      <th>sofa_x</th>\n",
       "    </tr>\n",
       "  </thead>\n",
       "  <tbody>\n",
       "    <tr>\n",
       "      <th>875</th>\n",
       "      <td>0</td>\n",
       "      <td>0</td>\n",
       "      <td>0</td>\n",
       "      <td>1</td>\n",
       "      <td>1</td>\n",
       "      <td>15</td>\n",
       "    </tr>\n",
       "    <tr>\n",
       "      <th>876</th>\n",
       "      <td>0</td>\n",
       "      <td>3</td>\n",
       "      <td>0</td>\n",
       "      <td>3</td>\n",
       "      <td>1</td>\n",
       "      <td>15</td>\n",
       "    </tr>\n",
       "    <tr>\n",
       "      <th>877</th>\n",
       "      <td>2</td>\n",
       "      <td>2</td>\n",
       "      <td>0</td>\n",
       "      <td>4</td>\n",
       "      <td>1</td>\n",
       "      <td>15</td>\n",
       "    </tr>\n",
       "    <tr>\n",
       "      <th>878</th>\n",
       "      <td>2</td>\n",
       "      <td>2</td>\n",
       "      <td>0</td>\n",
       "      <td>1</td>\n",
       "      <td>1</td>\n",
       "      <td>15</td>\n",
       "    </tr>\n",
       "    <tr>\n",
       "      <th>879</th>\n",
       "      <td>2</td>\n",
       "      <td>2</td>\n",
       "      <td>0</td>\n",
       "      <td>1</td>\n",
       "      <td>1</td>\n",
       "      <td>15</td>\n",
       "    </tr>\n",
       "  </tbody>\n",
       "</table>\n",
       "</div>"
      ],
      "text/plain": [
       "     iv_pred  vaso_pred  iv_real  vaso_real  died  sofa_x\n",
       "875        0          0        0          1     1      15\n",
       "876        0          3        0          3     1      15\n",
       "877        2          2        0          4     1      15\n",
       "878        2          2        0          1     1      15\n",
       "879        2          2        0          1     1      15"
      ]
     },
     "execution_count": 36,
     "metadata": {},
     "output_type": "execute_result"
    }
   ],
   "source": [
    "med_sofa.head()"
   ]
  },
  {
   "cell_type": "code",
   "execution_count": 37,
   "metadata": {},
   "outputs": [],
   "source": [
    "med_sofa = med_sofa.apply(vaso_diff,  axis=1)\n",
    "med_sofa = med_sofa.apply(iv_diff,  axis=1)"
   ]
  },
  {
   "cell_type": "code",
   "execution_count": 53,
   "metadata": {},
   "outputs": [
    {
     "data": {
      "text/plain": [
       "iv_pred      216\n",
       "vaso_pred    216\n",
       "iv_real      216\n",
       "vaso_real    216\n",
       "died         216\n",
       "sofa_x       216\n",
       "vaso_diff    216\n",
       "iv_diff      216\n",
       "dtype: int64"
      ]
     },
     "execution_count": 53,
     "metadata": {},
     "output_type": "execute_result"
    }
   ],
   "source": [
    "med_sofa.count()"
   ]
  },
  {
   "cell_type": "code",
   "execution_count": 39,
   "metadata": {},
   "outputs": [],
   "source": [
    "def mortality(df):\n",
    "    return sum(df['died'])/df['died'].count()\n",
    "\n",
    "med_sofa_vaso = med_sofa.groupby(\"vaso_diff\").apply(mortality)\n",
    "med_sofa_iv = med_sofa.groupby(\"iv_diff\").apply(mortality)"
   ]
  },
  {
   "cell_type": "code",
   "execution_count": 40,
   "metadata": {},
   "outputs": [
    {
     "data": {
      "text/plain": [
       "vaso_diff\n",
       "-4    0.437500\n",
       "-3    0.697674\n",
       "-2    0.760000\n",
       "-1    0.647059\n",
       " 0    0.720000\n",
       " 1    0.666667\n",
       " 2    1.000000\n",
       "dtype: float64"
      ]
     },
     "execution_count": 40,
     "metadata": {},
     "output_type": "execute_result"
    }
   ],
   "source": [
    "med_sofa_vaso"
   ]
  },
  {
   "cell_type": "code",
   "execution_count": 48,
   "metadata": {},
   "outputs": [
    {
     "data": {
      "text/html": [
       "<div>\n",
       "<style scoped>\n",
       "    .dataframe tbody tr th:only-of-type {\n",
       "        vertical-align: middle;\n",
       "    }\n",
       "\n",
       "    .dataframe tbody tr th {\n",
       "        vertical-align: top;\n",
       "    }\n",
       "\n",
       "    .dataframe thead th {\n",
       "        text-align: right;\n",
       "    }\n",
       "</style>\n",
       "<table border=\"1\" class=\"dataframe\">\n",
       "  <thead>\n",
       "    <tr style=\"text-align: right;\">\n",
       "      <th></th>\n",
       "      <th>vaso_pred</th>\n",
       "      <th>vaso_pred</th>\n",
       "      <th>iv_pred</th>\n",
       "    </tr>\n",
       "  </thead>\n",
       "  <tbody>\n",
       "    <tr>\n",
       "      <th>0</th>\n",
       "      <td>0</td>\n",
       "      <td>0</td>\n",
       "      <td>0</td>\n",
       "    </tr>\n",
       "    <tr>\n",
       "      <th>1</th>\n",
       "      <td>0</td>\n",
       "      <td>0</td>\n",
       "      <td>1</td>\n",
       "    </tr>\n",
       "    <tr>\n",
       "      <th>2</th>\n",
       "      <td>0</td>\n",
       "      <td>0</td>\n",
       "      <td>2</td>\n",
       "    </tr>\n",
       "    <tr>\n",
       "      <th>3</th>\n",
       "      <td>0</td>\n",
       "      <td>0</td>\n",
       "      <td>3</td>\n",
       "    </tr>\n",
       "    <tr>\n",
       "      <th>4</th>\n",
       "      <td>0</td>\n",
       "      <td>0</td>\n",
       "      <td>4</td>\n",
       "    </tr>\n",
       "    <tr>\n",
       "      <th>5</th>\n",
       "      <td>1</td>\n",
       "      <td>1</td>\n",
       "      <td>1</td>\n",
       "    </tr>\n",
       "    <tr>\n",
       "      <th>6</th>\n",
       "      <td>1</td>\n",
       "      <td>1</td>\n",
       "      <td>2</td>\n",
       "    </tr>\n",
       "    <tr>\n",
       "      <th>7</th>\n",
       "      <td>1</td>\n",
       "      <td>1</td>\n",
       "      <td>3</td>\n",
       "    </tr>\n",
       "    <tr>\n",
       "      <th>8</th>\n",
       "      <td>1</td>\n",
       "      <td>1</td>\n",
       "      <td>4</td>\n",
       "    </tr>\n",
       "    <tr>\n",
       "      <th>9</th>\n",
       "      <td>2</td>\n",
       "      <td>2</td>\n",
       "      <td>1</td>\n",
       "    </tr>\n",
       "    <tr>\n",
       "      <th>10</th>\n",
       "      <td>2</td>\n",
       "      <td>2</td>\n",
       "      <td>2</td>\n",
       "    </tr>\n",
       "    <tr>\n",
       "      <th>11</th>\n",
       "      <td>2</td>\n",
       "      <td>2</td>\n",
       "      <td>3</td>\n",
       "    </tr>\n",
       "    <tr>\n",
       "      <th>12</th>\n",
       "      <td>2</td>\n",
       "      <td>2</td>\n",
       "      <td>4</td>\n",
       "    </tr>\n",
       "    <tr>\n",
       "      <th>13</th>\n",
       "      <td>3</td>\n",
       "      <td>3</td>\n",
       "      <td>0</td>\n",
       "    </tr>\n",
       "    <tr>\n",
       "      <th>14</th>\n",
       "      <td>3</td>\n",
       "      <td>3</td>\n",
       "      <td>1</td>\n",
       "    </tr>\n",
       "    <tr>\n",
       "      <th>15</th>\n",
       "      <td>3</td>\n",
       "      <td>3</td>\n",
       "      <td>3</td>\n",
       "    </tr>\n",
       "    <tr>\n",
       "      <th>16</th>\n",
       "      <td>3</td>\n",
       "      <td>3</td>\n",
       "      <td>4</td>\n",
       "    </tr>\n",
       "    <tr>\n",
       "      <th>17</th>\n",
       "      <td>4</td>\n",
       "      <td>4</td>\n",
       "      <td>4</td>\n",
       "    </tr>\n",
       "  </tbody>\n",
       "</table>\n",
       "</div>"
      ],
      "text/plain": [
       "    vaso_pred  vaso_pred  iv_pred\n",
       "0           0          0        0\n",
       "1           0          0        1\n",
       "2           0          0        2\n",
       "3           0          0        3\n",
       "4           0          0        4\n",
       "5           1          1        1\n",
       "6           1          1        2\n",
       "7           1          1        3\n",
       "8           1          1        4\n",
       "9           2          2        1\n",
       "10          2          2        2\n",
       "11          2          2        3\n",
       "12          2          2        4\n",
       "13          3          3        0\n",
       "14          3          3        1\n",
       "15          3          3        3\n",
       "16          3          3        4\n",
       "17          4          4        4"
      ]
     },
     "execution_count": 48,
     "metadata": {},
     "output_type": "execute_result"
    }
   ],
   "source": [
    "med_sofa.groupby([\"vaso_pred\", \"iv_pred\"]).agg(\"count\").reset_index()[[\"vaso_pred\", \"vaso_pred\", \"iv_pred\"]]"
   ]
  },
  {
   "cell_type": "code",
   "execution_count": 41,
   "metadata": {},
   "outputs": [
    {
     "data": {
      "text/plain": [
       "[<matplotlib.lines.Line2D at 0x11a915a20>]"
      ]
     },
     "execution_count": 41,
     "metadata": {},
     "output_type": "execute_result"
    },
    {
     "data": {
      "image/png": "[encoded data removed]",
      "text/plain": [
       "<Figure size 432x288 with 1 Axes>"
      ]
     },
     "metadata": {
      "needs_background": "light"
     },
     "output_type": "display_data"
    }
   ],
   "source": [
    "plt.plot(med_sofa_vaso)"
   ]
  },
  {
   "cell_type": "code",
   "execution_count": 44,
   "metadata": {},
   "outputs": [
    {
     "data": {
      "text/plain": [
       "[<matplotlib.lines.Line2D at 0x11b740320>]"
      ]
     },
     "execution_count": 44,
     "metadata": {},
     "output_type": "execute_result"
    },
    {
     "data": {
      "image/png": "[encoded data removed]",
      "text/plain": [
       "<Figure size 432x288 with 1 Axes>"
      ]
     },
     "metadata": {
      "needs_background": "light"
     },
     "output_type": "display_data"
    }
   ],
   "source": [
    "plt.plot(med_sofa_iv)"
   ]
  },
  {
   "cell_type": "code",
   "execution_count": 43,
   "metadata": {},
   "outputs": [
    {
     "data": {
      "text/plain": [
       "(array([4599.,    0., 3585.,  104., 3492.,  158., 3570.,  248., 3199.,\n",
       "         572.]),\n",
       " array([ 0. ,  2.4,  4.8,  7.2,  9.6, 12. , 14.4, 16.8, 19.2, 21.6, 24. ]),\n",
       " <a list of 10 Patch objects>)"
      ]
     },
     "execution_count": 43,
     "metadata": {},
     "output_type": "execute_result"
    },
    {
     "data": {
      "image/png": "[encoded data removed]",
      "text/plain": [
       "<Figure size 432x288 with 1 Axes>"
      ]
     },
     "metadata": {
      "needs_background": "light"
     },
     "output_type": "display_data"
    }
   ],
   "source": [
    "plt.hist(action_df['discrete_action'])"
   ]
  },
  {
   "cell_type": "code",
   "execution_count": null,
   "metadata": {},
   "outputs": [],
   "source": []
  },
  {
   "cell_type": "code",
   "execution_count": null,
   "metadata": {},
   "outputs": [],
   "source": [
    "sns.jointplot(\"vaso_real\", \"iv_real\", data=med_sofa, kind=\"hex\")"
   ]
  },
  {
   "cell_type": "code",
   "execution_count": null,
   "metadata": {},
   "outputs": [],
   "source": [
    "plt.hist2d()"
   ]
  },
  {
   "cell_type": "code",
   "execution_count": null,
   "metadata": {},
   "outputs": [],
   "source": []
  },
  {
   "cell_type": "code",
   "execution_count": null,
   "metadata": {},
   "outputs": [],
   "source": [
    "inv_action_map = {}\n",
    "count = 0\n",
    "for i in range(5):\n",
    "    for j in range(5):\n",
    "        inv_action_map[count] = [i,j]\n",
    "        count += 1"
   ]
  },
  {
   "cell_type": "code",
   "execution_count": null,
   "metadata": {},
   "outputs": [],
   "source": [
    "phys_actions_tuple = [None for i in range(len(phys_actions))]\n",
    "deeprl2_actions_tuple = [None for i in range(len(phys_actions))]\n",
    "autoencode_actions_tuple = [None for i in range(len(phys_actions))]                                          \n",
    "\n",
    "for i in range(len(phys_actions)):\n",
    "    phys_actions_tuple[i] = inv_action_map[phys_actions[i]]\n",
    "    deeprl2_actions_tuple[i] = inv_action_map[deeprl2_actions[i]]\n",
    "    autoencode_actions_tuple[i] = inv_action_map[autoencode_actions[i]]"
   ]
  },
  {
   "cell_type": "code",
   "execution_count": null,
   "metadata": {},
   "outputs": [],
   "source": [
    "phys_actions_tuple = np.array(phys_actions_tuple)\n",
    "deeprl2_actions_tuple = np.array(deeprl2_actions_tuple)\n",
    "autoencode_actions_tuple = np.array(autoencode_actions_tuple)"
   ]
  },
  {
   "cell_type": "code",
   "execution_count": null,
   "metadata": {},
   "outputs": [],
   "source": [
    "phys_actions_iv = phys_actions_tuple[:,0]\n",
    "phys_actions_vaso = phys_actions_tuple[:,1]\n",
    "hist, x_edges, y_edges = np.histogram2d(phys_actions_iv, phys_actions_vaso, bins=5)"
   ]
  },
  {
   "cell_type": "code",
   "execution_count": null,
   "metadata": {},
   "outputs": [],
   "source": [
    "deeprl2_actions_iv = deeprl2_actions_tuple[:,0]\n",
    "deeprl2_actions_vaso = deeprl2_actions_tuple[:,1]\n",
    "hist2, _, _ = np.histogram2d(deeprl2_actions_iv, deeprl2_actions_vaso, bins=5)"
   ]
  },
  {
   "cell_type": "code",
   "execution_count": null,
   "metadata": {},
   "outputs": [],
   "source": [
    "autoencode_actions_iv = autoencode_actions_tuple[:,0]\n",
    "autoencode_actions_vaso = autoencode_actions_tuple[:,1]\n",
    "hist3, _, _ = np.histogram2d(autoencode_actions_iv, autoencode_actions_vaso, bins=5)"
   ]
  },
  {
   "cell_type": "code",
   "execution_count": null,
   "metadata": {},
   "outputs": [],
   "source": [
    "x_edges = np.arange(-0.5,5)\n",
    "y_edges = np.arange(-0.5,5)"
   ]
  },
  {
   "cell_type": "code",
   "execution_count": null,
   "metadata": {},
   "outputs": [],
   "source": [
    "f, (ax1, ax2, ax3) = plt.subplots(1, 3, figsize=(16,4))\n",
    "ax1.imshow(np.flipud(hist), cmap=\"Blues\",extent=[x_edges[0], x_edges[-1],  y_edges[0],y_edges[-1]])\n",
    "ax2.imshow(np.flipud(hist2), cmap=\"OrRd\", extent=[x_edges[0], x_edges[-1],  y_edges[0],y_edges[-1]])\n",
    "ax3.imshow(np.flipud(hist3), cmap=\"Greens\", extent=[x_edges[0], x_edges[-1],  y_edges[0],y_edges[-1]])\n",
    "\n",
    "# ax1.grid(color='b', linestyle='-', linewidth=1)\n",
    "# ax2.grid(color='r', linestyle='-', linewidth=1)\n",
    "# ax3.grid(color='g', linestyle='-', linewidth=1)\n",
    "\n",
    "# Major ticks\n",
    "ax1.set_xticks(np.arange(0, 5, 1));\n",
    "ax1.set_yticks(np.arange(0, 5, 1));\n",
    "ax2.set_xticks(np.arange(0, 5, 1));\n",
    "ax2.set_yticks(np.arange(0, 5, 1));\n",
    "ax3.set_xticks(np.arange(0, 5, 1));\n",
    "ax3.set_yticks(np.arange(0, 5, 1));\n",
    "\n",
    "# Labels for major ticks\n",
    "ax1.set_xticklabels(np.arange(0, 5, 1));\n",
    "ax1.set_yticklabels(np.arange(0, 5, 1));\n",
    "ax2.set_xticklabels(np.arange(0, 5, 1));\n",
    "ax2.set_yticklabels(np.arange(0, 5, 1));\n",
    "ax3.set_xticklabels(np.arange(0, 5, 1));\n",
    "ax3.set_yticklabels(np.arange(0, 5, 1));\n",
    "\n",
    "# Minor ticks\n",
    "ax1.set_xticks(np.arange(-.5, 5, 1), minor=True);\n",
    "ax1.set_yticks(np.arange(-.5, 5, 1), minor=True);\n",
    "ax2.set_xticks(np.arange(-.5, 5, 1), minor=True);\n",
    "ax2.set_yticks(np.arange(-.5, 5, 1), minor=True);\n",
    "ax3.set_xticks(np.arange(-.5, 5, 1), minor=True);\n",
    "ax3.set_yticks(np.arange(-.5, 5, 1), minor=True);\n",
    "\n",
    "# Gridlines based on minor ticks\n",
    "ax1.grid(which='minor', color='b', linestyle='-', linewidth=1)\n",
    "ax2.grid(which='minor', color='r', linestyle='-', linewidth=1)\n",
    "ax3.grid(which='minor', color='g', linestyle='-', linewidth=1)\n",
    "\n",
    "im1 = ax1.pcolormesh(x_edges, y_edges, hist, cmap='Blues')\n",
    "f.colorbar(im1, ax=ax1, label = \"Action counts\")\n",
    "\n",
    "im2 = ax2.pcolormesh(x_edges, y_edges, hist2, cmap='OrRd')\n",
    "f.colorbar(im2, ax=ax2, label = \"Action counts\")\n",
    "\n",
    "im3 = ax3.pcolormesh(x_edges, y_edges, hist3, cmap='Greens')\n",
    "f.colorbar(im3, ax=ax3, label = \"Action counts\")\n",
    "\n",
    "ax1.set_ylabel('IV fluid dose')\n",
    "ax2.set_ylabel('IV fluid dose')\n",
    "ax3.set_ylabel('IV fluid dose')\n",
    "ax1.set_xlabel('Vasopressor dose')\n",
    "ax2.set_xlabel('Vasopressor dose')\n",
    "ax3.set_xlabel('Vasopressor dose')\n",
    "\n",
    "ax1.set_title(\"Physician policy\")\n",
    "ax2.set_title(\"Q-Network (Sparse Rewards) policy\")\n",
    "ax3.set_title(\"Q-Network (Shaped Rewards) policy\")\n",
    "plt.tight_layout()"
   ]
  },
  {
   "cell_type": "code",
   "execution_count": null,
   "metadata": {
    "scrolled": true
   },
   "outputs": [],
   "source": [
    "f, (ax1, ax2, ax3) = plt.subplots(1, 3, sharey=True, figsize=(12,4))\n",
    "ax1.hist(phys_actions, bins=50)\n",
    "ax1.set_title(\"Physician Actions\", fontsize = 10)\n",
    "ax2.hist(deeprl2_actions, bins=50, color='r')\n",
    "ax2.set_title(\"Q-Network Actions\", fontsize = 10)\n",
    "ax3.hist(autoencode_actions, bins=50, color='g')\n",
    "ax3.set_title(\"Autoencode Q-Network Actions\", fontsize = 10)\n",
    "f.text(0.5, -0.03, 'Action number', ha='center', fontsize=15)\n",
    "f.text(-0.02, 0.5, 'Frequency', va='center', rotation='vertical', fontsize = 15)\n",
    "# ax2.hist(autoencode_actions, bins=25, color ='g')\n",
    "plt.tight_layout()\n"
   ]
  },
  {
   "cell_type": "code",
   "execution_count": null,
   "metadata": {},
   "outputs": [],
   "source": [
    "def make_df_diff(op_actions):\n",
    "    op_vaso_med = []\n",
    "    op_iv_med = []\n",
    "    for action in op_actions:\n",
    "        iv,vaso = inv_action_map[action]\n",
    "        op_vaso_med.append(vaso_vals[vaso])\n",
    "        op_iv_med.append(iv_vals[iv])\n",
    "    iv_diff = np.array(op_iv_med) - np.array(df_test_orig['input_4hourly_tev'])\n",
    "    vaso_diff = np.array(op_vaso_med) - np.array(df_test_orig['max_dose_vaso'])\n",
    "    df_diff = pd.DataFrame()\n",
    "    df_diff['mort'] = np.array(df_test_orig['died_in_hosp'])\n",
    "    df_diff['iv_diff'] = iv_diff\n",
    "    df_diff['vaso_diff'] = vaso_diff\n",
    "    return df_diff"
   ]
  },
  {
   "cell_type": "code",
   "execution_count": null,
   "metadata": {},
   "outputs": [],
   "source": [
    "from scipy.stats import sem\n",
    "def make_iv_plot_data(df_diff):\n",
    "    bin_medians_iv = []\n",
    "    mort_iv = []\n",
    "    mort_std_iv= []\n",
    "    i = -800\n",
    "    while i <= 900:\n",
    "        count =df_diff.loc[(df_diff['iv_diff']>i-50) & (df_diff['iv_diff']<i+50)]\n",
    "        try:\n",
    "            res = sum(count['mort'])/float(len(count))\n",
    "            if len(count) >=2:\n",
    "                bin_medians_iv.append(i)\n",
    "                mort_iv.append(res)\n",
    "                mort_std_iv.append(sem(count['mort']))\n",
    "        except ZeroDivisionError:\n",
    "            pass\n",
    "        i += 100\n",
    "    return bin_medians_iv, mort_iv, mort_std_iv"
   ]
  },
  {
   "cell_type": "code",
   "execution_count": null,
   "metadata": {},
   "outputs": [],
   "source": [
    "from scipy.stats import sem\n",
    "def make_vaso_plot_data(df_diff):\n",
    "    bin_medians_vaso = []\n",
    "    mort_vaso= []\n",
    "    mort_std_vaso= []\n",
    "    i = -0.6\n",
    "    while i <= 0.8:\n",
    "        count =df_diff.loc[(df_diff['vaso_diff']>i-0.05) & (df_diff['vaso_diff']<i+0.05)]\n",
    "        try:\n",
    "            res = sum(count['mort'])/float(len(count))\n",
    "            if len(count) >=2:\n",
    "                bin_medians_vaso.append(i)\n",
    "                mort_vaso.append(res)\n",
    "                mort_std_vaso.append(sem(count['mort']))\n",
    "        except ZeroDivisionError:\n",
    "            pass\n",
    "        i += 0.1\n",
    "    return bin_medians_vaso, mort_vaso, mort_std_vaso"
   ]
  },
  {
   "cell_type": "code",
   "execution_count": null,
   "metadata": {},
   "outputs": [],
   "source": [
    "df_diff_autoencode = make_df_diff(autoencode_actions)\n",
    "df_diff_deeprl2 = make_df_diff(deeprl2_actions)"
   ]
  },
  {
   "cell_type": "code",
   "execution_count": null,
   "metadata": {},
   "outputs": [],
   "source": [
    "bin_med_iv_auto, mort_iv_auto, mort_std_iv_auto = make_iv_plot_data(df_diff_autoencode)\n",
    "bin_med_iv_deep, mort_iv_deep, mort_std_iv_deep = make_iv_plot_data(df_diff_deeprl2)\n",
    "bin_med_vaso_auto, mort_vaso_auto, mort_std_vaso_auto = make_vaso_plot_data(df_diff_autoencode)\n",
    "bin_med_vaso_deep, mort_vaso_deep, mort_std_vaso_deep = make_vaso_plot_data(df_diff_deeprl2)"
   ]
  },
  {
   "cell_type": "code",
   "execution_count": null,
   "metadata": {
    "scrolled": false
   },
   "outputs": [],
   "source": [
    "f, ((ax1, ax2), (ax3, ax4)) = plt.subplots(2, 2, sharex='col', sharey='row', figsize = (7.5,5))\n",
    "ax1.plot(bin_med_vaso_deep, sliding_mean(mort_vaso_deep), color='r')\n",
    "ax1.fill_between(bin_med_vaso_deep, sliding_mean(mort_vaso_deep) - 1*mort_std_vaso_deep,  \n",
    "                 sliding_mean(mort_vaso_deep) + 1*mort_std_vaso_deep, color='tomato')\n",
    "ax1.set_title('Q-Network (Sparse Rewards) - Vasopressors')\n",
    "x_r = [i/10.0 for i in range(-6,10,2)]\n",
    "y_r = [i/20.0 for i in range(0,20,1)]\n",
    "ax1.set_xticks(x_r)\n",
    "ax1.set_yticks(y_r)\n",
    "ax1.grid()\n",
    "\n",
    "ax2.plot(bin_med_iv_deep, sliding_mean(mort_iv_deep), color='r')\n",
    "ax2.fill_between(bin_med_iv_deep, sliding_mean(mort_iv_deep) - 1*mort_std_iv_deep,  \n",
    "                 sliding_mean(mort_iv_deep) + 1*mort_std_iv_deep, color='tomato')\n",
    "ax2.set_title('Q-Network (Sparse Rewards) - IV fluids')\n",
    "x_iv = [i for i in range(-800,900,400)]\n",
    "ax2.set_xticks(x_iv)\n",
    "ax2.grid()\n",
    "\n",
    "ax3.plot(bin_med_vaso_auto, sliding_mean(mort_vaso_auto), color='g')\n",
    "ax3.fill_between(bin_med_vaso_auto, sliding_mean(mort_vaso_auto) - 1*mort_std_vaso_auto,  \n",
    "                 sliding_mean(mort_vaso_auto) + 1*mort_std_vaso_auto, color='palegreen')\n",
    "y_auto = [i/20.0 for i in range(0,21,1)]\n",
    "ax3.set_yticks(y_auto)\n",
    "ax3.set_title('Q-Network (Shaped Rewards) - Vasopressors')\n",
    "ax3.grid()\n",
    "\n",
    "ax4.plot(bin_med_iv_auto, sliding_mean(mort_iv_auto), color='g')\n",
    "ax4.fill_between(bin_med_iv_auto, sliding_mean(mort_iv_auto) - 1*mort_std_iv_auto,  \n",
    "                 sliding_mean(mort_iv_auto) + 1*mort_std_iv_auto, color='palegreen')\n",
    "ax4.set_title('Q-Network (Shaped Rewards) - IV Fluids')\n",
    "ax4.grid()\n",
    "plt.tight_layout()\n",
    "f.text(0.225, -0.03, 'Difference between optimal and physician vasopressor dose', ha='center', fontsize=10)\n",
    "f.text(0.775, -0.03, 'Difference between optimal and physician IV dose', ha='center', fontsize=10)\n",
    "f.text(-0.02, 0.5, 'Observed Mortality', va='center', rotation='vertical', fontsize = 10)"
   ]
  },
  {
   "cell_type": "code",
   "execution_count": null,
   "metadata": {},
   "outputs": [],
   "source": []
  }
 ],
 "metadata": {
  "kernelspec": {
   "display_name": "cs234_project",
   "language": "python",
   "name": "cs234_project"
  },
  "language_info": {
   "codemirror_mode": {
    "name": "ipython",
    "version": 3
   },
   "file_extension": ".py",
   "mimetype": "text/x-python",
   "name": "python",
   "nbconvert_exporter": "python",
   "pygments_lexer": "ipython3",
   "version": "3.6.5"
  }
 },
 "nbformat": 4,
 "nbformat_minor": 2
}
