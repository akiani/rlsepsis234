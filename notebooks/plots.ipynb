{
 "cells": [
  {
   "cell_type": "code",
   "execution_count": 1,
   "metadata": {},
   "outputs": [],
   "source": [
    "# Make relevant plots of:\n",
    "#  - Policies (as histogram)\n",
    "#  - Policies (as bar chart)\n",
    "#  - Diff in dose vs observed mortality for diff policies"
   ]
  },
  {
   "cell_type": "code",
   "execution_count": 1,
   "metadata": {},
   "outputs": [],
   "source": [
    "%matplotlib inline\n",
    "import pandas as pd\n",
    "import numpy as np\n",
    "import matplotlib.pyplot as plt\n",
    "import seaborn as sns"
   ]
  },
  {
   "cell_type": "code",
   "execution_count": 415,
   "metadata": {},
   "outputs": [],
   "source": [
    "action_df = pd.read_csv(\"/Users/tding/cs234/rlsepsis234/data3/action_df.csv\")\n",
    "df_orig = pd.read_csv(\"/Users/tding/cs234/rlsepsis234/data3/test_state_action_reward_df_no_scale.csv\")\n",
    "df_results = pd.read_csv(\"/Users/tding/cs234/rlsepsis234/results/final_dqn_offpol/20190317T171114_2k_steps/pred_real_compare20190317T171145\")\n"
   ]
  },
  {
   "cell_type": "code",
   "execution_count": 416,
   "metadata": {},
   "outputs": [],
   "source": [
    "inv_action_map = {}\n",
    "count = 0\n",
    "for i in range(5):\n",
    "    for j in range(5):\n",
    "        inv_action_map[count] = [i,j]\n",
    "        count += 1"
   ]
  },
  {
   "cell_type": "code",
   "execution_count": 417,
   "metadata": {},
   "outputs": [],
   "source": [
    "#df_results.count()"
   ]
  },
  {
   "cell_type": "code",
   "execution_count": 418,
   "metadata": {},
   "outputs": [],
   "source": [
    "#df_orig.count()"
   ]
  },
  {
   "cell_type": "code",
   "execution_count": 419,
   "metadata": {},
   "outputs": [],
   "source": [
    "#df_orig[[\"subject_id\", \"hadm_id\",\"icustay_id\", \"interval_start_time\", \"interval_end_time\", \"sofa\"]]"
   ]
  },
  {
   "cell_type": "code",
   "execution_count": 420,
   "metadata": {},
   "outputs": [],
   "source": [
    "data=df_results.join(df_orig[[\"subject_id\", \"hadm_id\",\"icustay_id\", \"interval_start_time\", \"interval_end_time\", \"sofa\"]], how=\"left\", lsuffix=\"_left\")"
   ]
  },
  {
   "cell_type": "code",
   "execution_count": 421,
   "metadata": {},
   "outputs": [],
   "source": [
    "def decode (df):\n",
    "    df['vaso'] = inv_action_map[df.discrete_action][1]\n",
    "    df['iv']= inv_action_map[int(df.discrete_action)][0]\n",
    "    return df"
   ]
  },
  {
   "cell_type": "code",
   "execution_count": 422,
   "metadata": {},
   "outputs": [
    {
     "data": {
      "text/plain": [
       "Index(['Unnamed: 0', 'subject_id_left', 'hadm_id_left', 'icustay_id_left',\n",
       "       'interval_start_time_left', 'interval_end_time_left', 'sofa_left',\n",
       "       'iv_pred', 'iv_real', 'vaso_pred', 'vaso_real', 'died', 'subject_id',\n",
       "       'hadm_id', 'icustay_id', 'interval_start_time', 'interval_end_time',\n",
       "       'sofa'],\n",
       "      dtype='object')"
      ]
     },
     "execution_count": 422,
     "metadata": {},
     "output_type": "execute_result"
    }
   ],
   "source": [
    "data.columns"
   ]
  },
  {
   "cell_type": "code",
   "execution_count": 423,
   "metadata": {},
   "outputs": [
    {
     "data": {
      "text/plain": [
       "(array([11044.,     0.,     0.,     0.,     0.,     0.,  6598.,     0.,\n",
       "            0.,     0.,     0.,     0.,  6552.,     0.,     0.,     0.,\n",
       "            0.,     0.,  7943.,     0.,     0.,     0.,     0.,     0.,\n",
       "         7095.]),\n",
       " array([0.  , 0.16, 0.32, 0.48, 0.64, 0.8 , 0.96, 1.12, 1.28, 1.44, 1.6 ,\n",
       "        1.76, 1.92, 2.08, 2.24, 2.4 , 2.56, 2.72, 2.88, 3.04, 3.2 , 3.36,\n",
       "        3.52, 3.68, 3.84, 4.  ]),\n",
       " <a list of 25 Patch objects>)"
      ]
     },
     "execution_count": 423,
     "metadata": {},
     "output_type": "execute_result"
    },
    {
     "data": {
      "image/png": "[encoded data removed]",
      "text/plain": [
       "<Figure size 432x288 with 1 Axes>"
      ]
     },
     "metadata": {
      "needs_background": "light"
     },
     "output_type": "display_data"
    }
   ],
   "source": [
    "plt.hist(data.iv_pred, bins=25)"
   ]
  },
  {
   "cell_type": "code",
   "execution_count": 424,
   "metadata": {},
   "outputs": [
    {
     "data": {
      "text/plain": [
       "(array([9507.,    0.,    0.,    0.,    0.,    0., 7241.,    0.,    0.,\n",
       "           0.,    0.,    0., 7427.,    0.,    0.,    0.,    0.,    0.,\n",
       "        7550.,    0.,    0.,    0.,    0.,    0., 7507.]),\n",
       " array([0.  , 0.16, 0.32, 0.48, 0.64, 0.8 , 0.96, 1.12, 1.28, 1.44, 1.6 ,\n",
       "        1.76, 1.92, 2.08, 2.24, 2.4 , 2.56, 2.72, 2.88, 3.04, 3.2 , 3.36,\n",
       "        3.52, 3.68, 3.84, 4.  ]),\n",
       " <a list of 25 Patch objects>)"
      ]
     },
     "execution_count": 424,
     "metadata": {},
     "output_type": "execute_result"
    },
    {
     "data": {
      "image/png": "[encoded data removed]",
      "text/plain": [
       "<Figure size 432x288 with 1 Axes>"
      ]
     },
     "metadata": {
      "needs_background": "light"
     },
     "output_type": "display_data"
    }
   ],
   "source": [
    "plt.hist(data.iv_real, bins=25)"
   ]
  },
  {
   "cell_type": "code",
   "execution_count": 425,
   "metadata": {},
   "outputs": [
    {
     "data": {
      "text/plain": [
       "(array([  502., 11901., 11905.,  7339.,  3880.,  1991.,  1008.,   422.,\n",
       "          199.,    85.]),\n",
       " array([ 0.,  2.,  4.,  6.,  8., 10., 12., 14., 16., 18., 20.]),\n",
       " <a list of 10 Patch objects>)"
      ]
     },
     "execution_count": 425,
     "metadata": {},
     "output_type": "execute_result"
    },
    {
     "data": {
      "image/png": "[encoded data removed]",
      "text/plain": [
       "<Figure size 432x288 with 1 Axes>"
      ]
     },
     "metadata": {
      "needs_background": "light"
     },
     "output_type": "display_data"
    }
   ],
   "source": [
    "plt.hist(data.sofa)"
   ]
  },
  {
   "cell_type": "code",
   "execution_count": 426,
   "metadata": {},
   "outputs": [
    {
     "data": {
      "text/plain": [
       "<matplotlib.colorbar.Colorbar at 0x12c9d8c88>"
      ]
     },
     "execution_count": 426,
     "metadata": {},
     "output_type": "execute_result"
    },
    {
     "data": {
      "image/png": "[encoded data removed]",
      "text/plain": [
       "<Figure size 432x288 with 2 Axes>"
      ]
     },
     "metadata": {
      "needs_background": "light"
     },
     "output_type": "display_data"
    }
   ],
   "source": [
    "plt.hist2d(med_sofa.vaso_real, med_sofa.iv_real, bins=5, cmap='Greens')\n",
    "plt.title(\"Physician's Actions - Med SOFA\")\n",
    "plt.ylabel(\"IV\")\n",
    "plt.xlabel(\"Vasopressors\")\n",
    "plt.colorbar(label = \"Action counts\")"
   ]
  },
  {
   "cell_type": "code",
   "execution_count": 427,
   "metadata": {},
   "outputs": [
    {
     "data": {
      "text/plain": [
       "<matplotlib.colorbar.Colorbar at 0x125ac4b70>"
      ]
     },
     "execution_count": 427,
     "metadata": {},
     "output_type": "execute_result"
    },
    {
     "data": {
      "image/png": "[encoded data removed]",
      "text/plain": [
       "<Figure size 432x288 with 2 Axes>"
      ]
     },
     "metadata": {
      "needs_background": "light"
     },
     "output_type": "display_data"
    }
   ],
   "source": [
    "plt.hist2d(med_sofa.vaso_pred, med_sofa.iv_pred, bins=5, cmap='Greens')\n",
    "plt.title(\"Agent's Learned Actions - Med SOFA\")\n",
    "plt.ylabel(\"IV\")\n",
    "plt.xlabel(\"Vasopressors\")\n",
    "plt.colorbar(label = \"Action counts\")"
   ]
  },
  {
   "cell_type": "code",
   "execution_count": 428,
   "metadata": {},
   "outputs": [],
   "source": [
    "low_sofa = data[data['sofa'].between(0, 4, inclusive=True)]"
   ]
  },
  {
   "cell_type": "code",
   "execution_count": 429,
   "metadata": {},
   "outputs": [
    {
     "data": {
      "text/plain": [
       "<matplotlib.colorbar.Colorbar at 0x126d0a630>"
      ]
     },
     "execution_count": 429,
     "metadata": {},
     "output_type": "execute_result"
    },
    {
     "data": {
      "image/png": "[encoded data removed]",
      "text/plain": [
       "<Figure size 432x288 with 2 Axes>"
      ]
     },
     "metadata": {
      "needs_background": "light"
     },
     "output_type": "display_data"
    }
   ],
   "source": [
    "plt.hist2d(low_sofa.vaso_real, low_sofa.iv_real, bins=5, cmap='Blues')\n",
    "plt.title(\"Physician's Actions - Low SOFA\")\n",
    "plt.ylabel(\"IV\")\n",
    "plt.xlabel(\"Vasopressors\")\n",
    "plt.colorbar(label = \"Action counts\")"
   ]
  },
  {
   "cell_type": "code",
   "execution_count": 430,
   "metadata": {},
   "outputs": [
    {
     "data": {
      "text/plain": [
       "<matplotlib.colorbar.Colorbar at 0x126e186d8>"
      ]
     },
     "execution_count": 430,
     "metadata": {},
     "output_type": "execute_result"
    },
    {
     "data": {
      "image/png": "[encoded data removed]",
      "text/plain": [
       "<Figure size 432x288 with 2 Axes>"
      ]
     },
     "metadata": {
      "needs_background": "light"
     },
     "output_type": "display_data"
    }
   ],
   "source": [
    "plt.hist2d(low_sofa.vaso_pred, low_sofa.iv_pred, bins=5, cmap='Blues')\n",
    "plt.title(\"Agent's Learned Actions - Low SOFA\")\n",
    "plt.ylabel(\"IV\")\n",
    "plt.xlabel(\"Vasopressors\")\n",
    "plt.colorbar(label = \"Action counts\")"
   ]
  },
  {
   "cell_type": "code",
   "execution_count": 431,
   "metadata": {},
   "outputs": [],
   "source": [
    "high_sofa = data[data['sofa'].between(15, 20, inclusive=True)]"
   ]
  },
  {
   "cell_type": "code",
   "execution_count": 432,
   "metadata": {},
   "outputs": [
    {
     "data": {
      "text/plain": [
       "<matplotlib.colorbar.Colorbar at 0x127a362b0>"
      ]
     },
     "execution_count": 432,
     "metadata": {},
     "output_type": "execute_result"
    },
    {
     "data": {
      "image/png": "[encoded data removed]",
      "text/plain": [
       "<Figure size 432x288 with 2 Axes>"
      ]
     },
     "metadata": {
      "needs_background": "light"
     },
     "output_type": "display_data"
    }
   ],
   "source": [
    "plt.hist2d(high_sofa.vaso_real, high_sofa.iv_real, bins=5, cmap='OrRd')\n",
    "plt.title(\"Physician's Actions - High SOFA\")\n",
    "plt.ylabel(\"IV\")\n",
    "plt.xlabel(\"Vasopressors\")\n",
    "plt.colorbar(label = \"Action counts\")"
   ]
  },
  {
   "cell_type": "code",
   "execution_count": 433,
   "metadata": {},
   "outputs": [
    {
     "data": {
      "text/plain": [
       "<matplotlib.colorbar.Colorbar at 0x128329e48>"
      ]
     },
     "execution_count": 433,
     "metadata": {},
     "output_type": "execute_result"
    },
    {
     "data": {
      "image/png": "[encoded data removed]",
      "text/plain": [
       "<Figure size 432x288 with 2 Axes>"
      ]
     },
     "metadata": {
      "needs_background": "light"
     },
     "output_type": "display_data"
    }
   ],
   "source": [
    "plt.hist2d(high_sofa.vaso_pred, high_sofa.iv_pred, bins=5, cmap='OrRd')\n",
    "plt.title(\"Agent's Learned Actions - High SOFA\")\n",
    "plt.ylabel(\"IV\")\n",
    "plt.xlabel(\"Vasopressors\")\n",
    "plt.colorbar(label = \"Action counts\")"
   ]
  },
  {
   "cell_type": "code",
   "execution_count": 434,
   "metadata": {},
   "outputs": [
    {
     "data": {
      "text/plain": [
       "Text(0.5, 0, 'Vasopressors')"
      ]
     },
     "execution_count": 434,
     "metadata": {},
     "output_type": "execute_result"
    },
    {
     "data": {
      "image/png": "[encoded data removed]",
      "text/plain": [
       "<Figure size 1152x720 with 6 Axes>"
      ]
     },
     "metadata": {
      "needs_background": "light"
     },
     "output_type": "display_data"
    }
   ],
   "source": [
    "f, ((ax1, ax2, ax3), (ax4, ax5, ax6)) = plt.subplots(2, 3, figsize=(16,10))\n",
    "ax1.hist2d(low_sofa.vaso_real, low_sofa.iv_real, bins=5, cmap='Blues')\n",
    "ax1.set_title(\"Physician's Actions - Low SOFA\")\n",
    "ax1.set_ylabel(\"IV\")\n",
    "ax1.set_xlabel(\"Vasopressors\")\n",
    "#ax1.colorbar(label = \"Action counts\")\n",
    "ax2.hist2d(med_sofa.vaso_real, med_sofa.iv_real, bins=5, cmap='Greens')\n",
    "ax2.set_title(\"Physician's Actions - Medium SOFA\")\n",
    "ax2.set_ylabel(\"IV\")\n",
    "ax2.set_xlabel(\"Vasopressors\")\n",
    "ax3.hist2d(high_sofa.vaso_real, high_sofa.iv_real, bins=5, cmap='OrRd')\n",
    "ax3.set_title(\"Physician's Actions - High SOFA\")\n",
    "ax3.set_ylabel(\"IV\")\n",
    "ax3.set_xlabel(\"Vasopressors\")\n",
    "ax4.hist2d(low_sofa.vaso_pred, low_sofa.iv_pred, bins=5, cmap='Blues')\n",
    "ax4.set_title(\"Agent's Learned Actions - Low SOFA\")\n",
    "ax4.set_ylabel(\"IV\")\n",
    "ax4.set_xlabel(\"Vasopressors\")\n",
    "ax5.hist2d(med_sofa.vaso_pred, med_sofa.iv_pred, bins=5, cmap='Greens')\n",
    "ax5.set_title(\"Agent's Learned Actions - Medium SOFA\")\n",
    "ax5.set_ylabel(\"IV\")\n",
    "ax5.set_xlabel(\"Vasopressors\")\n",
    "ax6.hist2d(high_sofa.vaso_pred, high_sofa.iv_pred, bins=5, cmap='OrRd')\n",
    "ax6.set_title(\"Agent's Learned Actions - High SOFA\")\n",
    "ax6.set_ylabel(\"IV\")\n",
    "ax6.set_xlabel(\"Vasopressors\")"
   ]
  },
  {
   "cell_type": "code",
   "execution_count": 435,
   "metadata": {},
   "outputs": [
    {
     "data": {
      "text/plain": [
       "Text(0.5, 1.0, \"Agent's Learned IV Actions\")"
      ]
     },
     "execution_count": 435,
     "metadata": {},
     "output_type": "execute_result"
    },
    {
     "data": {
      "image/png": "[encoded data removed]",
      "text/plain": [
       "<Figure size 432x288 with 1 Axes>"
      ]
     },
     "metadata": {
      "needs_background": "light"
     },
     "output_type": "display_data"
    }
   ],
   "source": [
    "plt.hist(data.iv_real, bins=5)\n",
    "plt.title(\"Agent's Learned IV Actions\")"
   ]
  },
  {
   "cell_type": "code",
   "execution_count": 436,
   "metadata": {},
   "outputs": [
    {
     "data": {
      "text/plain": [
       "Text(0.5, 1.0, 'Vasopressors Agent')"
      ]
     },
     "execution_count": 436,
     "metadata": {},
     "output_type": "execute_result"
    },
    {
     "data": {
      "image/png": "[encoded data removed]",
      "text/plain": [
       "<Figure size 432x288 with 1 Axes>"
      ]
     },
     "metadata": {
      "needs_background": "light"
     },
     "output_type": "display_data"
    }
   ],
   "source": [
    "plt.hist(data.vaso_pred, bins=10)\n",
    "plt.title(\"Vasopressors Agent\")"
   ]
  },
  {
   "cell_type": "code",
   "execution_count": 437,
   "metadata": {},
   "outputs": [],
   "source": [
    "med_sofa = data[data['sofa'].between(5, 15, inclusive=True)]"
   ]
  },
  {
   "cell_type": "code",
   "execution_count": 438,
   "metadata": {},
   "outputs": [],
   "source": [
    "med_sofa = med_sofa.fillna(0)\n",
    "\n",
    "def vaso_diff(df):\n",
    "    df[\"vaso_diff\"] = df.vaso_pred  - df.vaso_real\n",
    "    return df\n",
    "\n",
    "def iv_diff(df):\n",
    "    df[\"iv_diff\"] = df.iv_pred  - df.iv_real\n",
    "    return df"
   ]
  },
  {
   "cell_type": "code",
   "execution_count": 439,
   "metadata": {},
   "outputs": [
    {
     "data": {
      "text/html": [
       "<div>\n",
       "<style scoped>\n",
       "    .dataframe tbody tr th:only-of-type {\n",
       "        vertical-align: middle;\n",
       "    }\n",
       "\n",
       "    .dataframe tbody tr th {\n",
       "        vertical-align: top;\n",
       "    }\n",
       "\n",
       "    .dataframe thead th {\n",
       "        text-align: right;\n",
       "    }\n",
       "</style>\n",
       "<table border=\"1\" class=\"dataframe\">\n",
       "  <thead>\n",
       "    <tr style=\"text-align: right;\">\n",
       "      <th></th>\n",
       "      <th>Unnamed: 0</th>\n",
       "      <th>subject_id_left</th>\n",
       "      <th>hadm_id_left</th>\n",
       "      <th>icustay_id_left</th>\n",
       "      <th>interval_start_time_left</th>\n",
       "      <th>interval_end_time_left</th>\n",
       "      <th>sofa_left</th>\n",
       "      <th>iv_pred</th>\n",
       "      <th>iv_real</th>\n",
       "      <th>vaso_pred</th>\n",
       "      <th>vaso_real</th>\n",
       "      <th>died</th>\n",
       "      <th>subject_id</th>\n",
       "      <th>hadm_id</th>\n",
       "      <th>icustay_id</th>\n",
       "      <th>interval_start_time</th>\n",
       "      <th>interval_end_time</th>\n",
       "      <th>sofa</th>\n",
       "    </tr>\n",
       "  </thead>\n",
       "  <tbody>\n",
       "    <tr>\n",
       "      <th>52</th>\n",
       "      <td>52</td>\n",
       "      <td>166</td>\n",
       "      <td>128219</td>\n",
       "      <td>271863</td>\n",
       "      <td>2105-01-23T16:00:00Z</td>\n",
       "      <td>2105-01-23T20:00:00Z</td>\n",
       "      <td>0.872497</td>\n",
       "      <td>0</td>\n",
       "      <td>0</td>\n",
       "      <td>0</td>\n",
       "      <td>0</td>\n",
       "      <td>1</td>\n",
       "      <td>166</td>\n",
       "      <td>128219</td>\n",
       "      <td>271863</td>\n",
       "      <td>2105-01-23T16:00:00Z</td>\n",
       "      <td>2105-01-23T20:00:00Z</td>\n",
       "      <td>8</td>\n",
       "    </tr>\n",
       "    <tr>\n",
       "      <th>53</th>\n",
       "      <td>53</td>\n",
       "      <td>166</td>\n",
       "      <td>128219</td>\n",
       "      <td>271863</td>\n",
       "      <td>2105-01-23T20:00:00Z</td>\n",
       "      <td>2105-01-24T00:00:00Z</td>\n",
       "      <td>0.872497</td>\n",
       "      <td>0</td>\n",
       "      <td>0</td>\n",
       "      <td>0</td>\n",
       "      <td>0</td>\n",
       "      <td>1</td>\n",
       "      <td>166</td>\n",
       "      <td>128219</td>\n",
       "      <td>271863</td>\n",
       "      <td>2105-01-23T20:00:00Z</td>\n",
       "      <td>2105-01-24T00:00:00Z</td>\n",
       "      <td>8</td>\n",
       "    </tr>\n",
       "    <tr>\n",
       "      <th>54</th>\n",
       "      <td>54</td>\n",
       "      <td>166</td>\n",
       "      <td>128219</td>\n",
       "      <td>271863</td>\n",
       "      <td>2105-01-24T00:00:00Z</td>\n",
       "      <td>2105-01-24T04:00:00Z</td>\n",
       "      <td>0.872497</td>\n",
       "      <td>0</td>\n",
       "      <td>0</td>\n",
       "      <td>0</td>\n",
       "      <td>0</td>\n",
       "      <td>1</td>\n",
       "      <td>166</td>\n",
       "      <td>128219</td>\n",
       "      <td>271863</td>\n",
       "      <td>2105-01-24T00:00:00Z</td>\n",
       "      <td>2105-01-24T04:00:00Z</td>\n",
       "      <td>8</td>\n",
       "    </tr>\n",
       "    <tr>\n",
       "      <th>55</th>\n",
       "      <td>55</td>\n",
       "      <td>179</td>\n",
       "      <td>161310</td>\n",
       "      <td>256090</td>\n",
       "      <td>2173-05-28T15:46:00Z</td>\n",
       "      <td>2173-05-28T19:46:00Z</td>\n",
       "      <td>1.533560</td>\n",
       "      <td>4</td>\n",
       "      <td>2</td>\n",
       "      <td>4</td>\n",
       "      <td>0</td>\n",
       "      <td>0</td>\n",
       "      <td>179</td>\n",
       "      <td>161310</td>\n",
       "      <td>256090</td>\n",
       "      <td>2173-05-28T15:46:00Z</td>\n",
       "      <td>2173-05-28T19:46:00Z</td>\n",
       "      <td>10</td>\n",
       "    </tr>\n",
       "    <tr>\n",
       "      <th>56</th>\n",
       "      <td>56</td>\n",
       "      <td>179</td>\n",
       "      <td>161310</td>\n",
       "      <td>256090</td>\n",
       "      <td>2173-05-28T19:46:00Z</td>\n",
       "      <td>2173-05-28T23:46:00Z</td>\n",
       "      <td>1.533560</td>\n",
       "      <td>0</td>\n",
       "      <td>2</td>\n",
       "      <td>0</td>\n",
       "      <td>0</td>\n",
       "      <td>0</td>\n",
       "      <td>179</td>\n",
       "      <td>161310</td>\n",
       "      <td>256090</td>\n",
       "      <td>2173-05-28T19:46:00Z</td>\n",
       "      <td>2173-05-28T23:46:00Z</td>\n",
       "      <td>10</td>\n",
       "    </tr>\n",
       "  </tbody>\n",
       "</table>\n",
       "</div>"
      ],
      "text/plain": [
       "    Unnamed: 0  subject_id_left  hadm_id_left  icustay_id_left  \\\n",
       "52          52              166        128219           271863   \n",
       "53          53              166        128219           271863   \n",
       "54          54              166        128219           271863   \n",
       "55          55              179        161310           256090   \n",
       "56          56              179        161310           256090   \n",
       "\n",
       "   interval_start_time_left interval_end_time_left  sofa_left  iv_pred  \\\n",
       "52     2105-01-23T16:00:00Z   2105-01-23T20:00:00Z   0.872497        0   \n",
       "53     2105-01-23T20:00:00Z   2105-01-24T00:00:00Z   0.872497        0   \n",
       "54     2105-01-24T00:00:00Z   2105-01-24T04:00:00Z   0.872497        0   \n",
       "55     2173-05-28T15:46:00Z   2173-05-28T19:46:00Z   1.533560        4   \n",
       "56     2173-05-28T19:46:00Z   2173-05-28T23:46:00Z   1.533560        0   \n",
       "\n",
       "    iv_real  vaso_pred  vaso_real  died  subject_id  hadm_id  icustay_id  \\\n",
       "52        0          0          0     1         166   128219      271863   \n",
       "53        0          0          0     1         166   128219      271863   \n",
       "54        0          0          0     1         166   128219      271863   \n",
       "55        2          4          0     0         179   161310      256090   \n",
       "56        2          0          0     0         179   161310      256090   \n",
       "\n",
       "     interval_start_time     interval_end_time  sofa  \n",
       "52  2105-01-23T16:00:00Z  2105-01-23T20:00:00Z     8  \n",
       "53  2105-01-23T20:00:00Z  2105-01-24T00:00:00Z     8  \n",
       "54  2105-01-24T00:00:00Z  2105-01-24T04:00:00Z     8  \n",
       "55  2173-05-28T15:46:00Z  2173-05-28T19:46:00Z    10  \n",
       "56  2173-05-28T19:46:00Z  2173-05-28T23:46:00Z    10  "
      ]
     },
     "execution_count": 439,
     "metadata": {},
     "output_type": "execute_result"
    }
   ],
   "source": [
    "med_sofa.head()"
   ]
  },
  {
   "cell_type": "code",
   "execution_count": 440,
   "metadata": {},
   "outputs": [],
   "source": [
    "med_sofa = med_sofa.apply(vaso_diff,  axis=1)\n",
    "med_sofa = med_sofa.apply(iv_diff,  axis=1)"
   ]
  },
  {
   "cell_type": "code",
   "execution_count": 441,
   "metadata": {},
   "outputs": [
    {
     "data": {
      "text/plain": [
       "Unnamed: 0                  20120\n",
       "subject_id_left             20120\n",
       "hadm_id_left                20120\n",
       "icustay_id_left             20120\n",
       "interval_start_time_left    20120\n",
       "interval_end_time_left      20120\n",
       "sofa_left                   20120\n",
       "iv_pred                     20120\n",
       "iv_real                     20120\n",
       "vaso_pred                   20120\n",
       "vaso_real                   20120\n",
       "died                        20120\n",
       "subject_id                  20120\n",
       "hadm_id                     20120\n",
       "icustay_id                  20120\n",
       "interval_start_time         20120\n",
       "interval_end_time           20120\n",
       "sofa                        20120\n",
       "vaso_diff                   20120\n",
       "iv_diff                     20120\n",
       "dtype: int64"
      ]
     },
     "execution_count": 441,
     "metadata": {},
     "output_type": "execute_result"
    }
   ],
   "source": [
    "med_sofa.count()"
   ]
  },
  {
   "cell_type": "code",
   "execution_count": 442,
   "metadata": {},
   "outputs": [],
   "source": [
    "def mortality(df):\n",
    "    return sum(df['died'])/df['died'].count()\n",
    "\n",
    "med_sofa_vaso = med_sofa.groupby(\"vaso_diff\").apply(mortality)\n",
    "med_sofa_iv = med_sofa.groupby(\"iv_diff\").apply(mortality)"
   ]
  },
  {
   "cell_type": "code",
   "execution_count": 443,
   "metadata": {},
   "outputs": [
    {
     "data": {
      "text/plain": [
       "vaso_diff\n",
       "-4    0.324009\n",
       "-3    0.209412\n",
       "-2    0.225873\n",
       "-1    0.188380\n",
       " 0    0.196671\n",
       " 1    0.189308\n",
       " 2    0.180461\n",
       " 3    0.189873\n",
       " 4    0.258853\n",
       "dtype: float64"
      ]
     },
     "execution_count": 443,
     "metadata": {},
     "output_type": "execute_result"
    }
   ],
   "source": [
    "med_sofa_vaso"
   ]
  },
  {
   "cell_type": "code",
   "execution_count": 444,
   "metadata": {},
   "outputs": [
    {
     "data": {
      "text/html": [
       "<div>\n",
       "<style scoped>\n",
       "    .dataframe tbody tr th:only-of-type {\n",
       "        vertical-align: middle;\n",
       "    }\n",
       "\n",
       "    .dataframe tbody tr th {\n",
       "        vertical-align: top;\n",
       "    }\n",
       "\n",
       "    .dataframe thead th {\n",
       "        text-align: right;\n",
       "    }\n",
       "</style>\n",
       "<table border=\"1\" class=\"dataframe\">\n",
       "  <thead>\n",
       "    <tr style=\"text-align: right;\">\n",
       "      <th></th>\n",
       "      <th>vaso_pred</th>\n",
       "      <th>vaso_pred</th>\n",
       "      <th>iv_pred</th>\n",
       "    </tr>\n",
       "  </thead>\n",
       "  <tbody>\n",
       "    <tr>\n",
       "      <th>0</th>\n",
       "      <td>0</td>\n",
       "      <td>0</td>\n",
       "      <td>0</td>\n",
       "    </tr>\n",
       "    <tr>\n",
       "      <th>1</th>\n",
       "      <td>0</td>\n",
       "      <td>0</td>\n",
       "      <td>1</td>\n",
       "    </tr>\n",
       "    <tr>\n",
       "      <th>2</th>\n",
       "      <td>0</td>\n",
       "      <td>0</td>\n",
       "      <td>2</td>\n",
       "    </tr>\n",
       "    <tr>\n",
       "      <th>3</th>\n",
       "      <td>0</td>\n",
       "      <td>0</td>\n",
       "      <td>3</td>\n",
       "    </tr>\n",
       "    <tr>\n",
       "      <th>4</th>\n",
       "      <td>0</td>\n",
       "      <td>0</td>\n",
       "      <td>4</td>\n",
       "    </tr>\n",
       "    <tr>\n",
       "      <th>5</th>\n",
       "      <td>1</td>\n",
       "      <td>1</td>\n",
       "      <td>0</td>\n",
       "    </tr>\n",
       "    <tr>\n",
       "      <th>6</th>\n",
       "      <td>1</td>\n",
       "      <td>1</td>\n",
       "      <td>1</td>\n",
       "    </tr>\n",
       "    <tr>\n",
       "      <th>7</th>\n",
       "      <td>1</td>\n",
       "      <td>1</td>\n",
       "      <td>2</td>\n",
       "    </tr>\n",
       "    <tr>\n",
       "      <th>8</th>\n",
       "      <td>1</td>\n",
       "      <td>1</td>\n",
       "      <td>3</td>\n",
       "    </tr>\n",
       "    <tr>\n",
       "      <th>9</th>\n",
       "      <td>1</td>\n",
       "      <td>1</td>\n",
       "      <td>4</td>\n",
       "    </tr>\n",
       "    <tr>\n",
       "      <th>10</th>\n",
       "      <td>2</td>\n",
       "      <td>2</td>\n",
       "      <td>0</td>\n",
       "    </tr>\n",
       "    <tr>\n",
       "      <th>11</th>\n",
       "      <td>2</td>\n",
       "      <td>2</td>\n",
       "      <td>1</td>\n",
       "    </tr>\n",
       "    <tr>\n",
       "      <th>12</th>\n",
       "      <td>2</td>\n",
       "      <td>2</td>\n",
       "      <td>2</td>\n",
       "    </tr>\n",
       "    <tr>\n",
       "      <th>13</th>\n",
       "      <td>2</td>\n",
       "      <td>2</td>\n",
       "      <td>3</td>\n",
       "    </tr>\n",
       "    <tr>\n",
       "      <th>14</th>\n",
       "      <td>2</td>\n",
       "      <td>2</td>\n",
       "      <td>4</td>\n",
       "    </tr>\n",
       "    <tr>\n",
       "      <th>15</th>\n",
       "      <td>3</td>\n",
       "      <td>3</td>\n",
       "      <td>0</td>\n",
       "    </tr>\n",
       "    <tr>\n",
       "      <th>16</th>\n",
       "      <td>3</td>\n",
       "      <td>3</td>\n",
       "      <td>1</td>\n",
       "    </tr>\n",
       "    <tr>\n",
       "      <th>17</th>\n",
       "      <td>3</td>\n",
       "      <td>3</td>\n",
       "      <td>2</td>\n",
       "    </tr>\n",
       "    <tr>\n",
       "      <th>18</th>\n",
       "      <td>3</td>\n",
       "      <td>3</td>\n",
       "      <td>3</td>\n",
       "    </tr>\n",
       "    <tr>\n",
       "      <th>19</th>\n",
       "      <td>3</td>\n",
       "      <td>3</td>\n",
       "      <td>4</td>\n",
       "    </tr>\n",
       "    <tr>\n",
       "      <th>20</th>\n",
       "      <td>4</td>\n",
       "      <td>4</td>\n",
       "      <td>0</td>\n",
       "    </tr>\n",
       "    <tr>\n",
       "      <th>21</th>\n",
       "      <td>4</td>\n",
       "      <td>4</td>\n",
       "      <td>1</td>\n",
       "    </tr>\n",
       "    <tr>\n",
       "      <th>22</th>\n",
       "      <td>4</td>\n",
       "      <td>4</td>\n",
       "      <td>2</td>\n",
       "    </tr>\n",
       "    <tr>\n",
       "      <th>23</th>\n",
       "      <td>4</td>\n",
       "      <td>4</td>\n",
       "      <td>3</td>\n",
       "    </tr>\n",
       "    <tr>\n",
       "      <th>24</th>\n",
       "      <td>4</td>\n",
       "      <td>4</td>\n",
       "      <td>4</td>\n",
       "    </tr>\n",
       "  </tbody>\n",
       "</table>\n",
       "</div>"
      ],
      "text/plain": [
       "    vaso_pred  vaso_pred  iv_pred\n",
       "0           0          0        0\n",
       "1           0          0        1\n",
       "2           0          0        2\n",
       "3           0          0        3\n",
       "4           0          0        4\n",
       "5           1          1        0\n",
       "6           1          1        1\n",
       "7           1          1        2\n",
       "8           1          1        3\n",
       "9           1          1        4\n",
       "10          2          2        0\n",
       "11          2          2        1\n",
       "12          2          2        2\n",
       "13          2          2        3\n",
       "14          2          2        4\n",
       "15          3          3        0\n",
       "16          3          3        1\n",
       "17          3          3        2\n",
       "18          3          3        3\n",
       "19          3          3        4\n",
       "20          4          4        0\n",
       "21          4          4        1\n",
       "22          4          4        2\n",
       "23          4          4        3\n",
       "24          4          4        4"
      ]
     },
     "execution_count": 444,
     "metadata": {},
     "output_type": "execute_result"
    }
   ],
   "source": [
    "med_sofa.groupby([\"vaso_pred\", \"iv_pred\"]).agg(\"count\").reset_index()[[\"vaso_pred\", \"vaso_pred\", \"iv_pred\"]]"
   ]
  },
  {
   "cell_type": "code",
   "execution_count": 445,
   "metadata": {},
   "outputs": [
    {
     "data": {
      "text/plain": [
       "[<matplotlib.lines.Line2D at 0x12c12bba8>]"
      ]
     },
     "execution_count": 445,
     "metadata": {},
     "output_type": "execute_result"
    },
    {
     "data": {
      "image/png": "[encoded data removed]",
      "text/plain": [
       "<Figure size 432x288 with 1 Axes>"
      ]
     },
     "metadata": {
      "needs_background": "light"
     },
     "output_type": "display_data"
    }
   ],
   "source": [
    "plt.plot(med_sofa_vaso)"
   ]
  },
  {
   "cell_type": "code",
   "execution_count": 446,
   "metadata": {},
   "outputs": [
    {
     "data": {
      "text/plain": [
       "[<matplotlib.lines.Line2D at 0x129849b70>]"
      ]
     },
     "execution_count": 446,
     "metadata": {},
     "output_type": "execute_result"
    },
    {
     "data": {
      "image/png": "[encoded data removed]",
      "text/plain": [
       "<Figure size 432x288 with 1 Axes>"
      ]
     },
     "metadata": {
      "needs_background": "light"
     },
     "output_type": "display_data"
    }
   ],
   "source": [
    "plt.plot(med_sofa_iv)"
   ]
  },
  {
   "cell_type": "code",
   "execution_count": 449,
   "metadata": {},
   "outputs": [
    {
     "data": {
      "text/plain": [
       "[<matplotlib.lines.Line2D at 0x1298b4c88>]"
      ]
     },
     "execution_count": 449,
     "metadata": {},
     "output_type": "execute_result"
    },
    {
     "data": {
      "image/png": "[encoded data removed]",
      "text/plain": [
       "<Figure size 864x360 with 2 Axes>"
      ]
     },
     "metadata": {
      "needs_background": "light"
     },
     "output_type": "display_data"
    }
   ],
   "source": [
    "f, (ax1, ax2) = plt.subplots(1, 2, figsize=(12,5))\n",
    "ax1.plot(med_sofa_vaso)\n",
    "ax2.plot(med_sofa_iv)"
   ]
  },
  {
   "cell_type": "code",
   "execution_count": 361,
   "metadata": {},
   "outputs": [
    {
     "data": {
      "text/plain": [
       "(array([184118.,      0.,  35554.,    978.,  34712.,   1821.,  34262.,\n",
       "          2440.,  30812.,   5548.]),\n",
       " array([ 0. ,  2.4,  4.8,  7.2,  9.6, 12. , 14.4, 16.8, 19.2, 21.6, 24. ]),\n",
       " <a list of 10 Patch objects>)"
      ]
     },
     "execution_count": 361,
     "metadata": {},
     "output_type": "execute_result"
    },
    {
     "data": {
      "image/png": "[encoded data removed]",
      "text/plain": [
       "<Figure size 432x288 with 1 Axes>"
      ]
     },
     "metadata": {
      "needs_background": "light"
     },
     "output_type": "display_data"
    }
   ],
   "source": [
    "plt.hist(action_df['discrete_action'])"
   ]
  },
  {
   "cell_type": "code",
   "execution_count": null,
   "metadata": {},
   "outputs": [],
   "source": []
  },
  {
   "cell_type": "code",
   "execution_count": 182,
   "metadata": {},
   "outputs": [
    {
     "data": {
      "text/plain": [
       "<seaborn.axisgrid.JointGrid at 0x1240530b8>"
      ]
     },
     "execution_count": 182,
     "metadata": {},
     "output_type": "execute_result"
    },
    {
     "data": {
      "image/png": "[encoded data removed]",
      "text/plain": [
       "<Figure size 432x432 with 3 Axes>"
      ]
     },
     "metadata": {
      "needs_background": "light"
     },
     "output_type": "display_data"
    }
   ],
   "source": [
    "sns.jointplot(\"vaso_real\", \"iv_real\", data=med_sofa, kind=\"hex\")"
   ]
  },
  {
   "cell_type": "code",
   "execution_count": 183,
   "metadata": {},
   "outputs": [
    {
     "ename": "TypeError",
     "evalue": "hist2d() missing 2 required positional arguments: 'x' and 'y'",
     "output_type": "error",
     "traceback": [
      "\u001b[0;31m---------------------------------------------------------------------------\u001b[0m",
      "\u001b[0;31mTypeError\u001b[0m                                 Traceback (most recent call last)",
      "\u001b[0;32m<ipython-input-183-a73cde6df171>\u001b[0m in \u001b[0;36m<module>\u001b[0;34m\u001b[0m\n\u001b[0;32m----> 1\u001b[0;31m \u001b[0mplt\u001b[0m\u001b[0;34m.\u001b[0m\u001b[0mhist2d\u001b[0m\u001b[0;34m(\u001b[0m\u001b[0;34m)\u001b[0m\u001b[0;34m\u001b[0m\u001b[0;34m\u001b[0m\u001b[0m\n\u001b[0m",
      "\u001b[0;31mTypeError\u001b[0m: hist2d() missing 2 required positional arguments: 'x' and 'y'"
     ]
    }
   ],
   "source": [
    "plt.hist2d()"
   ]
  },
  {
   "cell_type": "code",
   "execution_count": null,
   "metadata": {},
   "outputs": [],
   "source": []
  },
  {
   "cell_type": "code",
   "execution_count": null,
   "metadata": {},
   "outputs": [],
   "source": [
    "inv_action_map = {}\n",
    "count = 0\n",
    "for i in range(5):\n",
    "    for j in range(5):\n",
    "        inv_action_map[count] = [i,j]\n",
    "        count += 1"
   ]
  },
  {
   "cell_type": "code",
   "execution_count": null,
   "metadata": {},
   "outputs": [],
   "source": [
    "phys_actions_tuple = [None for i in range(len(phys_actions))]\n",
    "deeprl2_actions_tuple = [None for i in range(len(phys_actions))]\n",
    "autoencode_actions_tuple = [None for i in range(len(phys_actions))]                                          \n",
    "\n",
    "for i in range(len(phys_actions)):\n",
    "    phys_actions_tuple[i] = inv_action_map[phys_actions[i]]\n",
    "    deeprl2_actions_tuple[i] = inv_action_map[deeprl2_actions[i]]\n",
    "    autoencode_actions_tuple[i] = inv_action_map[autoencode_actions[i]]"
   ]
  },
  {
   "cell_type": "code",
   "execution_count": null,
   "metadata": {},
   "outputs": [],
   "source": [
    "phys_actions_tuple = np.array(phys_actions_tuple)\n",
    "deeprl2_actions_tuple = np.array(deeprl2_actions_tuple)\n",
    "autoencode_actions_tuple = np.array(autoencode_actions_tuple)"
   ]
  },
  {
   "cell_type": "code",
   "execution_count": null,
   "metadata": {},
   "outputs": [],
   "source": [
    "phys_actions_iv = phys_actions_tuple[:,0]\n",
    "phys_actions_vaso = phys_actions_tuple[:,1]\n",
    "hist, x_edges, y_edges = np.histogram2d(phys_actions_iv, phys_actions_vaso, bins=5)"
   ]
  },
  {
   "cell_type": "code",
   "execution_count": null,
   "metadata": {},
   "outputs": [],
   "source": [
    "deeprl2_actions_iv = deeprl2_actions_tuple[:,0]\n",
    "deeprl2_actions_vaso = deeprl2_actions_tuple[:,1]\n",
    "hist2, _, _ = np.histogram2d(deeprl2_actions_iv, deeprl2_actions_vaso, bins=5)"
   ]
  },
  {
   "cell_type": "code",
   "execution_count": null,
   "metadata": {},
   "outputs": [],
   "source": [
    "autoencode_actions_iv = autoencode_actions_tuple[:,0]\n",
    "autoencode_actions_vaso = autoencode_actions_tuple[:,1]\n",
    "hist3, _, _ = np.histogram2d(autoencode_actions_iv, autoencode_actions_vaso, bins=5)"
   ]
  },
  {
   "cell_type": "code",
   "execution_count": null,
   "metadata": {},
   "outputs": [],
   "source": [
    "x_edges = np.arange(-0.5,5)\n",
    "y_edges = np.arange(-0.5,5)"
   ]
  },
  {
   "cell_type": "code",
   "execution_count": null,
   "metadata": {},
   "outputs": [],
   "source": [
    "f, (ax1, ax2, ax3) = plt.subplots(1, 3, figsize=(16,4))\n",
    "ax1.imshow(np.flipud(hist), cmap=\"Blues\",extent=[x_edges[0], x_edges[-1],  y_edges[0],y_edges[-1]])\n",
    "ax2.imshow(np.flipud(hist2), cmap=\"OrRd\", extent=[x_edges[0], x_edges[-1],  y_edges[0],y_edges[-1]])\n",
    "ax3.imshow(np.flipud(hist3), cmap=\"Greens\", extent=[x_edges[0], x_edges[-1],  y_edges[0],y_edges[-1]])\n",
    "\n",
    "# ax1.grid(color='b', linestyle='-', linewidth=1)\n",
    "# ax2.grid(color='r', linestyle='-', linewidth=1)\n",
    "# ax3.grid(color='g', linestyle='-', linewidth=1)\n",
    "\n",
    "# Major ticks\n",
    "ax1.set_xticks(np.arange(0, 5, 1));\n",
    "ax1.set_yticks(np.arange(0, 5, 1));\n",
    "ax2.set_xticks(np.arange(0, 5, 1));\n",
    "ax2.set_yticks(np.arange(0, 5, 1));\n",
    "ax3.set_xticks(np.arange(0, 5, 1));\n",
    "ax3.set_yticks(np.arange(0, 5, 1));\n",
    "\n",
    "# Labels for major ticks\n",
    "ax1.set_xticklabels(np.arange(0, 5, 1));\n",
    "ax1.set_yticklabels(np.arange(0, 5, 1));\n",
    "ax2.set_xticklabels(np.arange(0, 5, 1));\n",
    "ax2.set_yticklabels(np.arange(0, 5, 1));\n",
    "ax3.set_xticklabels(np.arange(0, 5, 1));\n",
    "ax3.set_yticklabels(np.arange(0, 5, 1));\n",
    "\n",
    "# Minor ticks\n",
    "ax1.set_xticks(np.arange(-.5, 5, 1), minor=True);\n",
    "ax1.set_yticks(np.arange(-.5, 5, 1), minor=True);\n",
    "ax2.set_xticks(np.arange(-.5, 5, 1), minor=True);\n",
    "ax2.set_yticks(np.arange(-.5, 5, 1), minor=True);\n",
    "ax3.set_xticks(np.arange(-.5, 5, 1), minor=True);\n",
    "ax3.set_yticks(np.arange(-.5, 5, 1), minor=True);\n",
    "\n",
    "# Gridlines based on minor ticks\n",
    "ax1.grid(which='minor', color='b', linestyle='-', linewidth=1)\n",
    "ax2.grid(which='minor', color='r', linestyle='-', linewidth=1)\n",
    "ax3.grid(which='minor', color='g', linestyle='-', linewidth=1)\n",
    "\n",
    "im1 = ax1.pcolormesh(x_edges, y_edges, hist, cmap='Blues')\n",
    "f.colorbar(im1, ax=ax1, label = \"Action counts\")\n",
    "\n",
    "im2 = ax2.pcolormesh(x_edges, y_edges, hist2, cmap='OrRd')\n",
    "f.colorbar(im2, ax=ax2, label = \"Action counts\")\n",
    "\n",
    "im3 = ax3.pcolormesh(x_edges, y_edges, hist3, cmap='Greens')\n",
    "f.colorbar(im3, ax=ax3, label = \"Action counts\")\n",
    "\n",
    "ax1.set_ylabel('IV fluid dose')\n",
    "ax2.set_ylabel('IV fluid dose')\n",
    "ax3.set_ylabel('IV fluid dose')\n",
    "ax1.set_xlabel('Vasopressor dose')\n",
    "ax2.set_xlabel('Vasopressor dose')\n",
    "ax3.set_xlabel('Vasopressor dose')\n",
    "\n",
    "ax1.set_title(\"Physician policy\")\n",
    "ax2.set_title(\"Q-Network (Sparse Rewards) policy\")\n",
    "ax3.set_title(\"Q-Network (Shaped Rewards) policy\")\n",
    "plt.tight_layout()"
   ]
  },
  {
   "cell_type": "code",
   "execution_count": null,
   "metadata": {
    "scrolled": true
   },
   "outputs": [],
   "source": [
    "f, (ax1, ax2, ax3) = plt.subplots(1, 3, sharey=True, figsize=(12,4))\n",
    "ax1.hist(phys_actions, bins=50)\n",
    "ax1.set_title(\"Physician Actions\", fontsize = 10)\n",
    "ax2.hist(deeprl2_actions, bins=50, color='r')\n",
    "ax2.set_title(\"Q-Network Actions\", fontsize = 10)\n",
    "ax3.hist(autoencode_actions, bins=50, color='g')\n",
    "ax3.set_title(\"Autoencode Q-Network Actions\", fontsize = 10)\n",
    "f.text(0.5, -0.03, 'Action number', ha='center', fontsize=15)\n",
    "f.text(-0.02, 0.5, 'Frequency', va='center', rotation='vertical', fontsize = 15)\n",
    "# ax2.hist(autoencode_actions, bins=25, color ='g')\n",
    "plt.tight_layout()\n"
   ]
  },
  {
   "cell_type": "code",
   "execution_count": null,
   "metadata": {},
   "outputs": [],
   "source": [
    "def make_df_diff(op_actions):\n",
    "    op_vaso_med = []\n",
    "    op_iv_med = []\n",
    "    for action in op_actions:\n",
    "        iv,vaso = inv_action_map[action]\n",
    "        op_vaso_med.append(vaso_vals[vaso])\n",
    "        op_iv_med.append(iv_vals[iv])\n",
    "    iv_diff = np.array(op_iv_med) - np.array(df_test_orig['input_4hourly_tev'])\n",
    "    vaso_diff = np.array(op_vaso_med) - np.array(df_test_orig['max_dose_vaso'])\n",
    "    df_diff = pd.DataFrame()\n",
    "    df_diff['mort'] = np.array(df_test_orig['died_in_hosp'])\n",
    "    df_diff['iv_diff'] = iv_diff\n",
    "    df_diff['vaso_diff'] = vaso_diff\n",
    "    return df_diff"
   ]
  },
  {
   "cell_type": "code",
   "execution_count": null,
   "metadata": {},
   "outputs": [],
   "source": [
    "from scipy.stats import sem\n",
    "def make_iv_plot_data(df_diff):\n",
    "    bin_medians_iv = []\n",
    "    mort_iv = []\n",
    "    mort_std_iv= []\n",
    "    i = -800\n",
    "    while i <= 900:\n",
    "        count =df_diff.loc[(df_diff['iv_diff']>i-50) & (df_diff['iv_diff']<i+50)]\n",
    "        try:\n",
    "            res = sum(count['mort'])/float(len(count))\n",
    "            if len(count) >=2:\n",
    "                bin_medians_iv.append(i)\n",
    "                mort_iv.append(res)\n",
    "                mort_std_iv.append(sem(count['mort']))\n",
    "        except ZeroDivisionError:\n",
    "            pass\n",
    "        i += 100\n",
    "    return bin_medians_iv, mort_iv, mort_std_iv"
   ]
  },
  {
   "cell_type": "code",
   "execution_count": null,
   "metadata": {},
   "outputs": [],
   "source": [
    "from scipy.stats import sem\n",
    "def make_vaso_plot_data(df_diff):\n",
    "    bin_medians_vaso = []\n",
    "    mort_vaso= []\n",
    "    mort_std_vaso= []\n",
    "    i = -0.6\n",
    "    while i <= 0.8:\n",
    "        count =df_diff.loc[(df_diff['vaso_diff']>i-0.05) & (df_diff['vaso_diff']<i+0.05)]\n",
    "        try:\n",
    "            res = sum(count['mort'])/float(len(count))\n",
    "            if len(count) >=2:\n",
    "                bin_medians_vaso.append(i)\n",
    "                mort_vaso.append(res)\n",
    "                mort_std_vaso.append(sem(count['mort']))\n",
    "        except ZeroDivisionError:\n",
    "            pass\n",
    "        i += 0.1\n",
    "    return bin_medians_vaso, mort_vaso, mort_std_vaso"
   ]
  },
  {
   "cell_type": "code",
   "execution_count": null,
   "metadata": {},
   "outputs": [],
   "source": [
    "df_diff_autoencode = make_df_diff(autoencode_actions)\n",
    "df_diff_deeprl2 = make_df_diff(deeprl2_actions)"
   ]
  },
  {
   "cell_type": "code",
   "execution_count": null,
   "metadata": {},
   "outputs": [],
   "source": [
    "bin_med_iv_auto, mort_iv_auto, mort_std_iv_auto = make_iv_plot_data(df_diff_autoencode)\n",
    "bin_med_iv_deep, mort_iv_deep, mort_std_iv_deep = make_iv_plot_data(df_diff_deeprl2)\n",
    "bin_med_vaso_auto, mort_vaso_auto, mort_std_vaso_auto = make_vaso_plot_data(df_diff_autoencode)\n",
    "bin_med_vaso_deep, mort_vaso_deep, mort_std_vaso_deep = make_vaso_plot_data(df_diff_deeprl2)"
   ]
  },
  {
   "cell_type": "code",
   "execution_count": null,
   "metadata": {
    "scrolled": false
   },
   "outputs": [],
   "source": [
    "f, ((ax1, ax2), (ax3, ax4)) = plt.subplots(2, 2, sharex='col', sharey='row', figsize = (7.5,5))\n",
    "ax1.plot(bin_med_vaso_deep, sliding_mean(mort_vaso_deep), color='r')\n",
    "ax1.fill_between(bin_med_vaso_deep, sliding_mean(mort_vaso_deep) - 1*mort_std_vaso_deep,  \n",
    "                 sliding_mean(mort_vaso_deep) + 1*mort_std_vaso_deep, color='tomato')\n",
    "ax1.set_title('Q-Network (Sparse Rewards) - Vasopressors')\n",
    "x_r = [i/10.0 for i in range(-6,10,2)]\n",
    "y_r = [i/20.0 for i in range(0,20,1)]\n",
    "ax1.set_xticks(x_r)\n",
    "ax1.set_yticks(y_r)\n",
    "ax1.grid()\n",
    "\n",
    "ax2.plot(bin_med_iv_deep, sliding_mean(mort_iv_deep), color='r')\n",
    "ax2.fill_between(bin_med_iv_deep, sliding_mean(mort_iv_deep) - 1*mort_std_iv_deep,  \n",
    "                 sliding_mean(mort_iv_deep) + 1*mort_std_iv_deep, color='tomato')\n",
    "ax2.set_title('Q-Network (Sparse Rewards) - IV fluids')\n",
    "x_iv = [i for i in range(-800,900,400)]\n",
    "ax2.set_xticks(x_iv)\n",
    "ax2.grid()\n",
    "\n",
    "ax3.plot(bin_med_vaso_auto, sliding_mean(mort_vaso_auto), color='g')\n",
    "ax3.fill_between(bin_med_vaso_auto, sliding_mean(mort_vaso_auto) - 1*mort_std_vaso_auto,  \n",
    "                 sliding_mean(mort_vaso_auto) + 1*mort_std_vaso_auto, color='palegreen')\n",
    "y_auto = [i/20.0 for i in range(0,21,1)]\n",
    "ax3.set_yticks(y_auto)\n",
    "ax3.set_title('Q-Network (Shaped Rewards) - Vasopressors')\n",
    "ax3.grid()\n",
    "\n",
    "ax4.plot(bin_med_iv_auto, sliding_mean(mort_iv_auto), color='g')\n",
    "ax4.fill_between(bin_med_iv_auto, sliding_mean(mort_iv_auto) - 1*mort_std_iv_auto,  \n",
    "                 sliding_mean(mort_iv_auto) + 1*mort_std_iv_auto, color='palegreen')\n",
    "ax4.set_title('Q-Network (Shaped Rewards) - IV Fluids')\n",
    "ax4.grid()\n",
    "plt.tight_layout()\n",
    "f.text(0.225, -0.03, 'Difference between optimal and physician vasopressor dose', ha='center', fontsize=10)\n",
    "f.text(0.775, -0.03, 'Difference between optimal and physician IV dose', ha='center', fontsize=10)\n",
    "f.text(-0.02, 0.5, 'Observed Mortality', va='center', rotation='vertical', fontsize = 10)"
   ]
  },
  {
   "cell_type": "code",
   "execution_count": null,
   "metadata": {},
   "outputs": [],
   "source": []
  }
 ],
 "metadata": {
  "kernelspec": {
   "display_name": "projectname",
   "language": "python",
   "name": "projectname"
  },
  "language_info": {
   "codemirror_mode": {
    "name": "ipython",
    "version": 3
   },
   "file_extension": ".py",
   "mimetype": "text/x-python",
   "name": "python",
   "nbconvert_exporter": "python",
   "pygments_lexer": "ipython3",
   "version": "3.6.7"
  }
 },
 "nbformat": 4,
 "nbformat_minor": 2
}
