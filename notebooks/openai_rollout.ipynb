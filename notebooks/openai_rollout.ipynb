{
 "cells": [
  {
   "cell_type": "code",
   "execution_count": 122,
   "metadata": {},
   "outputs": [],
   "source": [
    "import gym\n",
    "import sys\n",
    "\n",
    "sys.path.append(\"../\")\n",
    "from baselines import deepq\n",
    "from baselines import bench\n",
    "from baselines import logger\n",
    "from baselines.common.atari_wrappers import make_atari\n",
    "from baselines.common import models\n",
    "\n",
    "import pandas as pd\n",
    "import matplotlib.pyplot as plt\n",
    "import numpy as np"
   ]
  },
  {
   "cell_type": "code",
   "execution_count": 2,
   "metadata": {},
   "outputs": [
    {
     "name": "stdout",
     "output_type": "stream",
     "text": [
      "Logging to /var/folders/8n/hv90dq791k33bzy8494y8ml80000gn/T/openai-2019-03-17-20-55-21-264992\n",
      "--------------------------------------\n",
      "| % time spent exploring  | 87       |\n",
      "| episodes                | 100      |\n",
      "| mean 100 episode reward | -15      |\n",
      "| steps                   | 125      |\n",
      "--------------------------------------\n",
      "--------------------------------------\n",
      "| % time spent exploring  | 75       |\n",
      "| episodes                | 200      |\n",
      "| mean 100 episode reward | -15      |\n",
      "| steps                   | 248      |\n",
      "--------------------------------------\n",
      "--------------------------------------\n",
      "| % time spent exploring  | 64       |\n",
      "| episodes                | 300      |\n",
      "| mean 100 episode reward | -15      |\n",
      "| steps                   | 365      |\n",
      "--------------------------------------\n",
      "--------------------------------------\n",
      "| % time spent exploring  | 51       |\n",
      "| episodes                | 400      |\n",
      "| mean 100 episode reward | -15      |\n",
      "| steps                   | 497      |\n",
      "--------------------------------------\n",
      "--------------------------------------\n",
      "| % time spent exploring  | 40       |\n",
      "| episodes                | 500      |\n",
      "| mean 100 episode reward | -15      |\n",
      "| steps                   | 611      |\n",
      "--------------------------------------\n",
      "--------------------------------------\n",
      "| % time spent exploring  | 27       |\n",
      "| episodes                | 600      |\n",
      "| mean 100 episode reward | -15      |\n",
      "| steps                   | 742      |\n",
      "--------------------------------------\n",
      "--------------------------------------\n",
      "| % time spent exploring  | 14       |\n",
      "| episodes                | 700      |\n",
      "| mean 100 episode reward | -15      |\n",
      "| steps                   | 870      |\n",
      "--------------------------------------\n",
      "--------------------------------------\n",
      "| % time spent exploring  | 2        |\n",
      "| episodes                | 800      |\n",
      "| mean 100 episode reward | -15      |\n",
      "| steps                   | 993      |\n",
      "--------------------------------------\n",
      "--------------------------------------\n",
      "| % time spent exploring  | 2        |\n",
      "| episodes                | 900      |\n",
      "| mean 100 episode reward | -15      |\n",
      "| steps                   | 1114     |\n",
      "--------------------------------------\n",
      "--------------------------------------\n",
      "| % time spent exploring  | 2        |\n",
      "| episodes                | 1000     |\n",
      "| mean 100 episode reward | -15      |\n",
      "| steps                   | 1245     |\n",
      "--------------------------------------\n",
      "--------------------------------------\n",
      "| % time spent exploring  | 2        |\n",
      "| episodes                | 1100     |\n",
      "| mean 100 episode reward | -15      |\n",
      "| steps                   | 1390     |\n",
      "--------------------------------------\n",
      "--------------------------------------\n",
      "| % time spent exploring  | 2        |\n",
      "| episodes                | 1200     |\n",
      "| mean 100 episode reward | -14.7    |\n",
      "| steps                   | 1539     |\n",
      "--------------------------------------\n",
      "--------------------------------------\n",
      "| % time spent exploring  | 2        |\n",
      "| episodes                | 1300     |\n",
      "| mean 100 episode reward | -15      |\n",
      "| steps                   | 1789     |\n",
      "--------------------------------------\n",
      "--------------------------------------\n",
      "| % time spent exploring  | 2        |\n",
      "| episodes                | 1400     |\n",
      "| mean 100 episode reward | -14.4    |\n",
      "| steps                   | 2200     |\n",
      "--------------------------------------\n",
      "--------------------------------------\n",
      "| % time spent exploring  | 2        |\n",
      "| episodes                | 1500     |\n",
      "| mean 100 episode reward | -15      |\n",
      "| steps                   | 2699     |\n",
      "--------------------------------------\n",
      "--------------------------------------\n",
      "| % time spent exploring  | 2        |\n",
      "| episodes                | 1600     |\n",
      "| mean 100 episode reward | -15      |\n",
      "| steps                   | 3064     |\n",
      "--------------------------------------\n",
      "--------------------------------------\n",
      "| % time spent exploring  | 2        |\n",
      "| episodes                | 1700     |\n",
      "| mean 100 episode reward | -14.4    |\n",
      "| steps                   | 3518     |\n",
      "--------------------------------------\n",
      "--------------------------------------\n",
      "| % time spent exploring  | 2        |\n",
      "| episodes                | 1800     |\n",
      "| mean 100 episode reward | -15      |\n",
      "| steps                   | 4027     |\n",
      "--------------------------------------\n",
      "--------------------------------------\n",
      "| % time spent exploring  | 2        |\n",
      "| episodes                | 1900     |\n",
      "| mean 100 episode reward | -15      |\n",
      "| steps                   | 4372     |\n",
      "--------------------------------------\n",
      "--------------------------------------\n",
      "| % time spent exploring  | 2        |\n",
      "| episodes                | 2000     |\n",
      "| mean 100 episode reward | -15      |\n",
      "| steps                   | 4760     |\n",
      "--------------------------------------\n",
      "--------------------------------------\n",
      "| % time spent exploring  | 2        |\n",
      "| episodes                | 2100     |\n",
      "| mean 100 episode reward | -14.4    |\n",
      "| steps                   | 5129     |\n",
      "--------------------------------------\n",
      "--------------------------------------\n",
      "| % time spent exploring  | 2        |\n",
      "| episodes                | 2200     |\n",
      "| mean 100 episode reward | -15      |\n",
      "| steps                   | 5684     |\n",
      "--------------------------------------\n",
      "--------------------------------------\n",
      "| % time spent exploring  | 2        |\n",
      "| episodes                | 2300     |\n",
      "| mean 100 episode reward | -14.1    |\n",
      "| steps                   | 6236     |\n",
      "--------------------------------------\n",
      "--------------------------------------\n",
      "| % time spent exploring  | 2        |\n",
      "| episodes                | 2400     |\n",
      "| mean 100 episode reward | -15      |\n",
      "| steps                   | 6512     |\n",
      "--------------------------------------\n",
      "--------------------------------------\n",
      "| % time spent exploring  | 2        |\n",
      "| episodes                | 2500     |\n",
      "| mean 100 episode reward | -14.7    |\n",
      "| steps                   | 6943     |\n",
      "--------------------------------------\n",
      "--------------------------------------\n",
      "| % time spent exploring  | 2        |\n",
      "| episodes                | 2600     |\n",
      "| mean 100 episode reward | -14.7    |\n",
      "| steps                   | 7325     |\n",
      "--------------------------------------\n",
      "--------------------------------------\n",
      "| % time spent exploring  | 2        |\n",
      "| episodes                | 2700     |\n",
      "| mean 100 episode reward | -15      |\n",
      "| steps                   | 7816     |\n",
      "--------------------------------------\n",
      "--------------------------------------\n",
      "| % time spent exploring  | 2        |\n",
      "| episodes                | 2800     |\n",
      "| mean 100 episode reward | -14.7    |\n",
      "| steps                   | 8217     |\n",
      "--------------------------------------\n",
      "--------------------------------------\n",
      "| % time spent exploring  | 2        |\n",
      "| episodes                | 2900     |\n",
      "| mean 100 episode reward | -14.7    |\n",
      "| steps                   | 8794     |\n",
      "--------------------------------------\n",
      "--------------------------------------\n",
      "| % time spent exploring  | 2        |\n",
      "| episodes                | 3000     |\n",
      "| mean 100 episode reward | -15      |\n",
      "| steps                   | 9178     |\n",
      "--------------------------------------\n",
      "--------------------------------------\n",
      "| % time spent exploring  | 2        |\n",
      "| episodes                | 3100     |\n",
      "| mean 100 episode reward | -14.7    |\n",
      "| steps                   | 9567     |\n",
      "--------------------------------------\n",
      "--------------------------------------\n",
      "| % time spent exploring  | 2        |\n",
      "| episodes                | 3200     |\n",
      "| mean 100 episode reward | -15      |\n",
      "| steps                   | 9982     |\n",
      "--------------------------------------\n"
     ]
    }
   ],
   "source": [
    "logger.configure()\n",
    "env = gym.make(\"MIMIC-Sepsis-v0\")\n",
    "model = deepq.learn(\n",
    "    env,\n",
    "    total_timesteps=int(10000),\n",
    "    network=models.mlp(num_hidden=64, num_layers=1),\n",
    ")\n",
    "\n",
    "model.save('dqn.model')\n",
    "env.close()"
   ]
  },
  {
   "cell_type": "code",
   "execution_count": 56,
   "metadata": {},
   "outputs": [],
   "source": [
    "test_data = pd.read_csv(\"../cs238_sepsis_rl/data/test_state_action_reward_df.csv\")"
   ]
  },
  {
   "cell_type": "code",
   "execution_count": 40,
   "metadata": {},
   "outputs": [
    {
     "name": "stdout",
     "output_type": "stream",
     "text": [
      "Done with 100 steps...\n",
      "Done with 200 steps...\n",
      "Done with 300 steps...\n",
      "Done with 400 steps...\n",
      "Done with 500 steps...\n",
      "Done with 600 steps...\n",
      "Done with 700 steps...\n",
      "Done with 800 steps...\n",
      "Done with 900 steps...\n",
      "Done with 1000 steps...\n",
      "Done with 1100 steps...\n",
      "Done with 1200 steps...\n",
      "Done with 1300 steps...\n",
      "Done with 1400 steps...\n",
      "Done with 1500 steps...\n",
      "Done with 1600 steps...\n",
      "Done with 1700 steps...\n",
      "Done with 1800 steps...\n",
      "Done with 1900 steps...\n"
     ]
    }
   ],
   "source": [
    "rewards = []\n",
    "steps = []\n",
    "for i in range(2000):\n",
    "    if i%100 == 0 and i>0:\n",
    "        print(\"Done with %d steps...\" % i)\n",
    "\n",
    "    obs, done = env.reset(), False\n",
    "    episode_rew = 0\n",
    "    total_steps = 0\n",
    "\n",
    "    while not done: \n",
    "        obs, rew, done, _ = env.step(model(obs[None])[0])\n",
    "        episode_rew += rew\n",
    "        total_steps += 1\n",
    "    rewards.append(episode_rew)\n",
    "    steps.append(total_steps)"
   ]
  },
  {
   "cell_type": "code",
   "execution_count": 53,
   "metadata": {},
   "outputs": [
    {
     "data": {
      "text/html": [
       "<div>\n",
       "<style scoped>\n",
       "    .dataframe tbody tr th:only-of-type {\n",
       "        vertical-align: middle;\n",
       "    }\n",
       "\n",
       "    .dataframe tbody tr th {\n",
       "        vertical-align: top;\n",
       "    }\n",
       "\n",
       "    .dataframe thead th {\n",
       "        text-align: right;\n",
       "    }\n",
       "</style>\n",
       "<table border=\"1\" class=\"dataframe\">\n",
       "  <thead>\n",
       "    <tr style=\"text-align: right;\">\n",
       "      <th></th>\n",
       "      <th>rewards</th>\n",
       "    </tr>\n",
       "  </thead>\n",
       "  <tbody>\n",
       "    <tr>\n",
       "      <th>14</th>\n",
       "      <td>15</td>\n",
       "    </tr>\n",
       "    <tr>\n",
       "      <th>71</th>\n",
       "      <td>15</td>\n",
       "    </tr>\n",
       "    <tr>\n",
       "      <th>239</th>\n",
       "      <td>15</td>\n",
       "    </tr>\n",
       "    <tr>\n",
       "      <th>457</th>\n",
       "      <td>15</td>\n",
       "    </tr>\n",
       "    <tr>\n",
       "      <th>564</th>\n",
       "      <td>15</td>\n",
       "    </tr>\n",
       "    <tr>\n",
       "      <th>667</th>\n",
       "      <td>15</td>\n",
       "    </tr>\n",
       "    <tr>\n",
       "      <th>949</th>\n",
       "      <td>15</td>\n",
       "    </tr>\n",
       "    <tr>\n",
       "      <th>983</th>\n",
       "      <td>15</td>\n",
       "    </tr>\n",
       "    <tr>\n",
       "      <th>1104</th>\n",
       "      <td>15</td>\n",
       "    </tr>\n",
       "    <tr>\n",
       "      <th>1162</th>\n",
       "      <td>15</td>\n",
       "    </tr>\n",
       "    <tr>\n",
       "      <th>1381</th>\n",
       "      <td>15</td>\n",
       "    </tr>\n",
       "    <tr>\n",
       "      <th>1391</th>\n",
       "      <td>15</td>\n",
       "    </tr>\n",
       "    <tr>\n",
       "      <th>1464</th>\n",
       "      <td>15</td>\n",
       "    </tr>\n",
       "    <tr>\n",
       "      <th>1571</th>\n",
       "      <td>15</td>\n",
       "    </tr>\n",
       "    <tr>\n",
       "      <th>1611</th>\n",
       "      <td>15</td>\n",
       "    </tr>\n",
       "  </tbody>\n",
       "</table>\n",
       "</div>"
      ],
      "text/plain": [
       "      rewards\n",
       "14         15\n",
       "71         15\n",
       "239        15\n",
       "457        15\n",
       "564        15\n",
       "667        15\n",
       "949        15\n",
       "983        15\n",
       "1104       15\n",
       "1162       15\n",
       "1381       15\n",
       "1391       15\n",
       "1464       15\n",
       "1571       15\n",
       "1611       15"
      ]
     },
     "execution_count": 53,
     "metadata": {},
     "output_type": "execute_result"
    }
   ],
   "source": [
    "df = pd.DataFrame()\n",
    "df[\"rewards\"] = rewards\n",
    "df[df[\"rewards\"] > -15]"
   ]
  },
  {
   "cell_type": "code",
   "execution_count": 206,
   "metadata": {},
   "outputs": [
    {
     "data": {
      "text/plain": [
       "Text(0.5, 1.0, 'Learned Policy Episode Length')"
      ]
     },
     "execution_count": 206,
     "metadata": {},
     "output_type": "execute_result"
    },
    {
     "data": {
      "image/png": "[encoded data removed]",
      "text/plain": [
       "<Figure size 432x288 with 1 Axes>"
      ]
     },
     "metadata": {
      "needs_background": "light"
     },
     "output_type": "display_data"
    }
   ],
   "source": [
    "plt.hist(steps)\n",
    "plt.xlabel(\"Length\")\n",
    "plt.ylabel(\"Frequency\")\n",
    "plt.title(\"Learned Policy Episode Length\")"
   ]
  },
  {
   "cell_type": "code",
   "execution_count": 212,
   "metadata": {},
   "outputs": [
    {
     "data": {
      "text/plain": [
       "Text(0.5, 1.0, \"Physician's Policy Episode Length\")"
      ]
     },
     "execution_count": 212,
     "metadata": {},
     "output_type": "execute_result"
    },
    {
     "data": {
      "image/png": "[encoded data removed]",
      "text/plain": [
       "<Figure size 432x288 with 1 Axes>"
      ]
     },
     "metadata": {
      "needs_background": "light"
     },
     "output_type": "display_data"
    }
   ],
   "source": [
    "test_data.groupby(['subject_id','hadm_id',  'icustay_id']).count()[\"BUN\"].hist()\n",
    "plt.xlabel(\"Length\")\n",
    "plt.ylabel(\"Frequency\")\n",
    "plt.title(\"Physician's Policy Episode Length\")"
   ]
  },
  {
   "cell_type": "code",
   "execution_count": 205,
   "metadata": {},
   "outputs": [
    {
     "data": {
      "text/plain": [
       "Text(0.5, 1.0, 'Learned Policy Episode Length')"
      ]
     },
     "execution_count": 205,
     "metadata": {},
     "output_type": "execute_result"
    },
    {
     "data": {
      "image/png": "[encoded data removed]",
      "text/plain": [
       "<Figure size 432x288 with 1 Axes>"
      ]
     },
     "metadata": {
      "needs_background": "light"
     },
     "output_type": "display_data"
    }
   ],
   "source": [
    "plt.hist(rewards)\n",
    "plt.xlabel(\"Length\")\n",
    "plt.ylabel(\"Frequency\")\n",
    "plt.title(\"Learned Policy Episode Length\")"
   ]
  },
  {
   "cell_type": "code",
   "execution_count": 57,
   "metadata": {},
   "outputs": [],
   "source": [
    "columns = ['ALBUMIN', 'ANION GAP', 'BANDS', 'BICARBONATE',\n",
    "       'BILIRUBIN', 'BUN', 'CHLORIDE', 'CREATININE', 'DiasBP', 'Glucose',\n",
    "       'GLUCOSE', 'HeartRate', 'HEMATOCRIT', 'HEMOGLOBIN', 'INR', 'LACTATE',\n",
    "       'MeanBP', 'PaCO2', 'PLATELET', 'POTASSIUM', 'PT', 'PTT', 'RespRate',\n",
    "       'SODIUM', 'SpO2', 'SysBP', 'TempC', 'WBC', 'age', 'is_male',\n",
    "       'race_white', 'race_black', 'race_hispanic', 'race_other', 'height',\n",
    "       'weight', 'vent', 'sofa', 'lods', 'sirs', 'qsofa', 'qsofa_sysbp_score',\n",
    "       'qsofa_gcs_score', 'qsofa_resprate_score', 'elixhauser_hospital',\n",
    "       'blood_culture_positive']\n",
    "\n"
   ]
  },
  {
   "cell_type": "code",
   "execution_count": 84,
   "metadata": {},
   "outputs": [],
   "source": [
    "test_data_episodes = test_data.groupby(['subject_id','hadm_id','icustay_id']).cumcount()+1"
   ]
  },
  {
   "cell_type": "code",
   "execution_count": 99,
   "metadata": {},
   "outputs": [],
   "source": [
    "starting_indicis = test_data_episodes[test_data_episodes== 1].reset_index()[\"index\"].values"
   ]
  },
  {
   "cell_type": "code",
   "execution_count": 136,
   "metadata": {},
   "outputs": [
    {
     "data": {
      "text/plain": [
       "array([    0,     6,    24, ..., 39192, 39205, 39218])"
      ]
     },
     "execution_count": 136,
     "metadata": {},
     "output_type": "execute_result"
    }
   ],
   "source": [
    "starting_indicis"
   ]
  },
  {
   "cell_type": "code",
   "execution_count": 189,
   "metadata": {},
   "outputs": [
    {
     "name": "stdout",
     "output_type": "stream",
     "text": [
      "-1.1602840670182104\n",
      "[2]\n",
      "[[0.02995463]]\n",
      "[0]\n",
      "[[0.01943823]]\n",
      "[0]\n",
      "[[0.02046996]]\n",
      "[0]\n",
      "[[0.01943657]]\n",
      "[0]\n",
      "[[0.01464458]]\n",
      "[0]\n",
      "[[0.0118325]]\n",
      "[0]\n",
      "[[0.00962013]]\n",
      "[0]\n",
      "[[0.00851515]]\n",
      "[0]\n",
      "[[0.00714082]]\n",
      "[0]\n",
      "[[0.00641514]]\n",
      "[0]\n",
      "[[0.0013763]]\n",
      "[0]\n",
      "[[0.00220198]]\n",
      "[0]\n",
      "[[0.00234093]]\n",
      "Number of steps: 14\n"
     ]
    }
   ],
   "source": [
    "histories = []\n",
    "i=6\n",
    "start_state = test_data[columns].iloc[i].values\n",
    "print(start_state[columns.index(\"HeartRate\")])\n",
    "history = []\n",
    "obs, done = env.reset(starting_state=start_state), False\n",
    "total_steps = 0\n",
    "history.append(obs)\n",
    "while not done:\n",
    "    print(model(obs[None]))\n",
    "    obs, rew, done, _ = env.step(model(obs[None])[0])\n",
    "    history.append(obs)\n",
    "    print(obs[columns.index(\"HeartRate\")])\n",
    "    episode_rew += rew\n",
    "    total_steps += 1\n",
    "print(\"Number of steps:\" ,len(history))    "
   ]
  },
  {
   "cell_type": "code",
   "execution_count": 152,
   "metadata": {},
   "outputs": [
    {
     "data": {
      "text/plain": [
       "-1.1602840670182104"
      ]
     },
     "execution_count": 152,
     "metadata": {},
     "output_type": "execute_result"
    }
   ],
   "source": [
    "test_data[columns].iloc[6].values[columns.index(\"HeartRate\")]"
   ]
  },
  {
   "cell_type": "code",
   "execution_count": null,
   "metadata": {},
   "outputs": [],
   "source": []
  },
  {
   "cell_type": "code",
   "execution_count": 181,
   "metadata": {},
   "outputs": [
    {
     "data": {
      "text/plain": [
       "6    -1.160284\n",
       "7    -1.150156\n",
       "8    -1.208281\n",
       "9    -1.116691\n",
       "10   -1.116691\n",
       "11   -1.116691\n",
       "12   -2.182311\n",
       "13   -1.664032\n",
       "14   -1.184503\n",
       "15   -1.446064\n",
       "16   -1.467861\n",
       "17   -1.324531\n",
       "18   -0.414350\n",
       "19   -0.675911\n",
       "20   -0.835754\n",
       "21   -0.675911\n",
       "22   -0.704974\n",
       "23   -0.446318\n",
       "Name: HeartRate, dtype: float64"
      ]
     },
     "execution_count": 181,
     "metadata": {},
     "output_type": "execute_result"
    }
   ],
   "source": [
    "test_data.iloc[6: 24][\"HeartRate\"]"
   ]
  },
  {
   "cell_type": "code",
   "execution_count": 195,
   "metadata": {},
   "outputs": [],
   "source": [
    "def plot_agent(feature):\n",
    "    plt.plot(np.array(history)[:,columns.index(feature)].reshape(14))\n",
    "    plt.title(feature + \" Under Agent's Treatment\")\n",
    "    plt.xlabel(\"Step\")\n",
    "    plt.ylabel(\"Normalized value\")"
   ]
  },
  {
   "cell_type": "code",
   "execution_count": 201,
   "metadata": {},
   "outputs": [
    {
     "data": {
      "image/png": "[encoded data removed]",
      "text/plain": [
       "<Figure size 432x288 with 1 Axes>"
      ]
     },
     "metadata": {
      "needs_background": "light"
     },
     "output_type": "display_data"
    }
   ],
   "source": [
    "plot_agent(\"sofa\")"
   ]
  },
  {
   "cell_type": "code",
   "execution_count": 202,
   "metadata": {},
   "outputs": [],
   "source": [
    "def plot_doctor(feature):\n",
    "    plt.plot(test_data.iloc[6: 24][feature])\n",
    "    plt.title(feature + \" Under Physicians's Treatment\")\n",
    "    plt.xlabel(\"Step\")\n",
    "    plt.ylabel(\"Normalized value\")\n",
    "\n"
   ]
  },
  {
   "cell_type": "code",
   "execution_count": 203,
   "metadata": {},
   "outputs": [
    {
     "data": {
      "image/png": "[encoded data removed]",
      "text/plain": [
       "<Figure size 432x288 with 1 Axes>"
      ]
     },
     "metadata": {
      "needs_background": "light"
     },
     "output_type": "display_data"
    }
   ],
   "source": [
    "plot_doctor(\"sofa\")"
   ]
  },
  {
   "cell_type": "code",
   "execution_count": null,
   "metadata": {},
   "outputs": [],
   "source": []
  }
 ],
 "metadata": {
  "kernelspec": {
   "display_name": "cs234_project",
   "language": "python",
   "name": "cs234_project"
  },
  "language_info": {
   "codemirror_mode": {
    "name": "ipython",
    "version": 3
   },
   "file_extension": ".py",
   "mimetype": "text/x-python",
   "name": "python",
   "nbconvert_exporter": "python",
   "pygments_lexer": "ipython3",
   "version": "3.6.5"
  }
 },
 "nbformat": 4,
 "nbformat_minor": 2
}
