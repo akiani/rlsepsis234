{
 "cells": [
  {
   "cell_type": "code",
   "execution_count": 1,
   "metadata": {},
   "outputs": [],
   "source": [
    "import gym\n",
    "import sys\n",
    "\n",
    "sys.path.append(\"/Users/chriswang/Downloads/sepsis2/rlsepsis234/gym_sepsis\")\n",
    "sys.path.append(\"/Users/chriswang/Downloads/amir/baselines\")\n",
    "from baselines import deepq\n",
    "from baselines import bench\n",
    "from baselines import logger\n",
    "from baselines.common.atari_wrappers import make_atari\n",
    "from baselines.common import models\n",
    "\n",
    "import gym_sepsis\n",
    "\n",
    "import pandas as pd\n",
    "import matplotlib.pyplot as plt\n",
    "import numpy as np\n",
    "import time"
   ]
  },
  {
   "cell_type": "code",
   "execution_count": 2,
   "metadata": {},
   "outputs": [
    {
     "name": "stdout",
     "output_type": "stream",
     "text": [
      "Logging to dqn-log\n"
     ]
    },
    {
     "name": "stderr",
     "output_type": "stream",
     "text": [
      "Using TensorFlow backend.\n"
     ]
    },
    {
     "name": "stdout",
     "output_type": "stream",
     "text": [
      "WARNING:tensorflow:From /Users/chriswang/anaconda3/lib/python3.6/site-packages/tensorflow/python/ops/resource_variable_ops.py:435: colocate_with (from tensorflow.python.framework.ops) is deprecated and will be removed in a future version.\n",
      "Instructions for updating:\n",
      "Colocations handled automatically by placer.\n",
      "WARNING:tensorflow:From /Users/chriswang/anaconda3/lib/python3.6/site-packages/tensorflow/python/keras/utils/losses_utils.py:170: to_float (from tensorflow.python.ops.math_ops) is deprecated and will be removed in a future version.\n",
      "Instructions for updating:\n",
      "Use tf.cast instead.\n",
      "WARNING:tensorflow:From /Users/chriswang/anaconda3/lib/python3.6/site-packages/tensorflow/python/ops/math_ops.py:3066: to_int32 (from tensorflow.python.ops.math_ops) is deprecated and will be removed in a future version.\n",
      "Instructions for updating:\n",
      "Use tf.cast instead.\n",
      "WARNING:tensorflow:From /Users/chriswang/Downloads/amir/baselines/baselines/common/models.py:94: flatten (from tensorflow.python.layers.core) is deprecated and will be removed in a future version.\n",
      "Instructions for updating:\n",
      "Use keras.layers.flatten instead.\n",
      "--------------------------------------\n",
      "| % time spent exploring  | 86       |\n",
      "| episodes                | 100      |\n",
      "| mean 100 episode reward | 8.3      |\n",
      "| steps                   | 133      |\n",
      "--------------------------------------\n",
      "--------------------------------------\n",
      "| % time spent exploring  | 75       |\n",
      "| episodes                | 200      |\n",
      "| mean 100 episode reward | 7.2      |\n",
      "| steps                   | 255      |\n",
      "--------------------------------------\n",
      "--------------------------------------\n",
      "| % time spent exploring  | 62       |\n",
      "| episodes                | 300      |\n",
      "| mean 100 episode reward | 9        |\n",
      "| steps                   | 382      |\n",
      "--------------------------------------\n",
      "--------------------------------------\n",
      "| % time spent exploring  | 49       |\n",
      "| episodes                | 400      |\n",
      "| mean 100 episode reward | 10.2     |\n",
      "| steps                   | 511      |\n",
      "--------------------------------------\n",
      "--------------------------------------\n",
      "| % time spent exploring  | 36       |\n",
      "| episodes                | 500      |\n",
      "| mean 100 episode reward | 7.4      |\n",
      "| steps                   | 651      |\n",
      "--------------------------------------\n",
      "--------------------------------------\n",
      "| % time spent exploring  | 23       |\n",
      "| episodes                | 600      |\n",
      "| mean 100 episode reward | 8.9      |\n",
      "| steps                   | 779      |\n",
      "--------------------------------------\n",
      "--------------------------------------\n",
      "| % time spent exploring  | 12       |\n",
      "| episodes                | 700      |\n",
      "| mean 100 episode reward | 6.8      |\n",
      "| steps                   | 895      |\n",
      "--------------------------------------\n",
      "--------------------------------------\n",
      "| % time spent exploring  | 2        |\n",
      "| episodes                | 800      |\n",
      "| mean 100 episode reward | 7.1      |\n",
      "| steps                   | 1.02e+03 |\n",
      "--------------------------------------\n",
      "--------------------------------------\n",
      "| % time spent exploring  | 2        |\n",
      "| episodes                | 900      |\n",
      "| mean 100 episode reward | 8.9      |\n",
      "| steps                   | 1.14e+03 |\n",
      "--------------------------------------\n",
      "--------------------------------------\n",
      "| % time spent exploring  | 2        |\n",
      "| episodes                | 1e+03    |\n",
      "| mean 100 episode reward | 8.4      |\n",
      "| steps                   | 1.31e+03 |\n",
      "--------------------------------------\n",
      "--------------------------------------\n",
      "| % time spent exploring  | 2        |\n",
      "| episodes                | 1.1e+03  |\n",
      "| mean 100 episode reward | 10.5     |\n",
      "| steps                   | 1.42e+03 |\n",
      "--------------------------------------\n",
      "--------------------------------------\n",
      "| % time spent exploring  | 2        |\n",
      "| episodes                | 1.2e+03  |\n",
      "| mean 100 episode reward | 9        |\n",
      "| steps                   | 1.53e+03 |\n",
      "--------------------------------------\n",
      "--------------------------------------\n",
      "| % time spent exploring  | 2        |\n",
      "| episodes                | 1.3e+03  |\n",
      "| mean 100 episode reward | 10.5     |\n",
      "| steps                   | 1.64e+03 |\n",
      "--------------------------------------\n",
      "--------------------------------------\n",
      "| % time spent exploring  | 2        |\n",
      "| episodes                | 1.4e+03  |\n",
      "| mean 100 episode reward | 10.5     |\n",
      "| steps                   | 1.76e+03 |\n",
      "--------------------------------------\n",
      "--------------------------------------\n",
      "| % time spent exploring  | 2        |\n",
      "| episodes                | 1.5e+03  |\n",
      "| mean 100 episode reward | 11.1     |\n",
      "| steps                   | 1.88e+03 |\n",
      "--------------------------------------\n",
      "--------------------------------------\n",
      "| % time spent exploring  | 2        |\n",
      "| episodes                | 1.6e+03  |\n",
      "| mean 100 episode reward | 11.6     |\n",
      "| steps                   | 2.01e+03 |\n",
      "--------------------------------------\n",
      "--------------------------------------\n",
      "| % time spent exploring  | 2        |\n",
      "| episodes                | 1.7e+03  |\n",
      "| mean 100 episode reward | 12       |\n",
      "| steps                   | 2.16e+03 |\n",
      "--------------------------------------\n",
      "--------------------------------------\n",
      "| % time spent exploring  | 2        |\n",
      "| episodes                | 1.8e+03  |\n",
      "| mean 100 episode reward | 12.2     |\n",
      "| steps                   | 2.31e+03 |\n",
      "--------------------------------------\n",
      "--------------------------------------\n",
      "| % time spent exploring  | 2        |\n",
      "| episodes                | 1.9e+03  |\n",
      "| mean 100 episode reward | 9.8      |\n",
      "| steps                   | 2.46e+03 |\n",
      "--------------------------------------\n",
      "--------------------------------------\n",
      "| % time spent exploring  | 2        |\n",
      "| episodes                | 2e+03    |\n",
      "| mean 100 episode reward | 10.1     |\n",
      "| steps                   | 2.59e+03 |\n",
      "--------------------------------------\n",
      "--------------------------------------\n",
      "| % time spent exploring  | 2        |\n",
      "| episodes                | 2.1e+03  |\n",
      "| mean 100 episode reward | 10.8     |\n",
      "| steps                   | 2.72e+03 |\n",
      "--------------------------------------\n",
      "--------------------------------------\n",
      "| % time spent exploring  | 2        |\n",
      "| episodes                | 2.2e+03  |\n",
      "| mean 100 episode reward | 11.6     |\n",
      "| steps                   | 2.9e+03  |\n",
      "--------------------------------------\n",
      "--------------------------------------\n",
      "| % time spent exploring  | 2        |\n",
      "| episodes                | 2.3e+03  |\n",
      "| mean 100 episode reward | 11.1     |\n",
      "| steps                   | 3.05e+03 |\n",
      "--------------------------------------\n",
      "--------------------------------------\n",
      "| % time spent exploring  | 2        |\n",
      "| episodes                | 2.4e+03  |\n",
      "| mean 100 episode reward | 10.1     |\n",
      "| steps                   | 3.2e+03  |\n",
      "--------------------------------------\n",
      "--------------------------------------\n",
      "| % time spent exploring  | 2        |\n",
      "| episodes                | 2.5e+03  |\n",
      "| mean 100 episode reward | 11.4     |\n",
      "| steps                   | 3.34e+03 |\n",
      "--------------------------------------\n",
      "--------------------------------------\n",
      "| % time spent exploring  | 2        |\n",
      "| episodes                | 2.6e+03  |\n",
      "| mean 100 episode reward | 11.9     |\n",
      "| steps                   | 3.51e+03 |\n",
      "--------------------------------------\n",
      "--------------------------------------\n",
      "| % time spent exploring  | 2        |\n",
      "| episodes                | 2.7e+03  |\n",
      "| mean 100 episode reward | 10.1     |\n",
      "| steps                   | 3.65e+03 |\n",
      "--------------------------------------\n",
      "--------------------------------------\n",
      "| % time spent exploring  | 2        |\n",
      "| episodes                | 2.8e+03  |\n",
      "| mean 100 episode reward | 12.2     |\n",
      "| steps                   | 3.81e+03 |\n",
      "--------------------------------------\n",
      "--------------------------------------\n",
      "| % time spent exploring  | 2        |\n",
      "| episodes                | 2.9e+03  |\n",
      "| mean 100 episode reward | 11.9     |\n",
      "| steps                   | 3.96e+03 |\n",
      "--------------------------------------\n",
      "--------------------------------------\n",
      "| % time spent exploring  | 2        |\n",
      "| episodes                | 3e+03    |\n",
      "| mean 100 episode reward | 11.7     |\n",
      "| steps                   | 4.1e+03  |\n",
      "--------------------------------------\n",
      "--------------------------------------\n",
      "| % time spent exploring  | 2        |\n",
      "| episodes                | 3.1e+03  |\n",
      "| mean 100 episode reward | 11.9     |\n",
      "| steps                   | 4.26e+03 |\n",
      "--------------------------------------\n"
     ]
    },
    {
     "name": "stdout",
     "output_type": "stream",
     "text": [
      "--------------------------------------\n",
      "| % time spent exploring  | 2        |\n",
      "| episodes                | 3.2e+03  |\n",
      "| mean 100 episode reward | 12.5     |\n",
      "| steps                   | 4.4e+03  |\n",
      "--------------------------------------\n",
      "--------------------------------------\n",
      "| % time spent exploring  | 2        |\n",
      "| episodes                | 3.3e+03  |\n",
      "| mean 100 episode reward | 13.2     |\n",
      "| steps                   | 4.55e+03 |\n",
      "--------------------------------------\n",
      "--------------------------------------\n",
      "| % time spent exploring  | 2        |\n",
      "| episodes                | 3.4e+03  |\n",
      "| mean 100 episode reward | 11.4     |\n",
      "| steps                   | 4.69e+03 |\n",
      "--------------------------------------\n",
      "--------------------------------------\n",
      "| % time spent exploring  | 2        |\n",
      "| episodes                | 3.5e+03  |\n",
      "| mean 100 episode reward | 11.9     |\n",
      "| steps                   | 4.83e+03 |\n",
      "--------------------------------------\n",
      "--------------------------------------\n",
      "| % time spent exploring  | 2        |\n",
      "| episodes                | 3.6e+03  |\n",
      "| mean 100 episode reward | 7.7      |\n",
      "| steps                   | 4.97e+03 |\n",
      "--------------------------------------\n",
      "--------------------------------------\n",
      "| % time spent exploring  | 2        |\n",
      "| episodes                | 3.7e+03  |\n",
      "| mean 100 episode reward | 11.3     |\n",
      "| steps                   | 5.13e+03 |\n",
      "--------------------------------------\n",
      "--------------------------------------\n",
      "| % time spent exploring  | 2        |\n",
      "| episodes                | 3.8e+03  |\n",
      "| mean 100 episode reward | 11.9     |\n",
      "| steps                   | 5.28e+03 |\n",
      "--------------------------------------\n",
      "--------------------------------------\n",
      "| % time spent exploring  | 2        |\n",
      "| episodes                | 3.9e+03  |\n",
      "| mean 100 episode reward | 10       |\n",
      "| steps                   | 5.43e+03 |\n",
      "--------------------------------------\n",
      "--------------------------------------\n",
      "| % time spent exploring  | 2        |\n",
      "| episodes                | 4e+03    |\n",
      "| mean 100 episode reward | 10.5     |\n",
      "| steps                   | 5.58e+03 |\n",
      "--------------------------------------\n",
      "--------------------------------------\n",
      "| % time spent exploring  | 2        |\n",
      "| episodes                | 4.1e+03  |\n",
      "| mean 100 episode reward | 11       |\n",
      "| steps                   | 5.72e+03 |\n",
      "--------------------------------------\n",
      "--------------------------------------\n",
      "| % time spent exploring  | 2        |\n",
      "| episodes                | 4.2e+03  |\n",
      "| mean 100 episode reward | 9.5      |\n",
      "| steps                   | 5.89e+03 |\n",
      "--------------------------------------\n",
      "--------------------------------------\n",
      "| % time spent exploring  | 2        |\n",
      "| episodes                | 4.3e+03  |\n",
      "| mean 100 episode reward | 10.4     |\n",
      "| steps                   | 6.03e+03 |\n",
      "--------------------------------------\n",
      "--------------------------------------\n",
      "| % time spent exploring  | 2        |\n",
      "| episodes                | 4.4e+03  |\n",
      "| mean 100 episode reward | 11.6     |\n",
      "| steps                   | 6.17e+03 |\n",
      "--------------------------------------\n",
      "--------------------------------------\n",
      "| % time spent exploring  | 2        |\n",
      "| episodes                | 4.5e+03  |\n",
      "| mean 100 episode reward | 10.7     |\n",
      "| steps                   | 6.38e+03 |\n",
      "--------------------------------------\n",
      "--------------------------------------\n",
      "| % time spent exploring  | 2        |\n",
      "| episodes                | 4.6e+03  |\n",
      "| mean 100 episode reward | 11.9     |\n",
      "| steps                   | 6.54e+03 |\n",
      "--------------------------------------\n",
      "--------------------------------------\n",
      "| % time spent exploring  | 2        |\n",
      "| episodes                | 4.7e+03  |\n",
      "| mean 100 episode reward | 11.4     |\n",
      "| steps                   | 6.69e+03 |\n",
      "--------------------------------------\n",
      "--------------------------------------\n",
      "| % time spent exploring  | 2        |\n",
      "| episodes                | 4.8e+03  |\n",
      "| mean 100 episode reward | 13.5     |\n",
      "| steps                   | 6.84e+03 |\n",
      "--------------------------------------\n",
      "--------------------------------------\n",
      "| % time spent exploring  | 2        |\n",
      "| episodes                | 4.9e+03  |\n",
      "| mean 100 episode reward | 10.2     |\n",
      "| steps                   | 6.98e+03 |\n",
      "--------------------------------------\n",
      "--------------------------------------\n",
      "| % time spent exploring  | 2        |\n",
      "| episodes                | 5e+03    |\n",
      "| mean 100 episode reward | 11.3     |\n",
      "| steps                   | 7.14e+03 |\n",
      "--------------------------------------\n",
      "--------------------------------------\n",
      "| % time spent exploring  | 2        |\n",
      "| episodes                | 5.1e+03  |\n",
      "| mean 100 episode reward | 11.6     |\n",
      "| steps                   | 7.3e+03  |\n",
      "--------------------------------------\n",
      "--------------------------------------\n",
      "| % time spent exploring  | 2        |\n",
      "| episodes                | 5.2e+03  |\n",
      "| mean 100 episode reward | 11       |\n",
      "| steps                   | 7.43e+03 |\n",
      "--------------------------------------\n",
      "--------------------------------------\n",
      "| % time spent exploring  | 2        |\n",
      "| episodes                | 5.3e+03  |\n",
      "| mean 100 episode reward | 10.1     |\n",
      "| steps                   | 7.59e+03 |\n",
      "--------------------------------------\n",
      "--------------------------------------\n",
      "| % time spent exploring  | 2        |\n",
      "| episodes                | 5.4e+03  |\n",
      "| mean 100 episode reward | 13.2     |\n",
      "| steps                   | 7.72e+03 |\n",
      "--------------------------------------\n",
      "--------------------------------------\n",
      "| % time spent exploring  | 2        |\n",
      "| episodes                | 5.5e+03  |\n",
      "| mean 100 episode reward | 13.5     |\n",
      "| steps                   | 7.89e+03 |\n",
      "--------------------------------------\n",
      "--------------------------------------\n",
      "| % time spent exploring  | 2        |\n",
      "| episodes                | 5.6e+03  |\n",
      "| mean 100 episode reward | 11.1     |\n",
      "| steps                   | 8.02e+03 |\n",
      "--------------------------------------\n",
      "--------------------------------------\n",
      "| % time spent exploring  | 2        |\n",
      "| episodes                | 5.7e+03  |\n",
      "| mean 100 episode reward | 10.1     |\n",
      "| steps                   | 8.18e+03 |\n",
      "--------------------------------------\n",
      "--------------------------------------\n",
      "| % time spent exploring  | 2        |\n",
      "| episodes                | 5.8e+03  |\n",
      "| mean 100 episode reward | 12       |\n",
      "| steps                   | 8.31e+03 |\n",
      "--------------------------------------\n",
      "--------------------------------------\n",
      "| % time spent exploring  | 2        |\n",
      "| episodes                | 5.9e+03  |\n",
      "| mean 100 episode reward | 13.1     |\n",
      "| steps                   | 8.46e+03 |\n",
      "--------------------------------------\n",
      "--------------------------------------\n",
      "| % time spent exploring  | 2        |\n",
      "| episodes                | 6e+03    |\n",
      "| mean 100 episode reward | 12.2     |\n",
      "| steps                   | 8.61e+03 |\n",
      "--------------------------------------\n",
      "--------------------------------------\n",
      "| % time spent exploring  | 2        |\n",
      "| episodes                | 6.1e+03  |\n",
      "| mean 100 episode reward | 11.3     |\n",
      "| steps                   | 8.76e+03 |\n",
      "--------------------------------------\n",
      "--------------------------------------\n",
      "| % time spent exploring  | 2        |\n",
      "| episodes                | 6.2e+03  |\n",
      "| mean 100 episode reward | 12.2     |\n",
      "| steps                   | 8.91e+03 |\n",
      "--------------------------------------\n",
      "--------------------------------------\n",
      "| % time spent exploring  | 2        |\n",
      "| episodes                | 6.3e+03  |\n",
      "| mean 100 episode reward | 11.3     |\n",
      "| steps                   | 9.06e+03 |\n",
      "--------------------------------------\n",
      "--------------------------------------\n",
      "| % time spent exploring  | 2        |\n",
      "| episodes                | 6.4e+03  |\n",
      "| mean 100 episode reward | 12.8     |\n",
      "| steps                   | 9.21e+03 |\n",
      "--------------------------------------\n",
      "--------------------------------------\n",
      "| % time spent exploring  | 2        |\n",
      "| episodes                | 6.5e+03  |\n",
      "| mean 100 episode reward | 12.8     |\n",
      "| steps                   | 9.39e+03 |\n",
      "--------------------------------------\n",
      "--------------------------------------\n",
      "| % time spent exploring  | 2        |\n",
      "| episodes                | 6.6e+03  |\n",
      "| mean 100 episode reward | 10.7     |\n",
      "| steps                   | 9.56e+03 |\n",
      "--------------------------------------\n",
      "--------------------------------------\n",
      "| % time spent exploring  | 2        |\n",
      "| episodes                | 6.7e+03  |\n",
      "| mean 100 episode reward | 11.3     |\n",
      "| steps                   | 9.71e+03 |\n",
      "--------------------------------------\n"
     ]
    },
    {
     "name": "stdout",
     "output_type": "stream",
     "text": [
      "--------------------------------------\n",
      "| % time spent exploring  | 2        |\n",
      "| episodes                | 6.8e+03  |\n",
      "| mean 100 episode reward | 11       |\n",
      "| steps                   | 9.86e+03 |\n",
      "--------------------------------------\n"
     ]
    }
   ],
   "source": [
    "logger.configure(\"dqn-log\")\n",
    "env = gym.make(\"sepsis-v0\")\n",
    "model = deepq.learn(\n",
    "    env=env,\n",
    "    prioritized_replay=True,\n",
    "    checkpoint_path=\"dqn-ckpt{}\".format(time.time()),\n",
    "    seed=1,\n",
    "    total_timesteps=10000,\n",
    "    network=models.mlp(num_hidden=128, num_layers=2),\n",
    ")\n",
    "\n",
    "model.save('dqn.model')\n",
    "env.close()"
   ]
  },
  {
   "cell_type": "code",
   "execution_count": 3,
   "metadata": {},
   "outputs": [],
   "source": [
    "test_data = pd.read_csv(\"/Users/chriswang/Downloads/sepsis2/rlsepsis234/data/test_state_action_reward_df.csv\")"
   ]
  },
  {
   "cell_type": "code",
   "execution_count": 4,
   "metadata": {},
   "outputs": [
    {
     "name": "stdout",
     "output_type": "stream",
     "text": [
      "Done with 100 steps...\n",
      "Done with 200 steps...\n",
      "Done with 300 steps...\n",
      "Done with 400 steps...\n",
      "Done with 500 steps...\n",
      "Done with 600 steps...\n",
      "Done with 700 steps...\n",
      "Done with 800 steps...\n",
      "Done with 900 steps...\n",
      "Done with 1000 steps...\n",
      "Done with 1100 steps...\n",
      "Done with 1200 steps...\n",
      "Done with 1300 steps...\n",
      "Done with 1400 steps...\n",
      "Done with 1500 steps...\n",
      "Done with 1600 steps...\n",
      "Done with 1700 steps...\n",
      "Done with 1800 steps...\n",
      "Done with 1900 steps...\n"
     ]
    }
   ],
   "source": [
    "rewards = []\n",
    "steps = []\n",
    "actions = []\n",
    "\n",
    "for i in range(2000):\n",
    "    if i%100 == 0 and i>0:\n",
    "        print(\"Done with %d steps...\" % i)\n",
    "    obs, done = env.reset(), False\n",
    "    episode_rew = 0\n",
    "    total_steps = 0\n",
    "    while not done:\n",
    "        action = model(obs[None])[0]\n",
    "        actions.append(action)\n",
    "        obs, rew, done, _ = env.step(action)\n",
    "        episode_rew += rew\n",
    "        total_steps += 1\n",
    "    rewards.append(episode_rew)\n",
    "    steps.append(total_steps)"
   ]
  },
  {
   "cell_type": "code",
   "execution_count": 5,
   "metadata": {},
   "outputs": [],
   "source": [
    "\n",
    "steps = np.array(steps) "
   ]
  },
  {
   "cell_type": "code",
   "execution_count": null,
   "metadata": {},
   "outputs": [],
   "source": []
  },
  {
   "cell_type": "code",
   "execution_count": 6,
   "metadata": {},
   "outputs": [
    {
     "data": {
      "text/plain": [
       "Text(0.5, 1.0, 'Learned Policy Episode Length (DQN)')"
      ]
     },
     "execution_count": 6,
     "metadata": {},
     "output_type": "execute_result"
    },
    {
     "data": {
      "image/png": "[encoded data removed]",
      "text/plain": [
       "<Figure size 432x288 with 1 Axes>"
      ]
     },
     "metadata": {
      "needs_background": "light"
     },
     "output_type": "display_data"
    }
   ],
   "source": [
    "plt.hist(steps)\n",
    "plt.xlabel(\"Length\")\n",
    "plt.ylabel(\"Frequency\")\n",
    "plt.title(\"Learned Policy Episode Length (DQN)\")"
   ]
  },
  {
   "cell_type": "code",
   "execution_count": 7,
   "metadata": {},
   "outputs": [
    {
     "data": {
      "text/plain": [
       "Text(0.5, 1.0, \"Physician's Policy Episode Length\")"
      ]
     },
     "execution_count": 7,
     "metadata": {},
     "output_type": "execute_result"
    },
    {
     "data": {
      "image/png": "[encoded data removed]",
      "text/plain": [
       "<Figure size 432x288 with 1 Axes>"
      ]
     },
     "metadata": {
      "needs_background": "light"
     },
     "output_type": "display_data"
    }
   ],
   "source": [
    "\n",
    "plt.hist(test_data.groupby(['subject_id','hadm_id',  'icustay_id']).count()[\"BUN\"].values)\n",
    "plt.xlabel(\"Length\")\n",
    "plt.ylabel(\"Frequency\")\n",
    "plt.title(\"Physician's Policy Episode Length\")"
   ]
  },
  {
   "cell_type": "code",
   "execution_count": null,
   "metadata": {},
   "outputs": [],
   "source": []
  },
  {
   "cell_type": "code",
   "execution_count": 8,
   "metadata": {},
   "outputs": [
    {
     "data": {
      "text/plain": [
       "Text(0.5, 1.0, \"Physician's Policy Episode Rewards\")"
      ]
     },
     "execution_count": 8,
     "metadata": {},
     "output_type": "execute_result"
    },
    {
     "data": {
      "image/png": "[encoded data removed]",
      "text/plain": [
       "<Figure size 432x288 with 1 Axes>"
      ]
     },
     "metadata": {
      "needs_background": "light"
     },
     "output_type": "display_data"
    }
   ],
   "source": [
    "test_data.groupby(['subject_id','hadm_id',  'icustay_id']).sum()[\"reward\"].hist()\n",
    "plt.xlabel(\"Length\")\n",
    "plt.ylabel(\"Frequency\")\n",
    "plt.title(\"Physician's Policy Episode Rewards\")"
   ]
  },
  {
   "cell_type": "code",
   "execution_count": 9,
   "metadata": {},
   "outputs": [
    {
     "data": {
      "text/plain": [
       "Text(0.5, 1.0, 'Learned Policy Episode Rewards (DQN)')"
      ]
     },
     "execution_count": 9,
     "metadata": {},
     "output_type": "execute_result"
    },
    {
     "data": {
      "image/png": "[encoded data removed]",
      "text/plain": [
       "<Figure size 432x288 with 1 Axes>"
      ]
     },
     "metadata": {
      "needs_background": "light"
     },
     "output_type": "display_data"
    }
   ],
   "source": [
    "plt.hist(rewards)\n",
    "plt.xlabel(\"Length\")\n",
    "plt.ylabel(\"Frequency\")\n",
    "plt.title(\"Learned Policy Episode Rewards (DQN)\")"
   ]
  },
  {
   "cell_type": "code",
   "execution_count": 10,
   "metadata": {},
   "outputs": [
    {
     "data": {
      "text/plain": [
       "Text(0.5, 1.0, \"Learned Policy's Actions (DQN)\")"
      ]
     },
     "execution_count": 10,
     "metadata": {},
     "output_type": "execute_result"
    },
    {
     "data": {
      "image/png": "[encoded data removed]",
      "text/plain": [
       "<Figure size 432x288 with 1 Axes>"
      ]
     },
     "metadata": {
      "needs_background": "light"
     },
     "output_type": "display_data"
    }
   ],
   "source": [
    "plt.hist(actions)\n",
    "plt.xlabel(\"Action\")\n",
    "plt.ylabel(\"Frequency\")\n",
    "plt.title(\"Learned Policy's Actions (DQN)\")"
   ]
  },
  {
   "cell_type": "code",
   "execution_count": 11,
   "metadata": {},
   "outputs": [
    {
     "data": {
      "text/plain": [
       "Text(0.5, 1.0, \"Physician Policy's Actions\")"
      ]
     },
     "execution_count": 11,
     "metadata": {},
     "output_type": "execute_result"
    },
    {
     "data": {
      "image/png": "[encoded data removed]",
      "text/plain": [
       "<Figure size 432x288 with 1 Axes>"
      ]
     },
     "metadata": {
      "needs_background": "light"
     },
     "output_type": "display_data"
    }
   ],
   "source": [
    "test_data[\"discrete_action\"].hist()\n",
    "plt.xlabel(\"Action\")\n",
    "plt.ylabel(\"Frequency\")\n",
    "plt.title(\"Physician Policy's Actions\")"
   ]
  },
  {
   "cell_type": "code",
   "execution_count": 12,
   "metadata": {},
   "outputs": [],
   "source": [
    "columns = ['ALBUMIN', 'ANION GAP', 'BANDS', 'BICARBONATE',\n",
    "       'BILIRUBIN', 'BUN', 'CHLORIDE', 'CREATININE', 'DiasBP', 'Glucose',\n",
    "       'GLUCOSE', 'HeartRate', 'HEMATOCRIT', 'HEMOGLOBIN', 'INR', 'LACTATE',\n",
    "       'MeanBP', 'PaCO2', 'PLATELET', 'POTASSIUM', 'PT', 'PTT', 'RespRate',\n",
    "       'SODIUM', 'SpO2', 'SysBP', 'TempC', 'WBC', 'age', 'is_male',\n",
    "       'race_white', 'race_black', 'race_hispanic', 'race_other', 'height',\n",
    "       'weight', 'vent', 'sofa', 'lods', 'sirs', 'qsofa', 'qsofa_sysbp_score',\n",
    "       'qsofa_gcs_score', 'qsofa_resprate_score', 'elixhauser_hospital',\n",
    "       'blood_culture_positive']\n",
    "\n"
   ]
  },
  {
   "cell_type": "code",
   "execution_count": null,
   "metadata": {},
   "outputs": [],
   "source": []
  },
  {
   "cell_type": "code",
   "execution_count": null,
   "metadata": {},
   "outputs": [],
   "source": []
  }
 ],
 "metadata": {
  "kernelspec": {
   "display_name": "Python 3",
   "language": "python",
   "name": "python3"
  },
  "language_info": {
   "codemirror_mode": {
    "name": "ipython",
    "version": 3
   },
   "file_extension": ".py",
   "mimetype": "text/x-python",
   "name": "python",
   "nbconvert_exporter": "python",
   "pygments_lexer": "ipython3",
   "version": "3.6.8"
  }
 },
 "nbformat": 4,
 "nbformat_minor": 2
}
