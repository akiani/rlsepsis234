{
 "cells": [
  {
   "cell_type": "code",
   "execution_count": 1,
   "metadata": {},
   "outputs": [],
   "source": [
    "import gym\n",
    "import sys\n",
    "\n",
    "sys.path.append(\"/Users/amir/code/rlsepsis234/gym-sepsis\")\n",
    "from baselines import deepq\n",
    "from baselines import bench\n",
    "from baselines import logger\n",
    "from baselines.common.atari_wrappers import make_atari\n",
    "from baselines.common import models\n",
    "import gym_sepsis\n",
    "import pandas as pd\n",
    "import matplotlib.pyplot as plt\n",
    "import numpy as np\n",
    "import time"
   ]
  },
  {
   "cell_type": "code",
   "execution_count": 2,
   "metadata": {
    "scrolled": false
   },
   "outputs": [
    {
     "name": "stdout",
     "output_type": "stream",
     "text": [
      "Logging to dqn-log\n",
      "WARNING:tensorflow:From /Users/amir/code/rlsepsis234/.env/lib/python3.6/site-packages/tensorflow/python/ops/resource_variable_ops.py:435: colocate_with (from tensorflow.python.framework.ops) is deprecated and will be removed in a future version.\n",
      "Instructions for updating:\n",
      "Colocations handled automatically by placer.\n",
      "Tensor(\"z/random_normal:0\", shape=(?, 30), dtype=float32)\n",
      "Tensor(\"z_1/random_normal:0\", shape=(?, 30), dtype=float32)\n",
      "WARNING:tensorflow:From /Users/amir/code/rlsepsis234/.env/lib/python3.6/site-packages/tensorflow/python/keras/utils/losses_utils.py:170: to_float (from tensorflow.python.ops.math_ops) is deprecated and will be removed in a future version.\n",
      "Instructions for updating:\n",
      "Use tf.cast instead.\n",
      "WARNING:tensorflow:From /Users/amir/code/rlsepsis234/.env/lib/python3.6/site-packages/tensorflow/python/ops/math_ops.py:3066: to_int32 (from tensorflow.python.ops.math_ops) is deprecated and will be removed in a future version.\n",
      "Instructions for updating:\n",
      "Use tf.cast instead.\n",
      "WARNING:tensorflow:From /Users/amir/code/rlsepsis234/.env/lib/python3.6/site-packages/baselines/common/models.py:50: flatten (from tensorflow.python.layers.core) is deprecated and will be removed in a future version.\n",
      "Instructions for updating:\n",
      "Use keras.layers.flatten instead.\n"
     ]
    },
    {
     "name": "stderr",
     "output_type": "stream",
     "text": [
      "/Users/amir/code/rlsepsis234/.env/lib/python3.6/site-packages/numpy/core/fromnumeric.py:3118: RuntimeWarning: Mean of empty slice.\n",
      "  out=out, **kwargs)\n",
      "/Users/amir/code/rlsepsis234/.env/lib/python3.6/site-packages/numpy/core/_methods.py:85: RuntimeWarning: invalid value encountered in double_scalars\n",
      "  ret = ret.dtype.type(ret / rcount)\n"
     ]
    },
    {
     "name": "stdout",
     "output_type": "stream",
     "text": [
      "--------------------------------------\n",
      "| % time spent exploring  | 67       |\n",
      "| episodes                | 100      |\n",
      "| mean 100 episode reward | 12.6     |\n",
      "| steps                   | 167      |\n",
      "--------------------------------------\n",
      "--------------------------------------\n",
      "| % time spent exploring  | 28       |\n",
      "| episodes                | 200      |\n",
      "| mean 100 episode reward | 11.7     |\n",
      "| steps                   | 364      |\n",
      "--------------------------------------\n"
     ]
    }
   ],
   "source": [
    "logger.configure(\"dqn-log\")\n",
    "env = gym.make(\"sepsis-vae-small-v0\")\n",
    "model = deepq.learn(\n",
    "    env=env,\n",
    "    prioritized_replay=True,\n",
    "    checkpoint_path=\"dqn-ckpt{}\".format(time.time()),\n",
    "    seed=1,\n",
    "    total_timesteps=5000,\n",
    "    network=models.mlp(num_hidden=128, num_layers=2),\n",
    ")\n",
    "\n",
    "model.save('dqn-vae.model')\n",
    "env.close()"
   ]
  },
  {
   "cell_type": "code",
   "execution_count": 5,
   "metadata": {},
   "outputs": [],
   "source": [
    "test_data = pd.read_csv(\"/Users/amir/Downloads/test_state_action_reward_df.csv\")"
   ]
  },
  {
   "cell_type": "code",
   "execution_count": null,
   "metadata": {},
   "outputs": [],
   "source": [
    "rewards = []\n",
    "steps = []\n",
    "actions = []\n",
    "\n",
    "for i in range(2000):\n",
    "    if i%100 == 0 and i>0:\n",
    "        print(\"Done with %d steps...\" % i)\n",
    "    obs, done = env.reset(), False\n",
    "    episode_rew = 0\n",
    "    total_steps = 0\n",
    "    while not done:\n",
    "        action = model(obs[None])[0]\n",
    "        actions.append(action)\n",
    "        obs, rew, done, _ = env.step(action)\n",
    "        episode_rew += rew\n",
    "        total_steps += 1\n",
    "    rewards.append(episode_rew)\n",
    "    steps.append(total_steps)"
   ]
  },
  {
   "cell_type": "code",
   "execution_count": null,
   "metadata": {},
   "outputs": [],
   "source": [
    "steps = np.array(steps) "
   ]
  },
  {
   "cell_type": "code",
   "execution_count": null,
   "metadata": {},
   "outputs": [],
   "source": []
  },
  {
   "cell_type": "code",
   "execution_count": null,
   "metadata": {},
   "outputs": [],
   "source": [
    "plt.hist(steps)\n",
    "plt.xlabel(\"Length\")\n",
    "plt.ylabel(\"Frequency\")\n",
    "plt.title(\"Learned Policy Episode Length (DQN)\")"
   ]
  },
  {
   "cell_type": "code",
   "execution_count": null,
   "metadata": {},
   "outputs": [],
   "source": [
    "\n",
    "plt.hist(test_data.groupby(['subject_id','hadm_id',  'icustay_id']).count()[\"BUN\"].values)\n",
    "plt.xlabel(\"Length\")\n",
    "plt.ylabel(\"Frequency\")\n",
    "plt.title(\"Physician's Policy Episode Length\")"
   ]
  },
  {
   "cell_type": "code",
   "execution_count": null,
   "metadata": {},
   "outputs": [],
   "source": []
  },
  {
   "cell_type": "code",
   "execution_count": null,
   "metadata": {},
   "outputs": [],
   "source": [
    "test_data.groupby(['subject_id','hadm_id',  'icustay_id']).sum()[\"reward\"].hist()\n",
    "plt.xlabel(\"Length\")\n",
    "plt.ylabel(\"Frequency\")\n",
    "plt.title(\"Physician's Policy Episode Rewards\")"
   ]
  },
  {
   "cell_type": "code",
   "execution_count": null,
   "metadata": {},
   "outputs": [],
   "source": [
    "plt.hist(rewards)\n",
    "plt.xlabel(\"Length\")\n",
    "plt.ylabel(\"Frequency\")\n",
    "plt.title(\"Learned Policy Episode Rewards (DQN)\")"
   ]
  },
  {
   "cell_type": "code",
   "execution_count": null,
   "metadata": {},
   "outputs": [],
   "source": [
    "plt.hist(actions)\n",
    "plt.xlabel(\"Action\")\n",
    "plt.ylabel(\"Frequency\")\n",
    "plt.title(\"Learned Policy's Actions (DQN)\")"
   ]
  },
  {
   "cell_type": "code",
   "execution_count": null,
   "metadata": {},
   "outputs": [],
   "source": [
    "test_data[\"discrete_action\"].hist()\n",
    "plt.xlabel(\"Action\")\n",
    "plt.ylabel(\"Frequency\")\n",
    "plt.title(\"Physician Policy's Actions\")"
   ]
  },
  {
   "cell_type": "code",
   "execution_count": null,
   "metadata": {},
   "outputs": [],
   "source": [
    "columns = ['ALBUMIN', 'ANION GAP', 'BANDS', 'BICARBONATE', \n",
    "       'BILIRUBIN', 'BUN', 'CHLORIDE', 'CREATININE', 'DiasBP', 'Glucose',\n",
    "       'GLUCOSE', 'HeartRate', 'HEMATOCRIT', 'HEMOGLOBIN', 'INR', 'LACTATE',\n",
    "       'MeanBP', 'PaCO2', 'PLATELET', 'POTASSIUM', 'PT', 'PTT', 'RespRate',\n",
    "       'SODIUM', 'SpO2', 'SysBP', 'TempC', 'WBC', 'age', 'is_male',\n",
    "       'race_white', 'race_black', 'race_hispanic', 'race_other', 'height',\n",
    "       'weight', 'vent', 'sofa', 'lods', 'sirs', 'qsofa', 'qsofa_sysbp_score',\n",
    "       'qsofa_gcs_score', 'qsofa_resprate_score', 'elixhauser_hospital',\n",
    "       'blood_culture_positive']\n",
    "\n"
   ]
  },
  {
   "cell_type": "code",
   "execution_count": null,
   "metadata": {},
   "outputs": [],
   "source": []
  },
  {
   "cell_type": "code",
   "execution_count": null,
   "metadata": {},
   "outputs": [],
   "source": []
  },
  {
   "cell_type": "code",
   "execution_count": null,
   "metadata": {},
   "outputs": [],
   "source": []
  }
 ],
 "metadata": {
  "kernelspec": {
   "display_name": "cs234_project",
   "language": "python",
   "name": "cs234_project"
  },
  "language_info": {
   "codemirror_mode": {
    "name": "ipython",
    "version": 3
   },
   "file_extension": ".py",
   "mimetype": "text/x-python",
   "name": "python",
   "nbconvert_exporter": "python",
   "pygments_lexer": "ipython3",
   "version": "3.6.5"
  }
 },
 "nbformat": 4,
 "nbformat_minor": 2
}
