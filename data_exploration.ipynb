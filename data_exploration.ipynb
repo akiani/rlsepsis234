{
 "cells": [
  {
   "cell_type": "code",
   "execution_count": 1,
   "metadata": {},
   "outputs": [],
   "source": [
    "from __future__ import absolute_import, division, print_function\n",
    "\n",
    "import pandas as pd\n",
    "import numpy as np\n",
    "import sklearn as sk\n",
    "import os\n",
    "import tensorflow as tf\n",
    "from sklearn.feature_extraction import DictVectorizer\n",
    "from sklearn.externals import joblib\n",
    "from sklearn.model_selection import ParameterGrid\n",
    "import seaborn as sns\n",
    "\n",
    "# TensorFlow and tf.keras\n",
    "import tensorflow as tf\n",
    "from tensorflow import keras"
   ]
  },
  {
   "cell_type": "code",
   "execution_count": 2,
   "metadata": {},
   "outputs": [],
   "source": [
    "# %load_ext autoreload\n",
    "# %autoreload 2"
   ]
  },
  {
   "cell_type": "code",
   "execution_count": 3,
   "metadata": {},
   "outputs": [],
   "source": [
    "data_path = \"data/\"\n",
    "\n",
    "final_df_train = pd.read_csv(data_path + 'train_state_action_reward_df.csv')\n",
    "final_df_val = pd.read_csv(data_path+ 'val_state_action_reward_df.csv')\n",
    "final_df_test = pd.read_csv(data_path+ 'test_state_action_reward_df.csv')"
   ]
  },
  {
   "cell_type": "code",
   "execution_count": 4,
   "metadata": {},
   "outputs": [],
   "source": [
    "patient_4 = final_df_train[final_df_train['subject_id'] == 4]"
   ]
  },
  {
   "cell_type": "code",
   "execution_count": 5,
   "metadata": {},
   "outputs": [
    {
     "data": {
      "text/plain": [
       "Index(['subject_id', 'hadm_id', 'icustay_id', 'interval_start_time',\n",
       "       'interval_end_time', 'ALBUMIN', 'ANION GAP', 'BANDS', 'BICARBONATE',\n",
       "       'BILIRUBIN', 'BUN', 'CHLORIDE', 'CREATININE', 'DiasBP', 'Glucose',\n",
       "       'GLUCOSE', 'HeartRate', 'HEMATOCRIT', 'HEMOGLOBIN', 'INR', 'LACTATE',\n",
       "       'MeanBP', 'PaCO2', 'PLATELET', 'POTASSIUM', 'PT', 'PTT', 'RespRate',\n",
       "       'SODIUM', 'SpO2', 'SysBP', 'TempC', 'WBC', 'age', 'is_male',\n",
       "       'race_white', 'race_black', 'race_hispanic', 'race_other', 'height',\n",
       "       'weight', 'vent', 'sofa', 'lods', 'sirs', 'qsofa', 'qsofa_sysbp_score',\n",
       "       'qsofa_gcs_score', 'qsofa_resprate_score', 'elixhauser_hospital',\n",
       "       'blood_culture_positive', 'discrete_action', 'hospital_expire_flag',\n",
       "       'reward', 'row_id', 'row_id_next'],\n",
       "      dtype='object')"
      ]
     },
     "execution_count": 5,
     "metadata": {},
     "output_type": "execute_result"
    }
   ],
   "source": [
    "patient_4.columns"
   ]
  },
  {
   "cell_type": "code",
   "execution_count": 69,
   "metadata": {},
   "outputs": [
    {
     "data": {
      "text/plain": [
       "<matplotlib.axes._subplots.AxesSubplot at 0x126753160>"
      ]
     },
     "execution_count": 69,
     "metadata": {},
     "output_type": "execute_result"
    },
    {
     "data": {
      "image/png": "[encoded data removed]",
      "text/plain": [
       "<Figure size 432x288 with 1 Axes>"
      ]
     },
     "metadata": {
      "needs_background": "light"
     },
     "output_type": "display_data"
    }
   ],
   "source": [
    "# look at one patient\n",
    "sns.lineplot(x=\"row_id\", y=\"HeartRate\",\n",
    "             data=patient_4)"
   ]
  },
  {
   "cell_type": "code",
   "execution_count": 73,
   "metadata": {},
   "outputs": [
    {
     "data": {
      "text/plain": [
       "discrete_action\n",
       "0     37763\n",
       "1     26903\n",
       "2     26792\n",
       "3     26607\n",
       "4     22865\n",
       "5         5\n",
       "6       708\n",
       "7       552\n",
       "8       568\n",
       "9      1313\n",
       "11      519\n",
       "12      496\n",
       "13      602\n",
       "14     1579\n",
       "16      494\n",
       "17      513\n",
       "18      673\n",
       "19     1528\n",
       "21      308\n",
       "22      549\n",
       "23      749\n",
       "24     1496\n",
       "Name: subject_id, dtype: int64"
      ]
     },
     "execution_count": 73,
     "metadata": {},
     "output_type": "execute_result"
    }
   ],
   "source": [
    "# look at action counts\n",
    "final_df_train.groupby(\"discrete_action\").count()['subject_id']"
   ]
  },
  {
   "cell_type": "code",
   "execution_count": 74,
   "metadata": {},
   "outputs": [
    {
     "data": {
      "text/html": [
       "<div>\n",
       "<style scoped>\n",
       "    .dataframe tbody tr th:only-of-type {\n",
       "        vertical-align: middle;\n",
       "    }\n",
       "\n",
       "    .dataframe tbody tr th {\n",
       "        vertical-align: top;\n",
       "    }\n",
       "\n",
       "    .dataframe thead th {\n",
       "        text-align: right;\n",
       "    }\n",
       "</style>\n",
       "<table border=\"1\" class=\"dataframe\">\n",
       "  <thead>\n",
       "    <tr style=\"text-align: right;\">\n",
       "      <th></th>\n",
       "      <th>subject_id</th>\n",
       "      <th>hadm_id</th>\n",
       "      <th>icustay_id</th>\n",
       "      <th>interval_start_time</th>\n",
       "      <th>interval_end_time</th>\n",
       "      <th>ALBUMIN</th>\n",
       "      <th>ANION GAP</th>\n",
       "      <th>BANDS</th>\n",
       "      <th>BICARBONATE</th>\n",
       "      <th>BILIRUBIN</th>\n",
       "      <th>...</th>\n",
       "      <th>qsofa</th>\n",
       "      <th>qsofa_sysbp_score</th>\n",
       "      <th>qsofa_gcs_score</th>\n",
       "      <th>qsofa_resprate_score</th>\n",
       "      <th>elixhauser_hospital</th>\n",
       "      <th>blood_culture_positive</th>\n",
       "      <th>discrete_action</th>\n",
       "      <th>reward</th>\n",
       "      <th>row_id</th>\n",
       "      <th>row_id_next</th>\n",
       "    </tr>\n",
       "    <tr>\n",
       "      <th>hospital_expire_flag</th>\n",
       "      <th></th>\n",
       "      <th></th>\n",
       "      <th></th>\n",
       "      <th></th>\n",
       "      <th></th>\n",
       "      <th></th>\n",
       "      <th></th>\n",
       "      <th></th>\n",
       "      <th></th>\n",
       "      <th></th>\n",
       "      <th></th>\n",
       "      <th></th>\n",
       "      <th></th>\n",
       "      <th></th>\n",
       "      <th></th>\n",
       "      <th></th>\n",
       "      <th></th>\n",
       "      <th></th>\n",
       "      <th></th>\n",
       "      <th></th>\n",
       "      <th></th>\n",
       "    </tr>\n",
       "  </thead>\n",
       "  <tbody>\n",
       "    <tr>\n",
       "      <th>0</th>\n",
       "      <td>131773</td>\n",
       "      <td>131773</td>\n",
       "      <td>131773</td>\n",
       "      <td>131773</td>\n",
       "      <td>131773</td>\n",
       "      <td>131773</td>\n",
       "      <td>131773</td>\n",
       "      <td>131773</td>\n",
       "      <td>131773</td>\n",
       "      <td>131773</td>\n",
       "      <td>...</td>\n",
       "      <td>131773</td>\n",
       "      <td>131773</td>\n",
       "      <td>131773</td>\n",
       "      <td>131773</td>\n",
       "      <td>131773</td>\n",
       "      <td>131773</td>\n",
       "      <td>131773</td>\n",
       "      <td>131773</td>\n",
       "      <td>131773</td>\n",
       "      <td>131773</td>\n",
       "    </tr>\n",
       "    <tr>\n",
       "      <th>1</th>\n",
       "      <td>21809</td>\n",
       "      <td>21809</td>\n",
       "      <td>21809</td>\n",
       "      <td>21809</td>\n",
       "      <td>21809</td>\n",
       "      <td>21809</td>\n",
       "      <td>21809</td>\n",
       "      <td>21809</td>\n",
       "      <td>21809</td>\n",
       "      <td>21809</td>\n",
       "      <td>...</td>\n",
       "      <td>21809</td>\n",
       "      <td>21809</td>\n",
       "      <td>21809</td>\n",
       "      <td>21809</td>\n",
       "      <td>21809</td>\n",
       "      <td>21809</td>\n",
       "      <td>21809</td>\n",
       "      <td>21809</td>\n",
       "      <td>21809</td>\n",
       "      <td>21809</td>\n",
       "    </tr>\n",
       "  </tbody>\n",
       "</table>\n",
       "<p>2 rows × 55 columns</p>\n",
       "</div>"
      ],
      "text/plain": [
       "                      subject_id  hadm_id  icustay_id  interval_start_time  \\\n",
       "hospital_expire_flag                                                         \n",
       "0                         131773   131773      131773               131773   \n",
       "1                          21809    21809       21809                21809   \n",
       "\n",
       "                      interval_end_time  ALBUMIN  ANION GAP   BANDS  \\\n",
       "hospital_expire_flag                                                  \n",
       "0                                131773   131773     131773  131773   \n",
       "1                                 21809    21809      21809   21809   \n",
       "\n",
       "                      BICARBONATE  BILIRUBIN  ...   qsofa  qsofa_sysbp_score  \\\n",
       "hospital_expire_flag                          ...                              \n",
       "0                          131773     131773  ...  131773             131773   \n",
       "1                           21809      21809  ...   21809              21809   \n",
       "\n",
       "                      qsofa_gcs_score  qsofa_resprate_score  \\\n",
       "hospital_expire_flag                                          \n",
       "0                              131773                131773   \n",
       "1                               21809                 21809   \n",
       "\n",
       "                      elixhauser_hospital  blood_culture_positive  \\\n",
       "hospital_expire_flag                                                \n",
       "0                                  131773                  131773   \n",
       "1                                   21809                   21809   \n",
       "\n",
       "                      discrete_action  reward  row_id  row_id_next  \n",
       "hospital_expire_flag                                                \n",
       "0                              131773  131773  131773       131773  \n",
       "1                               21809   21809   21809        21809  \n",
       "\n",
       "[2 rows x 55 columns]"
      ]
     },
     "execution_count": 74,
     "metadata": {},
     "output_type": "execute_result"
    }
   ],
   "source": [
    "final_df_train.groupby(\"hospital_expire_flag\").count()"
   ]
  },
  {
   "cell_type": "code",
   "execution_count": 75,
   "metadata": {},
   "outputs": [
    {
     "data": {
      "text/html": [
       "<div>\n",
       "<style scoped>\n",
       "    .dataframe tbody tr th:only-of-type {\n",
       "        vertical-align: middle;\n",
       "    }\n",
       "\n",
       "    .dataframe tbody tr th {\n",
       "        vertical-align: top;\n",
       "    }\n",
       "\n",
       "    .dataframe thead th {\n",
       "        text-align: right;\n",
       "    }\n",
       "</style>\n",
       "<table border=\"1\" class=\"dataframe\">\n",
       "  <thead>\n",
       "    <tr style=\"text-align: right;\">\n",
       "      <th></th>\n",
       "      <th>subject_id</th>\n",
       "      <th>hadm_id</th>\n",
       "      <th>icustay_id</th>\n",
       "      <th>interval_start_time</th>\n",
       "      <th>interval_end_time</th>\n",
       "      <th>ALBUMIN</th>\n",
       "      <th>ANION GAP</th>\n",
       "      <th>BANDS</th>\n",
       "      <th>BICARBONATE</th>\n",
       "      <th>BILIRUBIN</th>\n",
       "      <th>...</th>\n",
       "      <th>qsofa_sysbp_score</th>\n",
       "      <th>qsofa_gcs_score</th>\n",
       "      <th>qsofa_resprate_score</th>\n",
       "      <th>elixhauser_hospital</th>\n",
       "      <th>blood_culture_positive</th>\n",
       "      <th>discrete_action</th>\n",
       "      <th>hospital_expire_flag</th>\n",
       "      <th>reward</th>\n",
       "      <th>row_id</th>\n",
       "      <th>row_id_next</th>\n",
       "    </tr>\n",
       "  </thead>\n",
       "  <tbody>\n",
       "    <tr>\n",
       "      <th>0</th>\n",
       "      <td>4</td>\n",
       "      <td>185777</td>\n",
       "      <td>294638</td>\n",
       "      <td>2191-03-15T12:00:00Z</td>\n",
       "      <td>2191-03-15T16:00:00Z</td>\n",
       "      <td>-0.058925</td>\n",
       "      <td>0.767654</td>\n",
       "      <td>-0.393482</td>\n",
       "      <td>0.040999</td>\n",
       "      <td>0.048183</td>\n",
       "      <td>...</td>\n",
       "      <td>0.540022</td>\n",
       "      <td>-0.57893</td>\n",
       "      <td>0.390655</td>\n",
       "      <td>1.007645</td>\n",
       "      <td>1.461582</td>\n",
       "      <td>0</td>\n",
       "      <td>0</td>\n",
       "      <td>0</td>\n",
       "      <td>0.0</td>\n",
       "      <td>1.0</td>\n",
       "    </tr>\n",
       "    <tr>\n",
       "      <th>1</th>\n",
       "      <td>4</td>\n",
       "      <td>185777</td>\n",
       "      <td>294638</td>\n",
       "      <td>2191-03-15T20:00:00Z</td>\n",
       "      <td>2191-03-16T00:00:00Z</td>\n",
       "      <td>-0.058925</td>\n",
       "      <td>0.767654</td>\n",
       "      <td>-0.393482</td>\n",
       "      <td>0.040999</td>\n",
       "      <td>0.048183</td>\n",
       "      <td>...</td>\n",
       "      <td>0.540022</td>\n",
       "      <td>-0.57893</td>\n",
       "      <td>0.390655</td>\n",
       "      <td>1.007645</td>\n",
       "      <td>1.461582</td>\n",
       "      <td>0</td>\n",
       "      <td>0</td>\n",
       "      <td>0</td>\n",
       "      <td>1.0</td>\n",
       "      <td>2.0</td>\n",
       "    </tr>\n",
       "    <tr>\n",
       "      <th>2</th>\n",
       "      <td>4</td>\n",
       "      <td>185777</td>\n",
       "      <td>294638</td>\n",
       "      <td>2191-03-16T00:00:00Z</td>\n",
       "      <td>2191-03-16T04:00:00Z</td>\n",
       "      <td>-0.058925</td>\n",
       "      <td>0.767654</td>\n",
       "      <td>-0.393482</td>\n",
       "      <td>0.040999</td>\n",
       "      <td>0.048183</td>\n",
       "      <td>...</td>\n",
       "      <td>0.540022</td>\n",
       "      <td>-0.57893</td>\n",
       "      <td>0.390655</td>\n",
       "      <td>1.007645</td>\n",
       "      <td>1.461582</td>\n",
       "      <td>2</td>\n",
       "      <td>0</td>\n",
       "      <td>0</td>\n",
       "      <td>2.0</td>\n",
       "      <td>3.0</td>\n",
       "    </tr>\n",
       "    <tr>\n",
       "      <th>3</th>\n",
       "      <td>4</td>\n",
       "      <td>185777</td>\n",
       "      <td>294638</td>\n",
       "      <td>2191-03-16T04:00:00Z</td>\n",
       "      <td>2191-03-16T08:00:00Z</td>\n",
       "      <td>-0.487176</td>\n",
       "      <td>0.271412</td>\n",
       "      <td>-0.393482</td>\n",
       "      <td>-0.600421</td>\n",
       "      <td>-0.020244</td>\n",
       "      <td>...</td>\n",
       "      <td>0.540022</td>\n",
       "      <td>-0.57893</td>\n",
       "      <td>0.390655</td>\n",
       "      <td>1.007645</td>\n",
       "      <td>1.461582</td>\n",
       "      <td>4</td>\n",
       "      <td>0</td>\n",
       "      <td>0</td>\n",
       "      <td>3.0</td>\n",
       "      <td>4.0</td>\n",
       "    </tr>\n",
       "    <tr>\n",
       "      <th>4</th>\n",
       "      <td>4</td>\n",
       "      <td>185777</td>\n",
       "      <td>294638</td>\n",
       "      <td>2191-03-16T08:00:00Z</td>\n",
       "      <td>2191-03-16T12:00:00Z</td>\n",
       "      <td>-0.487176</td>\n",
       "      <td>0.271412</td>\n",
       "      <td>-0.393482</td>\n",
       "      <td>-0.600421</td>\n",
       "      <td>-0.020244</td>\n",
       "      <td>...</td>\n",
       "      <td>0.540022</td>\n",
       "      <td>-0.57893</td>\n",
       "      <td>0.390655</td>\n",
       "      <td>1.007645</td>\n",
       "      <td>1.461582</td>\n",
       "      <td>1</td>\n",
       "      <td>0</td>\n",
       "      <td>0</td>\n",
       "      <td>4.0</td>\n",
       "      <td>5.0</td>\n",
       "    </tr>\n",
       "  </tbody>\n",
       "</table>\n",
       "<p>5 rows × 56 columns</p>\n",
       "</div>"
      ],
      "text/plain": [
       "   subject_id  hadm_id  icustay_id   interval_start_time  \\\n",
       "0           4   185777      294638  2191-03-15T12:00:00Z   \n",
       "1           4   185777      294638  2191-03-15T20:00:00Z   \n",
       "2           4   185777      294638  2191-03-16T00:00:00Z   \n",
       "3           4   185777      294638  2191-03-16T04:00:00Z   \n",
       "4           4   185777      294638  2191-03-16T08:00:00Z   \n",
       "\n",
       "      interval_end_time   ALBUMIN  ANION GAP     BANDS  BICARBONATE  \\\n",
       "0  2191-03-15T16:00:00Z -0.058925   0.767654 -0.393482     0.040999   \n",
       "1  2191-03-16T00:00:00Z -0.058925   0.767654 -0.393482     0.040999   \n",
       "2  2191-03-16T04:00:00Z -0.058925   0.767654 -0.393482     0.040999   \n",
       "3  2191-03-16T08:00:00Z -0.487176   0.271412 -0.393482    -0.600421   \n",
       "4  2191-03-16T12:00:00Z -0.487176   0.271412 -0.393482    -0.600421   \n",
       "\n",
       "   BILIRUBIN  ...  qsofa_sysbp_score  qsofa_gcs_score  qsofa_resprate_score  \\\n",
       "0   0.048183  ...           0.540022         -0.57893              0.390655   \n",
       "1   0.048183  ...           0.540022         -0.57893              0.390655   \n",
       "2   0.048183  ...           0.540022         -0.57893              0.390655   \n",
       "3  -0.020244  ...           0.540022         -0.57893              0.390655   \n",
       "4  -0.020244  ...           0.540022         -0.57893              0.390655   \n",
       "\n",
       "   elixhauser_hospital  blood_culture_positive  discrete_action  \\\n",
       "0             1.007645                1.461582                0   \n",
       "1             1.007645                1.461582                0   \n",
       "2             1.007645                1.461582                2   \n",
       "3             1.007645                1.461582                4   \n",
       "4             1.007645                1.461582                1   \n",
       "\n",
       "   hospital_expire_flag  reward  row_id  row_id_next  \n",
       "0                     0       0     0.0          1.0  \n",
       "1                     0       0     1.0          2.0  \n",
       "2                     0       0     2.0          3.0  \n",
       "3                     0       0     3.0          4.0  \n",
       "4                     0       0     4.0          5.0  \n",
       "\n",
       "[5 rows x 56 columns]"
      ]
     },
     "execution_count": 75,
     "metadata": {},
     "output_type": "execute_result"
    }
   ],
   "source": [
    "# create data for RNN\n",
    "final_df_train.head()"
   ]
  },
  {
   "cell_type": "code",
   "execution_count": 81,
   "metadata": {},
   "outputs": [
    {
     "data": {
      "text/plain": [
       "<matplotlib.axes._subplots.AxesSubplot at 0x126f78198>"
      ]
     },
     "execution_count": 81,
     "metadata": {},
     "output_type": "execute_result"
    },
    {
     "data": {
      "image/png": "[encoded data removed]",
      "text/plain": [
       "<Figure size 432x288 with 1 Axes>"
      ]
     },
     "metadata": {
      "needs_background": "light"
     },
     "output_type": "display_data"
    }
   ],
   "source": [
    "# episode length distribution\n",
    "sns.distplot(final_df_train.groupby(\"subject_id\").count()[\"hadm_id\"])"
   ]
  },
  {
   "cell_type": "code",
   "execution_count": 84,
   "metadata": {},
   "outputs": [
    {
     "data": {
      "text/plain": [
       "<matplotlib.axes._subplots.AxesSubplot at 0x12762fac8>"
      ]
     },
     "execution_count": 84,
     "metadata": {},
     "output_type": "execute_result"
    },
    {
     "data": {
      "image/png": "[encoded data removed]",
      "text/plain": [
       "<Figure size 432x288 with 1 Axes>"
      ]
     },
     "metadata": {
      "needs_background": "light"
     },
     "output_type": "display_data"
    }
   ],
   "source": [
    "# reward distribution\n",
    "sns.distplot(final_df_train[\"reward\"])"
   ]
  },
  {
   "cell_type": "code",
   "execution_count": 83,
   "metadata": {},
   "outputs": [
    {
     "data": {
      "text/plain": [
       "<matplotlib.axes._subplots.AxesSubplot at 0x127a95a58>"
      ]
     },
     "execution_count": 83,
     "metadata": {},
     "output_type": "execute_result"
    },
    {
     "data": {
      "image/png": "[encoded data removed]",
      "text/plain": [
       "<Figure size 432x288 with 1 Axes>"
      ]
     },
     "metadata": {
      "needs_background": "light"
     },
     "output_type": "display_data"
    }
   ],
   "source": [
    "# sofa distribution\n",
    "sns.distplot(final_df_train[\"sofa\"])"
   ]
  }
 ],
 "metadata": {
  "kernelspec": {
   "display_name": "cs234_project",
   "language": "python",
   "name": "cs234_project"
  },
  "language_info": {
   "codemirror_mode": {
    "name": "ipython",
    "version": 3
   },
   "file_extension": ".py",
   "mimetype": "text/x-python",
   "name": "python",
   "nbconvert_exporter": "python",
   "pygments_lexer": "ipython3",
   "version": "3.6.5"
  }
 },
 "nbformat": 4,
 "nbformat_minor": 2
}
