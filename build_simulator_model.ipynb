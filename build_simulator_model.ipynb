{
 "cells": [
  {
   "cell_type": "code",
   "execution_count": 15,
   "metadata": {},
   "outputs": [],
   "source": [
    "from __future__ import absolute_import, division, print_function\n",
    "\n",
    "import pandas as pd\n",
    "import numpy as np\n",
    "import sklearn as sk\n",
    "import os\n",
    "import tensorflow as tf\n",
    "from tensorflow import keras"
   ]
  },
  {
   "cell_type": "code",
   "execution_count": 16,
   "metadata": {},
   "outputs": [],
   "source": [
    "# %load_ext autoreload\n",
    "# %autoreload 2"
   ]
  },
  {
   "cell_type": "code",
   "execution_count": 17,
   "metadata": {},
   "outputs": [],
   "source": [
    "data = np.load(\"processed_data.npz\")"
   ]
  },
  {
   "cell_type": "code",
   "execution_count": 18,
   "metadata": {},
   "outputs": [
    {
     "data": {
      "text/plain": [
       "['x_train', 'y_train', 'x_valid', 'y_valid', 'x_test', 'y_test']"
      ]
     },
     "execution_count": 18,
     "metadata": {},
     "output_type": "execute_result"
    }
   ],
   "source": [
    "data.files"
   ]
  },
  {
   "cell_type": "code",
   "execution_count": 19,
   "metadata": {},
   "outputs": [],
   "source": [
    "features = tf.placeholder(shape=[None, 46 + 1], dtype=tf.float32) # features of current state + action\n",
    "labels = tf.placeholder(shape=[None, 46], dtype=tf.float32) # features of next state "
   ]
  },
  {
   "cell_type": "code",
   "execution_count": 20,
   "metadata": {},
   "outputs": [
    {
     "data": {
      "text/plain": [
       "(153582, 47)"
      ]
     },
     "execution_count": 20,
     "metadata": {},
     "output_type": "execute_result"
    }
   ],
   "source": [
    "data['x_train'].shape"
   ]
  },
  {
   "cell_type": "code",
   "execution_count": 21,
   "metadata": {},
   "outputs": [
    {
     "data": {
      "text/plain": [
       "(153582, 46)"
      ]
     },
     "execution_count": 21,
     "metadata": {},
     "output_type": "execute_result"
    }
   ],
   "source": [
    "data['y_train'].shape"
   ]
  },
  {
   "cell_type": "code",
   "execution_count": 22,
   "metadata": {},
   "outputs": [
    {
     "name": "stdout",
     "output_type": "stream",
     "text": [
      "_________________________________________________________________\n",
      "Layer (type)                 Output Shape              Param #   \n",
      "=================================================================\n",
      "dense_7 (Dense)              (None, 128)               6144      \n",
      "_________________________________________________________________\n",
      "dense_8 (Dense)              (None, 128)               16512     \n",
      "_________________________________________________________________\n",
      "dense_9 (Dense)              (None, 46)                5934      \n",
      "=================================================================\n",
      "Total params: 28,590\n",
      "Trainable params: 28,590\n",
      "Non-trainable params: 0\n",
      "_________________________________________________________________\n"
     ]
    }
   ],
   "source": [
    "model = keras.Sequential([\n",
    "    keras.layers.Dense(128, input_shape=(47,), activation=tf.nn.relu),\n",
    "    keras.layers.Dense(128, activation=tf.nn.relu),\n",
    "    keras.layers.Dense(46)\n",
    "])\n",
    "\n",
    "model.summary()"
   ]
  },
  {
   "cell_type": "code",
   "execution_count": 29,
   "metadata": {},
   "outputs": [],
   "source": [
    "optimizer = tf.keras.optimizers.Adam(lr=0.0005)\n",
    "\n",
    "model.compile(optimizer=optimizer, \n",
    "              loss='mean_squared_error',\n",
    "              metrics=['mean_squared_error','mean_absolute_error', 'accuracy'])"
   ]
  },
  {
   "cell_type": "code",
   "execution_count": 30,
   "metadata": {},
   "outputs": [
    {
     "name": "stdout",
     "output_type": "stream",
     "text": [
      "Epoch 1/5\n",
      "153582/153582 [==============================] - 7s 48us/step - loss: 0.3419 - mean_squared_error: 0.3419 - mean_absolute_error: 0.2566 - acc: 0.6550\n",
      "Epoch 2/5\n",
      "153582/153582 [==============================] - ETA: 0s - loss: 4.2964 - mean_squared_error: 4.2964 - mean_absolute_error: 0.2550 - acc: 0.68 - 7s 45us/step - loss: 4.2693 - mean_squared_error: 4.2693 - mean_absolute_error: 0.2549 - acc: 0.6892\n",
      "Epoch 3/5\n",
      "153582/153582 [==============================] - 7s 46us/step - loss: 3.6949 - mean_squared_error: 3.6949 - mean_absolute_error: 0.3142 - acc: 0.6435\n",
      "Epoch 4/5\n",
      "153582/153582 [==============================] - 7s 46us/step - loss: 5.9811 - mean_squared_error: 5.9811 - mean_absolute_error: 0.2966 - acc: 0.6531\n",
      "Epoch 5/5\n",
      "153582/153582 [==============================] - 7s 46us/step - loss: 4.0398 - mean_squared_error: 4.0398 - mean_absolute_error: 0.2789 - acc: 0.6556\n"
     ]
    },
    {
     "data": {
      "text/plain": [
       "<tensorflow.python.keras._impl.keras.callbacks.History at 0x12d7805c0>"
      ]
     },
     "execution_count": 30,
     "metadata": {},
     "output_type": "execute_result"
    }
   ],
   "source": [
    "model.fit(data['x_train'], data['y_train'], epochs=5)"
   ]
  },
  {
   "cell_type": "code",
   "execution_count": 188,
   "metadata": {},
   "outputs": [
    {
     "name": "stdout",
     "output_type": "stream",
     "text": [
      "19526/19526 [==============================] - 0s 23us/step\n"
     ]
    },
    {
     "data": {
      "text/plain": [
       "[0.6501050354222422, 0.6501050354222422]"
      ]
     },
     "execution_count": 188,
     "metadata": {},
     "output_type": "execute_result"
    }
   ],
   "source": [
    "model.evaluate(feature_array_valid, output_array_valid)"
   ]
  },
  {
   "cell_type": "code",
   "execution_count": 32,
   "metadata": {},
   "outputs": [
    {
     "data": {
      "text/plain": [
       "array([[-0.05892545,  0.76765437, -0.39348202, ...,  0.3906546 ,\n",
       "         1.00764494,  1.46158188],\n",
       "       [-0.05892545,  0.76765437, -0.39348202, ...,  0.3906546 ,\n",
       "         1.00764494,  1.46158188],\n",
       "       [-0.4871765 ,  0.27141224, -0.39348202, ...,  0.3906546 ,\n",
       "         1.00764494,  1.46158188],\n",
       "       ...,\n",
       "       [-0.05892545, -0.72107202,  0.29139339, ...,  0.3906546 ,\n",
       "         0.70272735,  1.46158188],\n",
       "       [-0.05892545, -0.47295096,  1.07410813, ...,  0.3906546 ,\n",
       "         0.70272735,  1.46158188],\n",
       "       [-0.05892545, -0.47295096,  1.07410813, ...,  0.3906546 ,\n",
       "         0.70272735,  1.46158188]])"
      ]
     },
     "execution_count": 32,
     "metadata": {},
     "output_type": "execute_result"
    }
   ],
   "source": [
    "rnn_x"
   ]
  },
  {
   "cell_type": "code",
   "execution_count": null,
   "metadata": {},
   "outputs": [],
   "source": []
  }
 ],
 "metadata": {
  "kernelspec": {
   "display_name": "Python3 (py3env)",
   "language": "python",
   "name": "p3env"
  },
  "language_info": {
   "codemirror_mode": {
    "name": "ipython",
    "version": 3
   },
   "file_extension": ".py",
   "mimetype": "text/x-python",
   "name": "python",
   "nbconvert_exporter": "python",
   "pygments_lexer": "ipython3",
   "version": "3.6.5"
  }
 },
 "nbformat": 4,
 "nbformat_minor": 2
}
