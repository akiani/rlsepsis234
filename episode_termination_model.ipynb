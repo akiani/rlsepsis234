{
 "cells": [
  {
   "cell_type": "code",
   "execution_count": 1,
   "metadata": {},
   "outputs": [],
   "source": [
    "from __future__ import absolute_import, division, print_function\n",
    "\n",
    "import pandas as pd\n",
    "import numpy as np\n",
    "import sklearn as sk\n",
    "import os\n",
    "import tensorflow as tf\n",
    "from tensorflow import keras\n",
    "import seaborn as sns\n",
    "import h5py as h5py\n",
    "from time import time\n",
    "import matplotlib.pyplot as plt\n",
    "from sklearn.preprocessing import OneHotEncoder\n",
    "import seaborn as sns\n",
    "\n",
    "# %load_ext autoreload\n",
    "# %autoreload 2"
   ]
  },
  {
   "cell_type": "code",
   "execution_count": 2,
   "metadata": {},
   "outputs": [],
   "source": [
    "data = np.load(\"processed_data.npz\")"
   ]
  },
  {
   "cell_type": "code",
   "execution_count": 3,
   "metadata": {},
   "outputs": [
    {
     "data": {
      "text/plain": [
       "['x_train', 'y_train', 'x_valid', 'y_valid', 'x_test', 'y_test']"
      ]
     },
     "execution_count": 3,
     "metadata": {},
     "output_type": "execute_result"
    }
   ],
   "source": [
    "data.files\n"
   ]
  },
  {
   "cell_type": "code",
   "execution_count": 4,
   "metadata": {},
   "outputs": [
    {
     "data": {
      "text/plain": [
       "<matplotlib.axes._subplots.AxesSubplot at 0x11c0cf828>"
      ]
     },
     "execution_count": 4,
     "metadata": {},
     "output_type": "execute_result"
    },
    {
     "data": {
      "image/png": "[encoded data removed]",
      "text/plain": [
       "<Figure size 432x288 with 1 Axes>"
      ]
     },
     "metadata": {
      "needs_background": "light"
     },
     "output_type": "display_data"
    }
   ],
   "source": [
    "sns.distplot(data['x_train'][:,46:47])"
   ]
  },
  {
   "cell_type": "code",
   "execution_count": 5,
   "metadata": {},
   "outputs": [],
   "source": [
    "data_path = \"data/\"\n",
    "\n",
    "final_df_train = pd.read_csv(data_path + 'train_state_action_reward_df.csv')\n",
    "final_df_val = pd.read_csv(data_path+ 'val_state_action_reward_df.csv')"
   ]
  },
  {
   "cell_type": "code",
   "execution_count": 6,
   "metadata": {},
   "outputs": [
    {
     "data": {
      "text/plain": [
       "(153582, 47)"
      ]
     },
     "execution_count": 6,
     "metadata": {},
     "output_type": "execute_result"
    }
   ],
   "source": [
    "data['x_train'].shape"
   ]
  },
  {
   "cell_type": "code",
   "execution_count": 7,
   "metadata": {},
   "outputs": [],
   "source": [
    "def term(df):\n",
    "    if df.reward == 0:\n",
    "        return \"continue\"\n",
    "    if df.reward == 15:\n",
    "        return \"released\"\n",
    "    if df.reward == -15:\n",
    "        return \"died\"\n",
    "    \n",
    "labels_train = final_df_train[['reward']].apply(term, axis=1).values.reshape(-1, 1)\n",
    "labels_valid = final_df_val[['reward']].apply(term, axis=1).values.reshape(-1, 1)\n",
    "\n",
    "\n",
    "enc = OneHotEncoder()\n",
    "enc.fit(labels_train)\n",
    "\n",
    "labels_train_one_hot = enc.transform(labels_train)\n",
    "labels_valid_one_hot = enc.transform(labels_valid)"
   ]
  },
  {
   "cell_type": "code",
   "execution_count": 8,
   "metadata": {},
   "outputs": [
    {
     "data": {
      "text/plain": [
       "[array(['continue', 'died', 'released'], dtype=object)]"
      ]
     },
     "execution_count": 8,
     "metadata": {},
     "output_type": "execute_result"
    }
   ],
   "source": [
    "enc.categories_"
   ]
  },
  {
   "cell_type": "code",
   "execution_count": 9,
   "metadata": {},
   "outputs": [
    {
     "data": {
      "text/plain": [
       "(153582, 3)"
      ]
     },
     "execution_count": 9,
     "metadata": {},
     "output_type": "execute_result"
    }
   ],
   "source": [
    "labels_train_one_hot.shape"
   ]
  },
  {
   "cell_type": "code",
   "execution_count": 10,
   "metadata": {},
   "outputs": [],
   "source": [
    "max_episode = 10\n",
    "\n",
    "def get_padded_matrix(x_, y_):\n",
    "    episode_matrix = np.zeros(shape=[x_.shape[0], max_episode, x_.shape[1]])\n",
    "    episode = []\n",
    "    labels_episode = []\n",
    "    for idx in range(len(x_)):\n",
    "        # within on episode\n",
    "        episode.append(x_[idx])\n",
    "        for event_idx in range(min(len(episode), max_episode)):\n",
    "            episode_matrix[idx][-(event_idx%max_episode)-1] = episode[-event_idx - 1]\n",
    "        if np.equal(x_[idx][:-1],y_[idx]).all():\n",
    "            # episode changed\n",
    "            episode = []\n",
    "    return episode_matrix"
   ]
  },
  {
   "cell_type": "code",
   "execution_count": 11,
   "metadata": {},
   "outputs": [],
   "source": [
    "train_matrix = get_padded_matrix( data['x_train'],  data['y_train'])"
   ]
  },
  {
   "cell_type": "code",
   "execution_count": 12,
   "metadata": {},
   "outputs": [],
   "source": [
    "valid_matrix = get_padded_matrix( data['x_valid'],  data['y_valid'])"
   ]
  },
  {
   "cell_type": "code",
   "execution_count": 13,
   "metadata": {},
   "outputs": [],
   "source": [
    "model = tf.keras.Sequential([\n",
    "    tf.keras.layers.LSTM(50, input_shape=(train_matrix.shape[1], train_matrix.shape[2])),\n",
    "    tf.keras.layers.Dense(128, activation='relu'),\n",
    "    tf.keras.layers.Dense(3, activation='softmax')\n",
    "])"
   ]
  },
  {
   "cell_type": "code",
   "execution_count": 14,
   "metadata": {},
   "outputs": [
    {
     "name": "stdout",
     "output_type": "stream",
     "text": [
      "_________________________________________________________________\n",
      "Layer (type)                 Output Shape              Param #   \n",
      "=================================================================\n",
      "lstm_1 (LSTM)                (None, 50)                19600     \n",
      "_________________________________________________________________\n",
      "dense_1 (Dense)              (None, 128)               6528      \n",
      "_________________________________________________________________\n",
      "dense_2 (Dense)              (None, 3)                 387       \n",
      "=================================================================\n",
      "Total params: 26,515\n",
      "Trainable params: 26,515\n",
      "Non-trainable params: 0\n",
      "_________________________________________________________________\n"
     ]
    }
   ],
   "source": [
    "model.summary()"
   ]
  },
  {
   "cell_type": "code",
   "execution_count": 15,
   "metadata": {},
   "outputs": [],
   "source": [
    "optimizer = keras.optimizers.Adam()\n",
    "model.compile(optimizer='adam', loss='categorical_crossentropy', metrics=['accuracy'])"
   ]
  },
  {
   "cell_type": "code",
   "execution_count": 16,
   "metadata": {},
   "outputs": [
    {
     "data": {
      "text/plain": [
       "(153582, 3)"
      ]
     },
     "execution_count": 16,
     "metadata": {},
     "output_type": "execute_result"
    }
   ],
   "source": [
    "valid_matrix.shape\n",
    "labels_train_one_hot.shape"
   ]
  },
  {
   "cell_type": "code",
   "execution_count": 17,
   "metadata": {},
   "outputs": [
    {
     "data": {
      "text/plain": [
       "(19527, 3)"
      ]
     },
     "execution_count": 17,
     "metadata": {},
     "output_type": "execute_result"
    }
   ],
   "source": [
    "train_matrix.shape\n",
    "labels_valid_one_hot.shape"
   ]
  },
  {
   "cell_type": "code",
   "execution_count": 18,
   "metadata": {},
   "outputs": [
    {
     "name": "stdout",
     "output_type": "stream",
     "text": [
      "Train on 153582 samples, validate on 19527 samples\n",
      "Epoch 1/10\n",
      "153582/153582 [==============================] - 10s 65us/step - loss: 0.3611 - acc: 0.9044 - val_loss: 0.2748 - val_acc: 0.9128\n",
      "Epoch 2/10\n",
      "153582/153582 [==============================] - 9s 61us/step - loss: 0.2697 - acc: 0.9108 - val_loss: 0.2599 - val_acc: 0.9135\n",
      "Epoch 3/10\n",
      "153582/153582 [==============================] - 10s 62us/step - loss: 0.2600 - acc: 0.9113 - val_loss: 0.2552 - val_acc: 0.9142\n",
      "Epoch 4/10\n",
      "153582/153582 [==============================] - 12s 75us/step - loss: 0.2553 - acc: 0.9116 - val_loss: 0.2524 - val_acc: 0.9146\n",
      "Epoch 5/10\n",
      "153582/153582 [==============================] - 10s 64us/step - loss: 0.2518 - acc: 0.9118 - val_loss: 0.2519 - val_acc: 0.9142\n",
      "Epoch 6/10\n",
      "153582/153582 [==============================] - 9s 59us/step - loss: 0.2495 - acc: 0.9121 - val_loss: 0.2499 - val_acc: 0.9143\n",
      "Epoch 7/10\n",
      "153582/153582 [==============================] - 10s 66us/step - loss: 0.2471 - acc: 0.9127 - val_loss: 0.2488 - val_acc: 0.9148\n",
      "Epoch 8/10\n",
      "153582/153582 [==============================] - 10s 62us/step - loss: 0.2449 - acc: 0.9131 - val_loss: 0.2502 - val_acc: 0.9147\n",
      "Epoch 9/10\n",
      "153582/153582 [==============================] - 10s 62us/step - loss: 0.2430 - acc: 0.9134 - val_loss: 0.2477 - val_acc: 0.9152\n",
      "Epoch 10/10\n",
      "153582/153582 [==============================] - 9s 59us/step - loss: 0.2412 - acc: 0.9138 - val_loss: 0.2482 - val_acc: 0.9149\n"
     ]
    },
    {
     "data": {
      "text/plain": [
       "<tensorflow.python.keras._impl.keras.callbacks.History at 0x11ea6ebe0>"
      ]
     },
     "execution_count": 18,
     "metadata": {},
     "output_type": "execute_result"
    }
   ],
   "source": [
    "tensorboard = keras.callbacks.TensorBoard(log_dir=\"logs/mortality{}\".format(time()))\n",
    "model.fit(train_matrix, labels_train_one_hot, epochs=10, batch_size=1000, validation_data=(valid_matrix, labels_valid_one_hot), callbacks=[tensorboard])"
   ]
  },
  {
   "cell_type": "code",
   "execution_count": 19,
   "metadata": {},
   "outputs": [],
   "source": [
    "model.save(\"sepsis_mortality.model\")"
   ]
  },
  {
   "cell_type": "code",
   "execution_count": null,
   "metadata": {},
   "outputs": [],
   "source": []
  }
 ],
 "metadata": {
  "kernelspec": {
   "display_name": "cs234_project",
   "language": "python",
   "name": "cs234_project"
  },
  "language_info": {
   "codemirror_mode": {
    "name": "ipython",
    "version": 3
   },
   "file_extension": ".py",
   "mimetype": "text/x-python",
   "name": "python",
   "nbconvert_exporter": "python",
   "pygments_lexer": "ipython3",
   "version": "3.6.5"
  }
 },
 "nbformat": 4,
 "nbformat_minor": 2
}
